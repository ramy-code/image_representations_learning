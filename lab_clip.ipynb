{
  "nbformat": 4,
  "nbformat_minor": 0,
  "metadata": {
    "colab": {
      "provenance": [],
      "gpuType": "T4"
    },
    "kernelspec": {
      "name": "python3",
      "display_name": "Python 3"
    },
    "language_info": {
      "name": "python"
    },
    "accelerator": "GPU"
  },
  "cells": [
    {
      "cell_type": "code",
      "execution_count": 2,
      "metadata": {
        "colab": {
          "base_uri": "https://localhost:8080/"
        },
        "id": "5_-zhCjbsFnF",
        "outputId": "af1ff423-cf5e-40b8-e7c3-35e1e32968d0"
      },
      "outputs": [
        {
          "output_type": "stream",
          "name": "stdout",
          "text": [
            "Collecting ftfy\n",
            "  Downloading ftfy-6.3.1-py3-none-any.whl.metadata (7.3 kB)\n",
            "Requirement already satisfied: regex in /usr/local/lib/python3.10/dist-packages (2024.11.6)\n",
            "Requirement already satisfied: tqdm in /usr/local/lib/python3.10/dist-packages (4.67.1)\n",
            "Requirement already satisfied: wcwidth in /usr/local/lib/python3.10/dist-packages (from ftfy) (0.2.13)\n",
            "Downloading ftfy-6.3.1-py3-none-any.whl (44 kB)\n",
            "\u001b[?25l   \u001b[90m━━━━━━━━━━━━━━━━━━━━━━━━━━━━━━━━━━━━━━━━\u001b[0m \u001b[32m0.0/44.8 kB\u001b[0m \u001b[31m?\u001b[0m eta \u001b[36m-:--:--\u001b[0m\r\u001b[2K   \u001b[90m━━━━━━━━━━━━━━━━━━━━━━━━━━━━━━━━━━━━━━━━\u001b[0m \u001b[32m44.8/44.8 kB\u001b[0m \u001b[31m2.6 MB/s\u001b[0m eta \u001b[36m0:00:00\u001b[0m\n",
            "\u001b[?25hInstalling collected packages: ftfy\n",
            "Successfully installed ftfy-6.3.1\n",
            "Collecting git+https://github.com/openai/CLIP.git\n",
            "  Cloning https://github.com/openai/CLIP.git to /tmp/pip-req-build-lhds3j4w\n",
            "  Running command git clone --filter=blob:none --quiet https://github.com/openai/CLIP.git /tmp/pip-req-build-lhds3j4w\n",
            "  Resolved https://github.com/openai/CLIP.git to commit dcba3cb2e2827b402d2701e7e1c7d9fed8a20ef1\n",
            "  Preparing metadata (setup.py) ... \u001b[?25l\u001b[?25hdone\n",
            "Requirement already satisfied: ftfy in /usr/local/lib/python3.10/dist-packages (from clip==1.0) (6.3.1)\n",
            "Requirement already satisfied: packaging in /usr/local/lib/python3.10/dist-packages (from clip==1.0) (24.2)\n",
            "Requirement already satisfied: regex in /usr/local/lib/python3.10/dist-packages (from clip==1.0) (2024.11.6)\n",
            "Requirement already satisfied: tqdm in /usr/local/lib/python3.10/dist-packages (from clip==1.0) (4.67.1)\n",
            "Requirement already satisfied: torch in /usr/local/lib/python3.10/dist-packages (from clip==1.0) (2.5.1+cu121)\n",
            "Requirement already satisfied: torchvision in /usr/local/lib/python3.10/dist-packages (from clip==1.0) (0.20.1+cu121)\n",
            "Requirement already satisfied: wcwidth in /usr/local/lib/python3.10/dist-packages (from ftfy->clip==1.0) (0.2.13)\n",
            "Requirement already satisfied: filelock in /usr/local/lib/python3.10/dist-packages (from torch->clip==1.0) (3.16.1)\n",
            "Requirement already satisfied: typing-extensions>=4.8.0 in /usr/local/lib/python3.10/dist-packages (from torch->clip==1.0) (4.12.2)\n",
            "Requirement already satisfied: networkx in /usr/local/lib/python3.10/dist-packages (from torch->clip==1.0) (3.4.2)\n",
            "Requirement already satisfied: jinja2 in /usr/local/lib/python3.10/dist-packages (from torch->clip==1.0) (3.1.4)\n",
            "Requirement already satisfied: fsspec in /usr/local/lib/python3.10/dist-packages (from torch->clip==1.0) (2024.10.0)\n",
            "Requirement already satisfied: sympy==1.13.1 in /usr/local/lib/python3.10/dist-packages (from torch->clip==1.0) (1.13.1)\n",
            "Requirement already satisfied: mpmath<1.4,>=1.1.0 in /usr/local/lib/python3.10/dist-packages (from sympy==1.13.1->torch->clip==1.0) (1.3.0)\n",
            "Requirement already satisfied: numpy in /usr/local/lib/python3.10/dist-packages (from torchvision->clip==1.0) (1.26.4)\n",
            "Requirement already satisfied: pillow!=8.3.*,>=5.3.0 in /usr/local/lib/python3.10/dist-packages (from torchvision->clip==1.0) (11.0.0)\n",
            "Requirement already satisfied: MarkupSafe>=2.0 in /usr/local/lib/python3.10/dist-packages (from jinja2->torch->clip==1.0) (3.0.2)\n",
            "Building wheels for collected packages: clip\n",
            "  Building wheel for clip (setup.py) ... \u001b[?25l\u001b[?25hdone\n",
            "  Created wheel for clip: filename=clip-1.0-py3-none-any.whl size=1369489 sha256=22a98c518ca63d508f6ea1e74c6f64c2f13ddeb46cf8f08e4c637afbe60076ac\n",
            "  Stored in directory: /tmp/pip-ephem-wheel-cache-v9un2gln/wheels/da/2b/4c/d6691fa9597aac8bb85d2ac13b112deb897d5b50f5ad9a37e4\n",
            "Successfully built clip\n",
            "Installing collected packages: clip\n",
            "Successfully installed clip-1.0\n"
          ]
        }
      ],
      "source": [
        "! pip install ftfy regex tqdm\n",
        "! pip install git+https://github.com/openai/CLIP.git"
      ]
    },
    {
      "cell_type": "markdown",
      "source": [],
      "metadata": {
        "id": "h07E6dPssMj1"
      }
    },
    {
      "cell_type": "code",
      "source": [
        "import clip\n",
        "import numpy as np\n",
        "\n",
        "clip.available_models()"
      ],
      "metadata": {
        "colab": {
          "base_uri": "https://localhost:8080/"
        },
        "id": "YXqgJgKMsKON",
        "outputId": "6b4e027a-cfaa-4346-f26b-a8c85dd2180e"
      },
      "execution_count": 3,
      "outputs": [
        {
          "output_type": "execute_result",
          "data": {
            "text/plain": [
              "['RN50',\n",
              " 'RN101',\n",
              " 'RN50x4',\n",
              " 'RN50x16',\n",
              " 'RN50x64',\n",
              " 'ViT-B/32',\n",
              " 'ViT-B/16',\n",
              " 'ViT-L/14',\n",
              " 'ViT-L/14@336px']"
            ]
          },
          "metadata": {},
          "execution_count": 3
        }
      ]
    },
    {
      "cell_type": "code",
      "source": [
        "model_vit, preprocess_vit = clip.load(\"ViT-B/16\")\n",
        "model_rn, preprocess_rn = clip.load(\"RN50x16\")"
      ],
      "metadata": {
        "colab": {
          "base_uri": "https://localhost:8080/"
        },
        "id": "7mqhNTo9sO75",
        "outputId": "586ff11b-45f0-4dd2-881e-a91a0bdc1dc6"
      },
      "execution_count": 5,
      "outputs": [
        {
          "output_type": "stream",
          "name": "stderr",
          "text": [
            "100%|███████████████████████████████████████| 335M/335M [00:07<00:00, 47.9MiB/s]\n",
            "100%|███████████████████████████████████████| 630M/630M [00:53<00:00, 12.4MiB/s]\n"
          ]
        }
      ]
    },
    {
      "cell_type": "code",
      "source": [
        "model_vit, preprocess_vit = clip.load(\"ViT-B/16\")\n"
      ],
      "metadata": {
        "colab": {
          "base_uri": "https://localhost:8080/"
        },
        "id": "3xgh7g6-G6kG",
        "outputId": "3cc7e0d8-562a-421b-bf76-59facd3daf51"
      },
      "execution_count": 4,
      "outputs": [
        {
          "output_type": "stream",
          "name": "stderr",
          "text": [
            "100%|███████████████████████████████████████| 335M/335M [00:05<00:00, 61.1MiB/s]\n"
          ]
        }
      ]
    },
    {
      "cell_type": "code",
      "source": [
        "import torch\n",
        "from torchvision import transforms\n",
        "from torchvision.datasets import CIFAR10\n",
        "from torch.utils.data import DataLoader\n",
        "from PIL import Image\n",
        "import os"
      ],
      "metadata": {
        "id": "pFVapvpkswAJ"
      },
      "execution_count": 5,
      "outputs": []
    },
    {
      "cell_type": "code",
      "source": [
        "device = \"cuda\" if torch.cuda.is_available() else \"cpu\"\n",
        "model_vit= model_vit.to(device)\n",
        "#model_vit, model_rn = model_vit.to(device), model_rn.to(device)"
      ],
      "metadata": {
        "id": "uiODN6Yuswzc"
      },
      "execution_count": 6,
      "outputs": []
    },
    {
      "cell_type": "code",
      "source": [
        "device"
      ],
      "metadata": {
        "colab": {
          "base_uri": "https://localhost:8080/",
          "height": 35
        },
        "id": "p129nUeRKD26",
        "outputId": "0d8e05ec-8e43-4187-8e48-adcd49e22376"
      },
      "execution_count": 8,
      "outputs": [
        {
          "output_type": "execute_result",
          "data": {
            "text/plain": [
              "'cuda'"
            ],
            "application/vnd.google.colaboratory.intrinsic+json": {
              "type": "string"
            }
          },
          "metadata": {},
          "execution_count": 8
        }
      ]
    },
    {
      "cell_type": "code",
      "source": [
        "def load_cifar10(preprocess, batch_size=32):\n",
        "    dataset = CIFAR10(root=\"./data\", train=False, download=True, transform=preprocess)\n",
        "    dataloader = DataLoader(dataset, batch_size=batch_size, shuffle=False)\n",
        "    return dataloader, dataset.classes\n",
        "\n",
        "batch_size = 32\n",
        "dataloader_vit, class_names = load_cifar10(preprocess_vit, batch_size)\n",
        "dataloader_rn, _ = load_cifar10(preprocess_rn, batch_size)"
      ],
      "metadata": {
        "colab": {
          "base_uri": "https://localhost:8080/"
        },
        "id": "FMxAGhd8ueVl",
        "outputId": "d699d8e9-4160-4653-f2fe-1472e42028d1"
      },
      "execution_count": null,
      "outputs": [
        {
          "output_type": "stream",
          "name": "stdout",
          "text": [
            "Downloading https://www.cs.toronto.edu/~kriz/cifar-10-python.tar.gz to ./data/cifar-10-python.tar.gz\n"
          ]
        },
        {
          "output_type": "stream",
          "name": "stderr",
          "text": [
            "100%|██████████| 170M/170M [00:18<00:00, 9.11MB/s]\n"
          ]
        },
        {
          "output_type": "stream",
          "name": "stdout",
          "text": [
            "Extracting ./data/cifar-10-python.tar.gz to ./data\n",
            "Files already downloaded and verified\n"
          ]
        }
      ]
    },
    {
      "cell_type": "code",
      "source": [
        "from torchvision.datasets import Places365\n"
      ],
      "metadata": {
        "id": "aUJVejj2HvfR"
      },
      "execution_count": 12,
      "outputs": []
    },
    {
      "cell_type": "code",
      "source": [
        "places_dataset = Places365(\n",
        "    root=\"places365\",\n",
        "    split=\"val\",\n",
        "    small=True,\n",
        "    transform=preprocess_vit,\n",
        "    download=True\n",
        ")\n",
        "\n",
        "places_loader = DataLoader(places_dataset, batch_size=32, shuffle=False)"
      ],
      "metadata": {
        "colab": {
          "base_uri": "https://localhost:8080/"
        },
        "id": "A8-NDAtyHs9M",
        "outputId": "3bb7325a-908f-428b-ca79-56d20c29cd8b"
      },
      "execution_count": 13,
      "outputs": [
        {
          "output_type": "stream",
          "name": "stdout",
          "text": [
            "Downloading https://data.csail.mit.edu/places/places365/filelist_places365-standard.tar to places365/filelist_places365-standard.tar\n"
          ]
        },
        {
          "output_type": "stream",
          "name": "stderr",
          "text": [
            "100%|██████████| 67.5M/67.5M [00:01<00:00, 36.6MB/s]\n"
          ]
        },
        {
          "output_type": "stream",
          "name": "stdout",
          "text": [
            "Extracting places365/filelist_places365-standard.tar to places365\n",
            "Downloading https://data.csail.mit.edu/places/places365/val_256.tar to places365/val_256.tar\n"
          ]
        },
        {
          "output_type": "stream",
          "name": "stderr",
          "text": [
            "100%|██████████| 525M/525M [00:11<00:00, 46.3MB/s]\n"
          ]
        },
        {
          "output_type": "stream",
          "name": "stdout",
          "text": [
            "Extracting places365/val_256.tar to places365\n"
          ]
        }
      ]
    },
    {
      "cell_type": "code",
      "source": [
        "class_names = places_dataset.classes"
      ],
      "metadata": {
        "id": "V9_m964NIWNr"
      },
      "execution_count": 14,
      "outputs": []
    },
    {
      "cell_type": "code",
      "source": [
        "text_tokens = clip.tokenize([f\"This is a photo of a {label}\" for label in class_names]).to(device)\n",
        "\n",
        "with torch.no_grad():\n",
        "    text_features_vit = model_vit.encode_text(text_tokens).float()\n",
        "    text_features_vit /= text_features_vit.norm(dim=-1, keepdim=True)\n",
        "\n",
        "    # text_features_rn = model_rn.encode_text(text_tokens).float()\n",
        "    # text_features_rn /= text_features_rn.norm(dim=-1, keepdim=True)"
      ],
      "metadata": {
        "id": "HU4-oqzutG6j"
      },
      "execution_count": 18,
      "outputs": []
    },
    {
      "cell_type": "code",
      "source": [
        "from tqdm import tqdm\n",
        "import time"
      ],
      "metadata": {
        "id": "YEt_fsw3HrK5"
      },
      "execution_count": 16,
      "outputs": []
    },
    {
      "cell_type": "code",
      "source": [
        "all_labels = []\n",
        "predictions_vit = []\n",
        "predictions_rn = []\n",
        "for (images_vit, labels)in tqdm(places_loader):\n",
        "    start = time.time()\n",
        "    images_vit = images_vit.to(device)\n",
        "    labels = labels.to(device)\n",
        "    all_labels.extend(labels.cpu().numpy())\n",
        "    with torch.no_grad():\n",
        "      image_features_vit = model_vit.encode_image(images_vit).float()\n",
        "      image_features_vit /= image_features_vit.norm(dim=-1, keepdim=True)\n",
        "\n",
        "      text_probs_vit = (100.0 * image_features_vit @ text_features_vit.T).softmax(dim=-1)\n",
        "      predictions_vit.extend(text_probs_vit.argmax(dim=-1))\n",
        "    end = time.time()\n",
        "    print(end - start)"
      ],
      "metadata": {
        "colab": {
          "base_uri": "https://localhost:8080/"
        },
        "id": "a0LLuf24IkAV",
        "outputId": "995c7b44-eac5-40b6-ec05-9321a2fabf39"
      },
      "execution_count": 19,
      "outputs": [
        {
          "output_type": "stream",
          "name": "stderr",
          "text": [
            "  0%|          | 2/1141 [00:01<08:26,  2.25it/s]"
          ]
        },
        {
          "output_type": "stream",
          "name": "stdout",
          "text": [
            "0.7248308658599854\n",
            "0.013213872909545898\n"
          ]
        },
        {
          "output_type": "stream",
          "name": "stderr",
          "text": [
            "  0%|          | 4/1141 [00:01<04:11,  4.52it/s]"
          ]
        },
        {
          "output_type": "stream",
          "name": "stdout",
          "text": [
            "0.025622129440307617\n",
            "0.015870332717895508\n"
          ]
        },
        {
          "output_type": "stream",
          "name": "stderr",
          "text": [
            "  1%|          | 6/1141 [00:01<02:56,  6.41it/s]"
          ]
        },
        {
          "output_type": "stream",
          "name": "stdout",
          "text": [
            "0.013605594635009766\n",
            "0.012927055358886719\n"
          ]
        },
        {
          "output_type": "stream",
          "name": "stderr",
          "text": [
            "  1%|          | 8/1141 [00:01<02:31,  7.46it/s]"
          ]
        },
        {
          "output_type": "stream",
          "name": "stdout",
          "text": [
            "0.013387918472290039\n",
            "0.013454914093017578\n"
          ]
        },
        {
          "output_type": "stream",
          "name": "stderr",
          "text": [
            "  1%|          | 10/1141 [00:01<02:14,  8.38it/s]"
          ]
        },
        {
          "output_type": "stream",
          "name": "stdout",
          "text": [
            "0.013756275177001953\n",
            "0.013134002685546875\n"
          ]
        },
        {
          "output_type": "stream",
          "name": "stderr",
          "text": [
            "  1%|          | 12/1141 [00:02<02:08,  8.76it/s]"
          ]
        },
        {
          "output_type": "stream",
          "name": "stdout",
          "text": [
            "0.014430522918701172\n",
            "0.013414144515991211\n"
          ]
        },
        {
          "output_type": "stream",
          "name": "stderr",
          "text": [
            "  1%|          | 14/1141 [00:02<02:10,  8.61it/s]"
          ]
        },
        {
          "output_type": "stream",
          "name": "stdout",
          "text": [
            "0.014400959014892578\n",
            "0.013947725296020508\n"
          ]
        },
        {
          "output_type": "stream",
          "name": "stderr",
          "text": [
            "  1%|▏         | 16/1141 [00:02<02:09,  8.67it/s]"
          ]
        },
        {
          "output_type": "stream",
          "name": "stdout",
          "text": [
            "0.01368260383605957\n",
            "0.017790794372558594\n"
          ]
        },
        {
          "output_type": "stream",
          "name": "stderr",
          "text": [
            "  2%|▏         | 18/1141 [00:02<02:06,  8.89it/s]"
          ]
        },
        {
          "output_type": "stream",
          "name": "stdout",
          "text": [
            "0.013607501983642578\n",
            "0.013919591903686523\n"
          ]
        },
        {
          "output_type": "stream",
          "name": "stderr",
          "text": [
            "  2%|▏         | 20/1141 [00:03<02:14,  8.36it/s]"
          ]
        },
        {
          "output_type": "stream",
          "name": "stdout",
          "text": [
            "0.02116703987121582\n",
            "0.013918638229370117\n"
          ]
        },
        {
          "output_type": "stream",
          "name": "stderr",
          "text": [
            "  2%|▏         | 22/1141 [00:03<02:09,  8.65it/s]"
          ]
        },
        {
          "output_type": "stream",
          "name": "stdout",
          "text": [
            "0.013946294784545898\n",
            "0.01729893684387207\n"
          ]
        },
        {
          "output_type": "stream",
          "name": "stderr",
          "text": [
            "\r  2%|▏         | 23/1141 [00:03<02:15,  8.25it/s]"
          ]
        },
        {
          "output_type": "stream",
          "name": "stdout",
          "text": [
            "0.016592025756835938\n"
          ]
        },
        {
          "output_type": "stream",
          "name": "stderr",
          "text": [
            "\r  2%|▏         | 24/1141 [00:03<03:53,  4.77it/s]"
          ]
        },
        {
          "output_type": "stream",
          "name": "stdout",
          "text": [
            "0.030469179153442383\n"
          ]
        },
        {
          "output_type": "stream",
          "name": "stderr",
          "text": [
            "  2%|▏         | 26/1141 [00:04<03:24,  5.44it/s]"
          ]
        },
        {
          "output_type": "stream",
          "name": "stdout",
          "text": [
            "0.013310670852661133\n",
            "0.013654232025146484\n"
          ]
        },
        {
          "output_type": "stream",
          "name": "stderr",
          "text": [
            "  2%|▏         | 28/1141 [00:04<02:43,  6.81it/s]"
          ]
        },
        {
          "output_type": "stream",
          "name": "stdout",
          "text": [
            "0.02257561683654785\n",
            "0.013362646102905273\n"
          ]
        },
        {
          "output_type": "stream",
          "name": "stderr",
          "text": [
            "\r  3%|▎         | 29/1141 [00:04<02:45,  6.71it/s]"
          ]
        },
        {
          "output_type": "stream",
          "name": "stdout",
          "text": [
            "0.031009912490844727\n"
          ]
        },
        {
          "output_type": "stream",
          "name": "stderr",
          "text": [
            "  3%|▎         | 31/1141 [00:05<03:59,  4.64it/s]"
          ]
        },
        {
          "output_type": "stream",
          "name": "stdout",
          "text": [
            "0.02104806900024414\n",
            "0.013875246047973633\n"
          ]
        },
        {
          "output_type": "stream",
          "name": "stderr",
          "text": [
            "  3%|▎         | 33/1141 [00:05<03:03,  6.03it/s]"
          ]
        },
        {
          "output_type": "stream",
          "name": "stdout",
          "text": [
            "0.013927221298217773\n",
            "0.013738870620727539\n"
          ]
        },
        {
          "output_type": "stream",
          "name": "stderr",
          "text": [
            "\r  3%|▎         | 34/1141 [00:05<02:43,  6.76it/s]"
          ]
        },
        {
          "output_type": "stream",
          "name": "stdout",
          "text": [
            "0.013524293899536133\n"
          ]
        },
        {
          "output_type": "stream",
          "name": "stderr",
          "text": [
            "\r  3%|▎         | 35/1141 [00:05<03:46,  4.89it/s]"
          ]
        },
        {
          "output_type": "stream",
          "name": "stdout",
          "text": [
            "0.05716967582702637\n"
          ]
        },
        {
          "output_type": "stream",
          "name": "stderr",
          "text": [
            "  3%|▎         | 37/1141 [00:06<03:37,  5.09it/s]"
          ]
        },
        {
          "output_type": "stream",
          "name": "stdout",
          "text": [
            "0.017961978912353516\n",
            "0.013365983963012695\n"
          ]
        },
        {
          "output_type": "stream",
          "name": "stderr",
          "text": [
            "  3%|▎         | 39/1141 [00:06<02:48,  6.54it/s]"
          ]
        },
        {
          "output_type": "stream",
          "name": "stdout",
          "text": [
            "0.013506889343261719\n",
            "0.013350248336791992\n"
          ]
        },
        {
          "output_type": "stream",
          "name": "stderr",
          "text": [
            "  4%|▎         | 41/1141 [00:06<02:21,  7.75it/s]"
          ]
        },
        {
          "output_type": "stream",
          "name": "stdout",
          "text": [
            "0.014990568161010742\n",
            "0.013562202453613281\n"
          ]
        },
        {
          "output_type": "stream",
          "name": "stderr",
          "text": [
            "  4%|▍         | 43/1141 [00:06<02:12,  8.27it/s]"
          ]
        },
        {
          "output_type": "stream",
          "name": "stdout",
          "text": [
            "0.013905048370361328\n",
            "0.014602184295654297\n"
          ]
        },
        {
          "output_type": "stream",
          "name": "stderr",
          "text": [
            "  4%|▍         | 45/1141 [00:07<02:06,  8.64it/s]"
          ]
        },
        {
          "output_type": "stream",
          "name": "stdout",
          "text": [
            "0.013784408569335938\n",
            "0.013431787490844727\n"
          ]
        },
        {
          "output_type": "stream",
          "name": "stderr",
          "text": [
            "  4%|▍         | 47/1141 [00:07<02:05,  8.73it/s]"
          ]
        },
        {
          "output_type": "stream",
          "name": "stdout",
          "text": [
            "0.014498710632324219\n",
            "0.013643980026245117\n"
          ]
        },
        {
          "output_type": "stream",
          "name": "stderr",
          "text": [
            "  4%|▍         | 49/1141 [00:07<02:01,  8.99it/s]"
          ]
        },
        {
          "output_type": "stream",
          "name": "stdout",
          "text": [
            "0.013493061065673828\n",
            "0.013738155364990234\n"
          ]
        },
        {
          "output_type": "stream",
          "name": "stderr",
          "text": [
            "  4%|▍         | 51/1141 [00:07<02:05,  8.67it/s]"
          ]
        },
        {
          "output_type": "stream",
          "name": "stdout",
          "text": [
            "0.014819145202636719\n",
            "0.013422012329101562\n"
          ]
        },
        {
          "output_type": "stream",
          "name": "stderr",
          "text": [
            "  5%|▍         | 53/1141 [00:08<02:03,  8.84it/s]"
          ]
        },
        {
          "output_type": "stream",
          "name": "stdout",
          "text": [
            "0.013434648513793945\n",
            "0.013821601867675781\n"
          ]
        },
        {
          "output_type": "stream",
          "name": "stderr",
          "text": [
            "  5%|▍         | 55/1141 [00:08<01:58,  9.14it/s]"
          ]
        },
        {
          "output_type": "stream",
          "name": "stdout",
          "text": [
            "0.014160394668579102\n",
            "0.01367807388305664\n"
          ]
        },
        {
          "output_type": "stream",
          "name": "stderr",
          "text": [
            "  5%|▍         | 57/1141 [00:08<01:59,  9.07it/s]"
          ]
        },
        {
          "output_type": "stream",
          "name": "stdout",
          "text": [
            "0.013367176055908203\n",
            "0.012929201126098633\n"
          ]
        },
        {
          "output_type": "stream",
          "name": "stderr",
          "text": [
            "  5%|▌         | 59/1141 [00:08<01:58,  9.14it/s]"
          ]
        },
        {
          "output_type": "stream",
          "name": "stdout",
          "text": [
            "0.015060186386108398\n",
            "0.013476133346557617\n"
          ]
        },
        {
          "output_type": "stream",
          "name": "stderr",
          "text": [
            "  5%|▌         | 61/1141 [00:08<02:02,  8.83it/s]"
          ]
        },
        {
          "output_type": "stream",
          "name": "stdout",
          "text": [
            "0.01792287826538086\n",
            "0.01428532600402832\n"
          ]
        },
        {
          "output_type": "stream",
          "name": "stderr",
          "text": [
            "  6%|▌         | 63/1141 [00:09<02:01,  8.89it/s]"
          ]
        },
        {
          "output_type": "stream",
          "name": "stdout",
          "text": [
            "0.013598918914794922\n",
            "0.013892412185668945\n"
          ]
        },
        {
          "output_type": "stream",
          "name": "stderr",
          "text": [
            "  6%|▌         | 65/1141 [00:09<02:02,  8.76it/s]"
          ]
        },
        {
          "output_type": "stream",
          "name": "stdout",
          "text": [
            "0.014183282852172852\n",
            "0.013392925262451172\n"
          ]
        },
        {
          "output_type": "stream",
          "name": "stderr",
          "text": [
            "  6%|▌         | 67/1141 [00:09<01:58,  9.04it/s]"
          ]
        },
        {
          "output_type": "stream",
          "name": "stdout",
          "text": [
            "0.014578819274902344\n",
            "0.013939142227172852\n"
          ]
        },
        {
          "output_type": "stream",
          "name": "stderr",
          "text": [
            "  6%|▌         | 69/1141 [00:09<01:59,  8.96it/s]"
          ]
        },
        {
          "output_type": "stream",
          "name": "stdout",
          "text": [
            "0.013972759246826172\n",
            "0.019939661026000977\n"
          ]
        },
        {
          "output_type": "stream",
          "name": "stderr",
          "text": [
            "  6%|▌         | 71/1141 [00:10<02:00,  8.85it/s]"
          ]
        },
        {
          "output_type": "stream",
          "name": "stdout",
          "text": [
            "0.013909101486206055\n",
            "0.013402938842773438\n"
          ]
        },
        {
          "output_type": "stream",
          "name": "stderr",
          "text": [
            "  6%|▋         | 73/1141 [00:10<01:58,  8.99it/s]"
          ]
        },
        {
          "output_type": "stream",
          "name": "stdout",
          "text": [
            "0.013654708862304688\n",
            "0.013598203659057617\n"
          ]
        },
        {
          "output_type": "stream",
          "name": "stderr",
          "text": [
            "  7%|▋         | 75/1141 [00:10<01:59,  8.89it/s]"
          ]
        },
        {
          "output_type": "stream",
          "name": "stdout",
          "text": [
            "0.01421499252319336\n",
            "0.013594388961791992\n"
          ]
        },
        {
          "output_type": "stream",
          "name": "stderr",
          "text": [
            "  7%|▋         | 77/1141 [00:10<02:17,  7.71it/s]"
          ]
        },
        {
          "output_type": "stream",
          "name": "stdout",
          "text": [
            "0.020306110382080078\n",
            "0.01938939094543457\n"
          ]
        },
        {
          "output_type": "stream",
          "name": "stderr",
          "text": [
            "  7%|▋         | 79/1141 [00:11<02:34,  6.88it/s]"
          ]
        },
        {
          "output_type": "stream",
          "name": "stdout",
          "text": [
            "0.016455650329589844\n",
            "0.01872539520263672\n"
          ]
        },
        {
          "output_type": "stream",
          "name": "stderr",
          "text": [
            "  7%|▋         | 81/1141 [00:11<02:44,  6.45it/s]"
          ]
        },
        {
          "output_type": "stream",
          "name": "stdout",
          "text": [
            "0.016381263732910156\n",
            "0.016217708587646484\n"
          ]
        },
        {
          "output_type": "stream",
          "name": "stderr",
          "text": [
            "  7%|▋         | 83/1141 [00:11<02:46,  6.36it/s]"
          ]
        },
        {
          "output_type": "stream",
          "name": "stdout",
          "text": [
            "0.016124486923217773\n",
            "0.015612363815307617\n"
          ]
        },
        {
          "output_type": "stream",
          "name": "stderr",
          "text": [
            "  7%|▋         | 85/1141 [00:12<02:47,  6.30it/s]"
          ]
        },
        {
          "output_type": "stream",
          "name": "stdout",
          "text": [
            "0.016440629959106445\n",
            "0.015710115432739258\n"
          ]
        },
        {
          "output_type": "stream",
          "name": "stderr",
          "text": [
            "  8%|▊         | 87/1141 [00:12<02:49,  6.21it/s]"
          ]
        },
        {
          "output_type": "stream",
          "name": "stdout",
          "text": [
            "0.01961994171142578\n",
            "0.015856504440307617\n"
          ]
        },
        {
          "output_type": "stream",
          "name": "stderr",
          "text": [
            "  8%|▊         | 89/1141 [00:12<02:46,  6.32it/s]"
          ]
        },
        {
          "output_type": "stream",
          "name": "stdout",
          "text": [
            "0.019830942153930664\n",
            "0.017997026443481445\n"
          ]
        },
        {
          "output_type": "stream",
          "name": "stderr",
          "text": [
            "  8%|▊         | 91/1141 [00:13<02:53,  6.06it/s]"
          ]
        },
        {
          "output_type": "stream",
          "name": "stdout",
          "text": [
            "0.018703460693359375\n",
            "0.018267393112182617\n"
          ]
        },
        {
          "output_type": "stream",
          "name": "stderr",
          "text": [
            "  8%|▊         | 93/1141 [00:13<02:52,  6.08it/s]"
          ]
        },
        {
          "output_type": "stream",
          "name": "stdout",
          "text": [
            "0.020025014877319336\n",
            "0.019228696823120117\n"
          ]
        },
        {
          "output_type": "stream",
          "name": "stderr",
          "text": [
            "  8%|▊         | 95/1141 [00:13<02:42,  6.44it/s]"
          ]
        },
        {
          "output_type": "stream",
          "name": "stdout",
          "text": [
            "0.026523590087890625\n",
            "0.013329505920410156\n"
          ]
        },
        {
          "output_type": "stream",
          "name": "stderr",
          "text": [
            "\r  8%|▊         | 96/1141 [00:13<02:34,  6.77it/s]"
          ]
        },
        {
          "output_type": "stream",
          "name": "stdout",
          "text": [
            "0.020921945571899414\n"
          ]
        },
        {
          "output_type": "stream",
          "name": "stderr",
          "text": [
            "  9%|▊         | 98/1141 [00:14<02:42,  6.40it/s]"
          ]
        },
        {
          "output_type": "stream",
          "name": "stdout",
          "text": [
            "0.023018836975097656\n",
            "0.013839483261108398\n"
          ]
        },
        {
          "output_type": "stream",
          "name": "stderr",
          "text": [
            "  9%|▉         | 100/1141 [00:14<02:20,  7.40it/s]"
          ]
        },
        {
          "output_type": "stream",
          "name": "stdout",
          "text": [
            "0.013746500015258789\n",
            "0.013404369354248047\n"
          ]
        },
        {
          "output_type": "stream",
          "name": "stderr",
          "text": [
            "  9%|▉         | 102/1141 [00:14<02:28,  7.01it/s]"
          ]
        },
        {
          "output_type": "stream",
          "name": "stdout",
          "text": [
            "0.013428926467895508\n",
            "0.021409988403320312\n"
          ]
        },
        {
          "output_type": "stream",
          "name": "stderr",
          "text": [
            "  9%|▉         | 104/1141 [00:14<02:21,  7.34it/s]"
          ]
        },
        {
          "output_type": "stream",
          "name": "stdout",
          "text": [
            "0.013441085815429688\n",
            "0.01602029800415039\n"
          ]
        },
        {
          "output_type": "stream",
          "name": "stderr",
          "text": [
            "  9%|▉         | 106/1141 [00:15<02:45,  6.24it/s]"
          ]
        },
        {
          "output_type": "stream",
          "name": "stdout",
          "text": [
            "0.019451379776000977\n",
            "0.013494491577148438\n"
          ]
        },
        {
          "output_type": "stream",
          "name": "stderr",
          "text": [
            "  9%|▉         | 108/1141 [00:15<02:19,  7.43it/s]"
          ]
        },
        {
          "output_type": "stream",
          "name": "stdout",
          "text": [
            "0.013481378555297852\n",
            "0.0164029598236084\n"
          ]
        },
        {
          "output_type": "stream",
          "name": "stderr",
          "text": [
            " 10%|▉         | 110/1141 [00:15<02:05,  8.19it/s]"
          ]
        },
        {
          "output_type": "stream",
          "name": "stdout",
          "text": [
            "0.01651597023010254\n",
            "0.0172579288482666\n"
          ]
        },
        {
          "output_type": "stream",
          "name": "stderr",
          "text": [
            " 10%|▉         | 112/1141 [00:16<02:01,  8.45it/s]"
          ]
        },
        {
          "output_type": "stream",
          "name": "stdout",
          "text": [
            "0.014527320861816406\n",
            "0.01383209228515625\n"
          ]
        },
        {
          "output_type": "stream",
          "name": "stderr",
          "text": [
            " 10%|▉         | 114/1141 [00:16<01:57,  8.72it/s]"
          ]
        },
        {
          "output_type": "stream",
          "name": "stdout",
          "text": [
            "0.013615131378173828\n",
            "0.013324260711669922\n"
          ]
        },
        {
          "output_type": "stream",
          "name": "stderr",
          "text": [
            " 10%|█         | 116/1141 [00:16<01:55,  8.84it/s]"
          ]
        },
        {
          "output_type": "stream",
          "name": "stdout",
          "text": [
            "0.013303756713867188\n",
            "0.013233661651611328\n"
          ]
        },
        {
          "output_type": "stream",
          "name": "stderr",
          "text": [
            " 10%|█         | 118/1141 [00:16<01:52,  9.08it/s]"
          ]
        },
        {
          "output_type": "stream",
          "name": "stdout",
          "text": [
            "0.0158538818359375\n",
            "0.014526605606079102\n"
          ]
        },
        {
          "output_type": "stream",
          "name": "stderr",
          "text": [
            " 11%|█         | 120/1141 [00:16<01:52,  9.09it/s]"
          ]
        },
        {
          "output_type": "stream",
          "name": "stdout",
          "text": [
            "0.01482081413269043\n",
            "0.014007806777954102\n"
          ]
        },
        {
          "output_type": "stream",
          "name": "stderr",
          "text": [
            " 11%|█         | 122/1141 [00:17<01:52,  9.09it/s]"
          ]
        },
        {
          "output_type": "stream",
          "name": "stdout",
          "text": [
            "0.013800859451293945\n",
            "0.018904447555541992\n"
          ]
        },
        {
          "output_type": "stream",
          "name": "stderr",
          "text": [
            " 11%|█         | 124/1141 [00:17<01:53,  8.97it/s]"
          ]
        },
        {
          "output_type": "stream",
          "name": "stdout",
          "text": [
            "0.014335870742797852\n",
            "0.015467643737792969\n"
          ]
        },
        {
          "output_type": "stream",
          "name": "stderr",
          "text": [
            " 11%|█         | 126/1141 [00:17<01:50,  9.16it/s]"
          ]
        },
        {
          "output_type": "stream",
          "name": "stdout",
          "text": [
            "0.013060569763183594\n",
            "0.013539314270019531\n"
          ]
        },
        {
          "output_type": "stream",
          "name": "stderr",
          "text": [
            " 11%|█         | 128/1141 [00:17<01:51,  9.09it/s]"
          ]
        },
        {
          "output_type": "stream",
          "name": "stdout",
          "text": [
            "0.017400264739990234\n",
            "0.015041112899780273\n"
          ]
        },
        {
          "output_type": "stream",
          "name": "stderr",
          "text": [
            " 11%|█▏        | 130/1141 [00:17<01:51,  9.04it/s]"
          ]
        },
        {
          "output_type": "stream",
          "name": "stdout",
          "text": [
            "0.015537023544311523\n",
            "0.017208576202392578\n"
          ]
        },
        {
          "output_type": "stream",
          "name": "stderr",
          "text": [
            " 12%|█▏        | 132/1141 [00:18<01:53,  8.88it/s]"
          ]
        },
        {
          "output_type": "stream",
          "name": "stdout",
          "text": [
            "0.013531208038330078\n",
            "0.01392221450805664\n"
          ]
        },
        {
          "output_type": "stream",
          "name": "stderr",
          "text": [
            " 12%|█▏        | 134/1141 [00:18<01:52,  8.92it/s]"
          ]
        },
        {
          "output_type": "stream",
          "name": "stdout",
          "text": [
            "0.015190601348876953\n",
            "0.013436079025268555\n"
          ]
        },
        {
          "output_type": "stream",
          "name": "stderr",
          "text": [
            " 12%|█▏        | 136/1141 [00:18<01:50,  9.06it/s]"
          ]
        },
        {
          "output_type": "stream",
          "name": "stdout",
          "text": [
            "0.016359329223632812\n",
            "0.014760732650756836\n"
          ]
        },
        {
          "output_type": "stream",
          "name": "stderr",
          "text": [
            " 12%|█▏        | 138/1141 [00:18<01:50,  9.10it/s]"
          ]
        },
        {
          "output_type": "stream",
          "name": "stdout",
          "text": [
            "0.017661571502685547\n",
            "0.013456106185913086\n"
          ]
        },
        {
          "output_type": "stream",
          "name": "stderr",
          "text": [
            " 12%|█▏        | 140/1141 [00:19<01:51,  8.96it/s]"
          ]
        },
        {
          "output_type": "stream",
          "name": "stdout",
          "text": [
            "0.015651941299438477\n",
            "0.01347970962524414\n"
          ]
        },
        {
          "output_type": "stream",
          "name": "stderr",
          "text": [
            " 12%|█▏        | 142/1141 [00:19<01:55,  8.67it/s]"
          ]
        },
        {
          "output_type": "stream",
          "name": "stdout",
          "text": [
            "0.013730049133300781\n",
            "0.013339519500732422\n"
          ]
        },
        {
          "output_type": "stream",
          "name": "stderr",
          "text": [
            " 13%|█▎        | 144/1141 [00:19<01:50,  9.01it/s]"
          ]
        },
        {
          "output_type": "stream",
          "name": "stdout",
          "text": [
            "0.013437509536743164\n",
            "0.013611316680908203\n"
          ]
        },
        {
          "output_type": "stream",
          "name": "stderr",
          "text": [
            " 13%|█▎        | 146/1141 [00:19<01:49,  9.06it/s]"
          ]
        },
        {
          "output_type": "stream",
          "name": "stdout",
          "text": [
            "0.015190839767456055\n",
            "0.013799905776977539\n"
          ]
        },
        {
          "output_type": "stream",
          "name": "stderr",
          "text": [
            " 13%|█▎        | 148/1141 [00:20<01:51,  8.91it/s]"
          ]
        },
        {
          "output_type": "stream",
          "name": "stdout",
          "text": [
            "0.014428377151489258\n",
            "0.014704704284667969\n"
          ]
        },
        {
          "output_type": "stream",
          "name": "stderr",
          "text": [
            " 13%|█▎        | 150/1141 [00:20<01:51,  8.89it/s]"
          ]
        },
        {
          "output_type": "stream",
          "name": "stdout",
          "text": [
            "0.013309240341186523\n",
            "0.013508081436157227\n"
          ]
        },
        {
          "output_type": "stream",
          "name": "stderr",
          "text": [
            " 13%|█▎        | 152/1141 [00:20<01:51,  8.86it/s]"
          ]
        },
        {
          "output_type": "stream",
          "name": "stdout",
          "text": [
            "0.013166189193725586\n",
            "0.013386249542236328\n"
          ]
        },
        {
          "output_type": "stream",
          "name": "stderr",
          "text": [
            " 13%|█▎        | 154/1141 [00:20<01:50,  8.90it/s]"
          ]
        },
        {
          "output_type": "stream",
          "name": "stdout",
          "text": [
            "0.015521049499511719\n",
            "0.01407766342163086\n"
          ]
        },
        {
          "output_type": "stream",
          "name": "stderr",
          "text": [
            " 14%|█▎        | 156/1141 [00:20<01:50,  8.90it/s]"
          ]
        },
        {
          "output_type": "stream",
          "name": "stdout",
          "text": [
            "0.014672279357910156\n",
            "0.013882160186767578\n"
          ]
        },
        {
          "output_type": "stream",
          "name": "stderr",
          "text": [
            " 14%|█▍        | 158/1141 [00:21<01:50,  8.88it/s]"
          ]
        },
        {
          "output_type": "stream",
          "name": "stdout",
          "text": [
            "0.016262292861938477\n",
            "0.01708984375\n"
          ]
        },
        {
          "output_type": "stream",
          "name": "stderr",
          "text": [
            " 14%|█▍        | 160/1141 [00:21<01:52,  8.72it/s]"
          ]
        },
        {
          "output_type": "stream",
          "name": "stdout",
          "text": [
            "0.013575077056884766\n",
            "0.013227462768554688\n"
          ]
        },
        {
          "output_type": "stream",
          "name": "stderr",
          "text": [
            " 14%|█▍        | 162/1141 [00:21<01:50,  8.90it/s]"
          ]
        },
        {
          "output_type": "stream",
          "name": "stdout",
          "text": [
            "0.013699054718017578\n",
            "0.01346588134765625\n"
          ]
        },
        {
          "output_type": "stream",
          "name": "stderr",
          "text": [
            " 14%|█▍        | 164/1141 [00:21<01:48,  8.96it/s]"
          ]
        },
        {
          "output_type": "stream",
          "name": "stdout",
          "text": [
            "0.01388406753540039\n",
            "0.01670217514038086\n"
          ]
        },
        {
          "output_type": "stream",
          "name": "stderr",
          "text": [
            " 15%|█▍        | 166/1141 [00:22<01:49,  8.87it/s]"
          ]
        },
        {
          "output_type": "stream",
          "name": "stdout",
          "text": [
            "0.01386260986328125\n",
            "0.013362884521484375\n"
          ]
        },
        {
          "output_type": "stream",
          "name": "stderr",
          "text": [
            " 15%|█▍        | 168/1141 [00:22<01:49,  8.85it/s]"
          ]
        },
        {
          "output_type": "stream",
          "name": "stdout",
          "text": [
            "0.01382756233215332\n",
            "0.020578384399414062\n"
          ]
        },
        {
          "output_type": "stream",
          "name": "stderr",
          "text": [
            " 15%|█▍        | 170/1141 [00:22<01:50,  8.76it/s]"
          ]
        },
        {
          "output_type": "stream",
          "name": "stdout",
          "text": [
            "0.016860246658325195\n",
            "0.013443708419799805\n"
          ]
        },
        {
          "output_type": "stream",
          "name": "stderr",
          "text": [
            " 15%|█▌        | 172/1141 [00:22<01:49,  8.87it/s]"
          ]
        },
        {
          "output_type": "stream",
          "name": "stdout",
          "text": [
            "0.014966964721679688\n",
            "0.013906240463256836\n"
          ]
        },
        {
          "output_type": "stream",
          "name": "stderr",
          "text": [
            " 15%|█▌        | 174/1141 [00:22<01:47,  8.97it/s]"
          ]
        },
        {
          "output_type": "stream",
          "name": "stdout",
          "text": [
            "0.013746261596679688\n",
            "0.014189958572387695\n"
          ]
        },
        {
          "output_type": "stream",
          "name": "stderr",
          "text": [
            " 15%|█▌        | 176/1141 [00:23<01:49,  8.81it/s]"
          ]
        },
        {
          "output_type": "stream",
          "name": "stdout",
          "text": [
            "0.013825178146362305\n",
            "0.01345515251159668\n"
          ]
        },
        {
          "output_type": "stream",
          "name": "stderr",
          "text": [
            " 16%|█▌        | 178/1141 [00:23<01:52,  8.59it/s]"
          ]
        },
        {
          "output_type": "stream",
          "name": "stdout",
          "text": [
            "0.029609203338623047\n",
            "0.013429403305053711\n"
          ]
        },
        {
          "output_type": "stream",
          "name": "stderr",
          "text": [
            " 16%|█▌        | 180/1141 [00:23<01:56,  8.25it/s]"
          ]
        },
        {
          "output_type": "stream",
          "name": "stdout",
          "text": [
            "0.014083385467529297\n",
            "0.018880605697631836\n"
          ]
        },
        {
          "output_type": "stream",
          "name": "stderr",
          "text": [
            " 16%|█▌        | 182/1141 [00:24<02:19,  6.87it/s]"
          ]
        },
        {
          "output_type": "stream",
          "name": "stdout",
          "text": [
            "0.02002716064453125\n",
            "0.024690628051757812\n"
          ]
        },
        {
          "output_type": "stream",
          "name": "stderr",
          "text": [
            " 16%|█▌        | 184/1141 [00:24<02:32,  6.26it/s]"
          ]
        },
        {
          "output_type": "stream",
          "name": "stdout",
          "text": [
            "0.01629328727722168\n",
            "0.01939845085144043\n"
          ]
        },
        {
          "output_type": "stream",
          "name": "stderr",
          "text": [
            " 16%|█▋        | 186/1141 [00:24<02:32,  6.25it/s]"
          ]
        },
        {
          "output_type": "stream",
          "name": "stdout",
          "text": [
            "0.01848602294921875\n",
            "0.01668834686279297\n"
          ]
        },
        {
          "output_type": "stream",
          "name": "stderr",
          "text": [
            " 16%|█▋        | 188/1141 [00:25<02:36,  6.09it/s]"
          ]
        },
        {
          "output_type": "stream",
          "name": "stdout",
          "text": [
            "0.01604318618774414\n",
            "0.01796865463256836\n"
          ]
        },
        {
          "output_type": "stream",
          "name": "stderr",
          "text": [
            " 17%|█▋        | 190/1141 [00:25<02:36,  6.08it/s]"
          ]
        },
        {
          "output_type": "stream",
          "name": "stdout",
          "text": [
            "0.018772125244140625\n",
            "0.01667308807373047\n"
          ]
        },
        {
          "output_type": "stream",
          "name": "stderr",
          "text": [
            " 17%|█▋        | 192/1141 [00:25<02:34,  6.15it/s]"
          ]
        },
        {
          "output_type": "stream",
          "name": "stdout",
          "text": [
            "0.019652128219604492\n",
            "0.01748824119567871\n"
          ]
        },
        {
          "output_type": "stream",
          "name": "stderr",
          "text": [
            " 17%|█▋        | 194/1141 [00:25<02:33,  6.16it/s]"
          ]
        },
        {
          "output_type": "stream",
          "name": "stdout",
          "text": [
            "0.020650148391723633\n",
            "0.0178680419921875\n"
          ]
        },
        {
          "output_type": "stream",
          "name": "stderr",
          "text": [
            " 17%|█▋        | 196/1141 [00:26<02:38,  5.96it/s]"
          ]
        },
        {
          "output_type": "stream",
          "name": "stdout",
          "text": [
            "0.019354820251464844\n",
            "0.019946575164794922\n"
          ]
        },
        {
          "output_type": "stream",
          "name": "stderr",
          "text": [
            " 17%|█▋        | 198/1141 [00:26<02:39,  5.92it/s]"
          ]
        },
        {
          "output_type": "stream",
          "name": "stdout",
          "text": [
            "0.021169185638427734\n",
            "0.01648879051208496\n"
          ]
        },
        {
          "output_type": "stream",
          "name": "stderr",
          "text": [
            " 18%|█▊        | 200/1141 [00:26<02:10,  7.20it/s]"
          ]
        },
        {
          "output_type": "stream",
          "name": "stdout",
          "text": [
            "0.013495445251464844\n",
            "0.01671886444091797\n"
          ]
        },
        {
          "output_type": "stream",
          "name": "stderr",
          "text": [
            " 18%|█▊        | 202/1141 [00:27<01:57,  8.02it/s]"
          ]
        },
        {
          "output_type": "stream",
          "name": "stdout",
          "text": [
            "0.013808012008666992\n",
            "0.013957977294921875\n"
          ]
        },
        {
          "output_type": "stream",
          "name": "stderr",
          "text": [
            " 18%|█▊        | 204/1141 [00:27<01:51,  8.37it/s]"
          ]
        },
        {
          "output_type": "stream",
          "name": "stdout",
          "text": [
            "0.014271974563598633\n",
            "0.01368403434753418\n"
          ]
        },
        {
          "output_type": "stream",
          "name": "stderr",
          "text": [
            " 18%|█▊        | 206/1141 [00:27<01:49,  8.55it/s]"
          ]
        },
        {
          "output_type": "stream",
          "name": "stdout",
          "text": [
            "0.01360321044921875\n",
            "0.014417648315429688\n"
          ]
        },
        {
          "output_type": "stream",
          "name": "stderr",
          "text": [
            " 18%|█▊        | 208/1141 [00:27<01:46,  8.78it/s]"
          ]
        },
        {
          "output_type": "stream",
          "name": "stdout",
          "text": [
            "0.01392221450805664\n",
            "0.014023542404174805\n"
          ]
        },
        {
          "output_type": "stream",
          "name": "stderr",
          "text": [
            " 18%|█▊        | 210/1141 [00:28<01:46,  8.78it/s]"
          ]
        },
        {
          "output_type": "stream",
          "name": "stdout",
          "text": [
            "0.013788700103759766\n",
            "0.014681577682495117\n"
          ]
        },
        {
          "output_type": "stream",
          "name": "stderr",
          "text": [
            " 19%|█▊        | 212/1141 [00:28<01:45,  8.84it/s]"
          ]
        },
        {
          "output_type": "stream",
          "name": "stdout",
          "text": [
            "0.01414632797241211\n",
            "0.013498067855834961\n"
          ]
        },
        {
          "output_type": "stream",
          "name": "stderr",
          "text": [
            " 19%|█▉        | 214/1141 [00:28<01:45,  8.81it/s]"
          ]
        },
        {
          "output_type": "stream",
          "name": "stdout",
          "text": [
            "0.013794183731079102\n",
            "0.013285160064697266\n"
          ]
        },
        {
          "output_type": "stream",
          "name": "stderr",
          "text": [
            " 19%|█▉        | 216/1141 [00:28<01:45,  8.78it/s]"
          ]
        },
        {
          "output_type": "stream",
          "name": "stdout",
          "text": [
            "0.01353597640991211\n",
            "0.013536214828491211\n"
          ]
        },
        {
          "output_type": "stream",
          "name": "stderr",
          "text": [
            " 19%|█▉        | 218/1141 [00:28<01:42,  8.98it/s]"
          ]
        },
        {
          "output_type": "stream",
          "name": "stdout",
          "text": [
            "0.014734745025634766\n",
            "0.013388872146606445\n"
          ]
        },
        {
          "output_type": "stream",
          "name": "stderr",
          "text": [
            " 19%|█▉        | 220/1141 [00:29<01:42,  8.97it/s]"
          ]
        },
        {
          "output_type": "stream",
          "name": "stdout",
          "text": [
            "0.01672816276550293\n",
            "0.013704299926757812\n"
          ]
        },
        {
          "output_type": "stream",
          "name": "stderr",
          "text": [
            " 19%|█▉        | 222/1141 [00:29<01:45,  8.72it/s]"
          ]
        },
        {
          "output_type": "stream",
          "name": "stdout",
          "text": [
            "0.014783382415771484\n",
            "0.013436079025268555\n"
          ]
        },
        {
          "output_type": "stream",
          "name": "stderr",
          "text": [
            " 20%|█▉        | 224/1141 [00:29<01:44,  8.75it/s]"
          ]
        },
        {
          "output_type": "stream",
          "name": "stdout",
          "text": [
            "0.013605594635009766\n",
            "0.013544321060180664\n"
          ]
        },
        {
          "output_type": "stream",
          "name": "stderr",
          "text": [
            " 20%|█▉        | 226/1141 [00:29<01:42,  8.96it/s]"
          ]
        },
        {
          "output_type": "stream",
          "name": "stdout",
          "text": [
            "0.013663768768310547\n",
            "0.013943910598754883\n"
          ]
        },
        {
          "output_type": "stream",
          "name": "stderr",
          "text": [
            " 20%|█▉        | 228/1141 [00:30<01:43,  8.83it/s]"
          ]
        },
        {
          "output_type": "stream",
          "name": "stdout",
          "text": [
            "0.014942646026611328\n",
            "0.013938426971435547\n"
          ]
        },
        {
          "output_type": "stream",
          "name": "stderr",
          "text": [
            " 20%|██        | 230/1141 [00:30<01:39,  9.12it/s]"
          ]
        },
        {
          "output_type": "stream",
          "name": "stdout",
          "text": [
            "0.013370037078857422\n",
            "0.013637781143188477\n"
          ]
        },
        {
          "output_type": "stream",
          "name": "stderr",
          "text": [
            " 20%|██        | 232/1141 [00:30<01:42,  8.86it/s]"
          ]
        },
        {
          "output_type": "stream",
          "name": "stdout",
          "text": [
            "0.013490676879882812\n",
            "0.013412237167358398\n"
          ]
        },
        {
          "output_type": "stream",
          "name": "stderr",
          "text": [
            " 21%|██        | 234/1141 [00:30<01:42,  8.82it/s]"
          ]
        },
        {
          "output_type": "stream",
          "name": "stdout",
          "text": [
            "0.013779401779174805\n",
            "0.013601303100585938\n"
          ]
        },
        {
          "output_type": "stream",
          "name": "stderr",
          "text": [
            " 21%|██        | 236/1141 [00:30<01:40,  9.00it/s]"
          ]
        },
        {
          "output_type": "stream",
          "name": "stdout",
          "text": [
            "0.01497793197631836\n",
            "0.014356136322021484\n"
          ]
        },
        {
          "output_type": "stream",
          "name": "stderr",
          "text": [
            " 21%|██        | 238/1141 [00:31<01:40,  9.00it/s]"
          ]
        },
        {
          "output_type": "stream",
          "name": "stdout",
          "text": [
            "0.013535499572753906\n",
            "0.014509201049804688\n"
          ]
        },
        {
          "output_type": "stream",
          "name": "stderr",
          "text": [
            " 21%|██        | 240/1141 [00:31<01:41,  8.85it/s]"
          ]
        },
        {
          "output_type": "stream",
          "name": "stdout",
          "text": [
            "0.01883387565612793\n",
            "0.013636350631713867\n"
          ]
        },
        {
          "output_type": "stream",
          "name": "stderr",
          "text": [
            " 21%|██        | 242/1141 [00:31<01:40,  8.92it/s]"
          ]
        },
        {
          "output_type": "stream",
          "name": "stdout",
          "text": [
            "0.013213157653808594\n",
            "0.013575315475463867\n"
          ]
        },
        {
          "output_type": "stream",
          "name": "stderr",
          "text": [
            " 21%|██▏       | 244/1141 [00:31<01:40,  8.89it/s]"
          ]
        },
        {
          "output_type": "stream",
          "name": "stdout",
          "text": [
            "0.013546466827392578\n",
            "0.017575502395629883\n"
          ]
        },
        {
          "output_type": "stream",
          "name": "stderr",
          "text": [
            " 22%|██▏       | 246/1141 [00:32<01:40,  8.94it/s]"
          ]
        },
        {
          "output_type": "stream",
          "name": "stdout",
          "text": [
            "0.013295412063598633\n",
            "0.014402389526367188\n"
          ]
        },
        {
          "output_type": "stream",
          "name": "stderr",
          "text": [
            " 22%|██▏       | 248/1141 [00:32<01:40,  8.93it/s]"
          ]
        },
        {
          "output_type": "stream",
          "name": "stdout",
          "text": [
            "0.014119148254394531\n",
            "0.0173032283782959\n"
          ]
        },
        {
          "output_type": "stream",
          "name": "stderr",
          "text": [
            " 22%|██▏       | 250/1141 [00:32<01:38,  9.01it/s]"
          ]
        },
        {
          "output_type": "stream",
          "name": "stdout",
          "text": [
            "0.013345718383789062\n",
            "0.013344287872314453\n"
          ]
        },
        {
          "output_type": "stream",
          "name": "stderr",
          "text": [
            " 22%|██▏       | 252/1141 [00:32<01:41,  8.80it/s]"
          ]
        },
        {
          "output_type": "stream",
          "name": "stdout",
          "text": [
            "0.01354217529296875\n",
            "0.016214609146118164\n"
          ]
        },
        {
          "output_type": "stream",
          "name": "stderr",
          "text": [
            " 22%|██▏       | 254/1141 [00:32<01:39,  8.88it/s]"
          ]
        },
        {
          "output_type": "stream",
          "name": "stdout",
          "text": [
            "0.013978958129882812\n",
            "0.014027833938598633\n"
          ]
        },
        {
          "output_type": "stream",
          "name": "stderr",
          "text": [
            " 22%|██▏       | 256/1141 [00:33<01:40,  8.77it/s]"
          ]
        },
        {
          "output_type": "stream",
          "name": "stdout",
          "text": [
            "0.013822793960571289\n",
            "0.013582706451416016\n"
          ]
        },
        {
          "output_type": "stream",
          "name": "stderr",
          "text": [
            " 23%|██▎       | 258/1141 [00:33<01:40,  8.78it/s]"
          ]
        },
        {
          "output_type": "stream",
          "name": "stdout",
          "text": [
            "0.017070531845092773\n",
            "0.013298988342285156\n"
          ]
        },
        {
          "output_type": "stream",
          "name": "stderr",
          "text": [
            " 23%|██▎       | 260/1141 [00:33<01:41,  8.69it/s]"
          ]
        },
        {
          "output_type": "stream",
          "name": "stdout",
          "text": [
            "0.013785123825073242\n",
            "0.01380777359008789\n"
          ]
        },
        {
          "output_type": "stream",
          "name": "stderr",
          "text": [
            " 23%|██▎       | 262/1141 [00:33<01:38,  8.93it/s]"
          ]
        },
        {
          "output_type": "stream",
          "name": "stdout",
          "text": [
            "0.013796091079711914\n",
            "0.013795614242553711\n"
          ]
        },
        {
          "output_type": "stream",
          "name": "stderr",
          "text": [
            " 23%|██▎       | 264/1141 [00:34<01:42,  8.55it/s]"
          ]
        },
        {
          "output_type": "stream",
          "name": "stdout",
          "text": [
            "0.016788721084594727\n",
            "0.013597249984741211\n"
          ]
        },
        {
          "output_type": "stream",
          "name": "stderr",
          "text": [
            " 23%|██▎       | 266/1141 [00:34<01:42,  8.56it/s]"
          ]
        },
        {
          "output_type": "stream",
          "name": "stdout",
          "text": [
            "0.0133209228515625\n",
            "0.014544248580932617\n"
          ]
        },
        {
          "output_type": "stream",
          "name": "stderr",
          "text": [
            " 23%|██▎       | 268/1141 [00:34<01:39,  8.73it/s]"
          ]
        },
        {
          "output_type": "stream",
          "name": "stdout",
          "text": [
            "0.016107797622680664\n",
            "0.013281583786010742\n"
          ]
        },
        {
          "output_type": "stream",
          "name": "stderr",
          "text": [
            " 24%|██▎       | 270/1141 [00:34<01:40,  8.64it/s]"
          ]
        },
        {
          "output_type": "stream",
          "name": "stdout",
          "text": [
            "0.013733386993408203\n",
            "0.013919591903686523\n"
          ]
        },
        {
          "output_type": "stream",
          "name": "stderr",
          "text": [
            " 24%|██▍       | 272/1141 [00:35<01:39,  8.74it/s]"
          ]
        },
        {
          "output_type": "stream",
          "name": "stdout",
          "text": [
            "0.015599727630615234\n",
            "0.013689994812011719\n"
          ]
        },
        {
          "output_type": "stream",
          "name": "stderr",
          "text": [
            " 24%|██▍       | 274/1141 [00:35<01:37,  8.87it/s]"
          ]
        },
        {
          "output_type": "stream",
          "name": "stdout",
          "text": [
            "0.013763904571533203\n",
            "0.01681995391845703\n"
          ]
        },
        {
          "output_type": "stream",
          "name": "stderr",
          "text": [
            " 24%|██▍       | 276/1141 [00:35<01:37,  8.86it/s]"
          ]
        },
        {
          "output_type": "stream",
          "name": "stdout",
          "text": [
            "0.013666152954101562\n",
            "0.013815641403198242\n"
          ]
        },
        {
          "output_type": "stream",
          "name": "stderr",
          "text": [
            " 24%|██▍       | 278/1141 [00:35<01:38,  8.73it/s]"
          ]
        },
        {
          "output_type": "stream",
          "name": "stdout",
          "text": [
            "0.015318870544433594\n",
            "0.013809442520141602\n"
          ]
        },
        {
          "output_type": "stream",
          "name": "stderr",
          "text": [
            " 25%|██▍       | 280/1141 [00:35<01:37,  8.80it/s]"
          ]
        },
        {
          "output_type": "stream",
          "name": "stdout",
          "text": [
            "0.014116048812866211\n",
            "0.013471126556396484\n"
          ]
        },
        {
          "output_type": "stream",
          "name": "stderr",
          "text": [
            " 25%|██▍       | 282/1141 [00:36<01:36,  8.89it/s]"
          ]
        },
        {
          "output_type": "stream",
          "name": "stdout",
          "text": [
            "0.015605688095092773\n",
            "0.013660192489624023\n"
          ]
        },
        {
          "output_type": "stream",
          "name": "stderr",
          "text": [
            " 25%|██▍       | 284/1141 [00:36<01:37,  8.76it/s]"
          ]
        },
        {
          "output_type": "stream",
          "name": "stdout",
          "text": [
            "0.021492958068847656\n",
            "0.013478994369506836\n"
          ]
        },
        {
          "output_type": "stream",
          "name": "stderr",
          "text": [
            " 25%|██▌       | 286/1141 [00:36<01:38,  8.72it/s]"
          ]
        },
        {
          "output_type": "stream",
          "name": "stdout",
          "text": [
            "0.01613020896911621\n",
            "0.013435125350952148\n"
          ]
        },
        {
          "output_type": "stream",
          "name": "stderr",
          "text": [
            " 25%|██▌       | 288/1141 [00:36<01:59,  7.12it/s]"
          ]
        },
        {
          "output_type": "stream",
          "name": "stdout",
          "text": [
            "0.020077943801879883\n",
            "0.020205974578857422\n"
          ]
        },
        {
          "output_type": "stream",
          "name": "stderr",
          "text": [
            " 25%|██▌       | 290/1141 [00:37<02:10,  6.50it/s]"
          ]
        },
        {
          "output_type": "stream",
          "name": "stdout",
          "text": [
            "0.019816160202026367\n",
            "0.017099618911743164\n"
          ]
        },
        {
          "output_type": "stream",
          "name": "stderr",
          "text": [
            " 26%|██▌       | 292/1141 [00:37<02:13,  6.38it/s]"
          ]
        },
        {
          "output_type": "stream",
          "name": "stdout",
          "text": [
            "0.018487930297851562\n",
            "0.019740819931030273\n"
          ]
        },
        {
          "output_type": "stream",
          "name": "stderr",
          "text": [
            " 26%|██▌       | 294/1141 [00:37<02:17,  6.18it/s]"
          ]
        },
        {
          "output_type": "stream",
          "name": "stdout",
          "text": [
            "0.01921534538269043\n",
            "0.017125606536865234\n"
          ]
        },
        {
          "output_type": "stream",
          "name": "stderr",
          "text": [
            " 26%|██▌       | 296/1141 [00:38<02:20,  6.00it/s]"
          ]
        },
        {
          "output_type": "stream",
          "name": "stdout",
          "text": [
            "0.016067028045654297\n",
            "0.021720170974731445\n"
          ]
        },
        {
          "output_type": "stream",
          "name": "stderr",
          "text": [
            " 26%|██▌       | 298/1141 [00:38<02:20,  6.01it/s]"
          ]
        },
        {
          "output_type": "stream",
          "name": "stdout",
          "text": [
            "0.01727890968322754\n",
            "0.021749496459960938\n"
          ]
        },
        {
          "output_type": "stream",
          "name": "stderr",
          "text": [
            " 26%|██▋       | 300/1141 [00:39<02:21,  5.93it/s]"
          ]
        },
        {
          "output_type": "stream",
          "name": "stdout",
          "text": [
            "0.020219802856445312\n",
            "0.022492170333862305\n"
          ]
        },
        {
          "output_type": "stream",
          "name": "stderr",
          "text": [
            " 26%|██▋       | 302/1141 [00:39<02:21,  5.91it/s]"
          ]
        },
        {
          "output_type": "stream",
          "name": "stdout",
          "text": [
            "0.018007993698120117\n",
            "0.022296667098999023\n"
          ]
        },
        {
          "output_type": "stream",
          "name": "stderr",
          "text": [
            " 27%|██▋       | 304/1141 [00:39<02:21,  5.90it/s]"
          ]
        },
        {
          "output_type": "stream",
          "name": "stdout",
          "text": [
            "0.020410537719726562\n",
            "0.019766807556152344\n"
          ]
        },
        {
          "output_type": "stream",
          "name": "stderr",
          "text": [
            "\r 27%|██▋       | 305/1141 [00:39<02:13,  6.28it/s]"
          ]
        },
        {
          "output_type": "stream",
          "name": "stdout",
          "text": [
            "0.013811588287353516\n"
          ]
        },
        {
          "output_type": "stream",
          "name": "stderr",
          "text": [
            "\r 27%|██▋       | 306/1141 [00:40<02:28,  5.62it/s]"
          ]
        },
        {
          "output_type": "stream",
          "name": "stdout",
          "text": [
            "0.045499324798583984\n"
          ]
        },
        {
          "output_type": "stream",
          "name": "stderr",
          "text": [
            " 27%|██▋       | 308/1141 [00:40<02:58,  4.65it/s]"
          ]
        },
        {
          "output_type": "stream",
          "name": "stdout",
          "text": [
            "0.0385737419128418\n",
            "0.013517379760742188\n"
          ]
        },
        {
          "output_type": "stream",
          "name": "stderr",
          "text": [
            " 27%|██▋       | 310/1141 [00:40<02:15,  6.11it/s]"
          ]
        },
        {
          "output_type": "stream",
          "name": "stdout",
          "text": [
            "0.01407766342163086\n",
            "0.014878273010253906\n"
          ]
        },
        {
          "output_type": "stream",
          "name": "stderr",
          "text": [
            " 27%|██▋       | 312/1141 [00:41<01:55,  7.15it/s]"
          ]
        },
        {
          "output_type": "stream",
          "name": "stdout",
          "text": [
            "0.01388096809387207\n",
            "0.017384767532348633\n"
          ]
        },
        {
          "output_type": "stream",
          "name": "stderr",
          "text": [
            " 28%|██▊       | 314/1141 [00:41<01:44,  7.94it/s]"
          ]
        },
        {
          "output_type": "stream",
          "name": "stdout",
          "text": [
            "0.013795137405395508\n",
            "0.013394355773925781\n"
          ]
        },
        {
          "output_type": "stream",
          "name": "stderr",
          "text": [
            " 28%|██▊       | 316/1141 [00:41<01:39,  8.31it/s]"
          ]
        },
        {
          "output_type": "stream",
          "name": "stdout",
          "text": [
            "0.013892412185668945\n",
            "0.013738870620727539\n"
          ]
        },
        {
          "output_type": "stream",
          "name": "stderr",
          "text": [
            " 28%|██▊       | 318/1141 [00:41<01:35,  8.62it/s]"
          ]
        },
        {
          "output_type": "stream",
          "name": "stdout",
          "text": [
            "0.013911962509155273\n",
            "0.013575553894042969\n"
          ]
        },
        {
          "output_type": "stream",
          "name": "stderr",
          "text": [
            " 28%|██▊       | 320/1141 [00:41<01:35,  8.59it/s]"
          ]
        },
        {
          "output_type": "stream",
          "name": "stdout",
          "text": [
            "0.014883041381835938\n",
            "0.014031410217285156\n"
          ]
        },
        {
          "output_type": "stream",
          "name": "stderr",
          "text": [
            " 28%|██▊       | 322/1141 [00:42<01:34,  8.66it/s]"
          ]
        },
        {
          "output_type": "stream",
          "name": "stdout",
          "text": [
            "0.015346050262451172\n",
            "0.013889551162719727\n"
          ]
        },
        {
          "output_type": "stream",
          "name": "stderr",
          "text": [
            " 28%|██▊       | 324/1141 [00:42<01:34,  8.63it/s]"
          ]
        },
        {
          "output_type": "stream",
          "name": "stdout",
          "text": [
            "0.018854141235351562\n",
            "0.013532638549804688\n"
          ]
        },
        {
          "output_type": "stream",
          "name": "stderr",
          "text": [
            " 29%|██▊       | 326/1141 [00:42<01:32,  8.79it/s]"
          ]
        },
        {
          "output_type": "stream",
          "name": "stdout",
          "text": [
            "0.014219522476196289\n",
            "0.014818906784057617\n"
          ]
        },
        {
          "output_type": "stream",
          "name": "stderr",
          "text": [
            " 29%|██▊       | 328/1141 [00:42<01:31,  8.91it/s]"
          ]
        },
        {
          "output_type": "stream",
          "name": "stdout",
          "text": [
            "0.01586174964904785\n",
            "0.014368772506713867\n"
          ]
        },
        {
          "output_type": "stream",
          "name": "stderr",
          "text": [
            " 29%|██▉       | 330/1141 [00:43<01:32,  8.77it/s]"
          ]
        },
        {
          "output_type": "stream",
          "name": "stdout",
          "text": [
            "0.013634920120239258\n",
            "0.013782501220703125\n"
          ]
        },
        {
          "output_type": "stream",
          "name": "stderr",
          "text": [
            " 29%|██▉       | 332/1141 [00:43<01:32,  8.72it/s]"
          ]
        },
        {
          "output_type": "stream",
          "name": "stdout",
          "text": [
            "0.013437747955322266\n",
            "0.016434431076049805\n"
          ]
        },
        {
          "output_type": "stream",
          "name": "stderr",
          "text": [
            " 29%|██▉       | 334/1141 [00:43<01:30,  8.94it/s]"
          ]
        },
        {
          "output_type": "stream",
          "name": "stdout",
          "text": [
            "0.01381683349609375\n",
            "0.01344156265258789\n"
          ]
        },
        {
          "output_type": "stream",
          "name": "stderr",
          "text": [
            " 29%|██▉       | 336/1141 [00:43<01:28,  9.13it/s]"
          ]
        },
        {
          "output_type": "stream",
          "name": "stdout",
          "text": [
            "0.014946699142456055\n",
            "0.013312101364135742\n"
          ]
        },
        {
          "output_type": "stream",
          "name": "stderr",
          "text": [
            " 30%|██▉       | 338/1141 [00:44<01:31,  8.74it/s]"
          ]
        },
        {
          "output_type": "stream",
          "name": "stdout",
          "text": [
            "0.013509511947631836\n",
            "0.015506982803344727\n"
          ]
        },
        {
          "output_type": "stream",
          "name": "stderr",
          "text": [
            " 30%|██▉       | 340/1141 [00:44<01:31,  8.80it/s]"
          ]
        },
        {
          "output_type": "stream",
          "name": "stdout",
          "text": [
            "0.01450967788696289\n",
            "0.016506433486938477\n"
          ]
        },
        {
          "output_type": "stream",
          "name": "stderr",
          "text": [
            " 30%|██▉       | 342/1141 [00:44<01:32,  8.68it/s]"
          ]
        },
        {
          "output_type": "stream",
          "name": "stdout",
          "text": [
            "0.01444864273071289\n",
            "0.013602256774902344\n"
          ]
        },
        {
          "output_type": "stream",
          "name": "stderr",
          "text": [
            " 30%|███       | 344/1141 [00:44<01:30,  8.84it/s]"
          ]
        },
        {
          "output_type": "stream",
          "name": "stdout",
          "text": [
            "0.014111757278442383\n",
            "0.016463041305541992\n"
          ]
        },
        {
          "output_type": "stream",
          "name": "stderr",
          "text": [
            " 30%|███       | 346/1141 [00:44<01:29,  8.90it/s]"
          ]
        },
        {
          "output_type": "stream",
          "name": "stdout",
          "text": [
            "0.014569282531738281\n",
            "0.014094829559326172\n"
          ]
        },
        {
          "output_type": "stream",
          "name": "stderr",
          "text": [
            " 30%|███       | 348/1141 [00:45<01:32,  8.57it/s]"
          ]
        },
        {
          "output_type": "stream",
          "name": "stdout",
          "text": [
            "0.01369786262512207\n",
            "0.013981103897094727\n"
          ]
        },
        {
          "output_type": "stream",
          "name": "stderr",
          "text": [
            " 31%|███       | 350/1141 [00:45<01:32,  8.58it/s]"
          ]
        },
        {
          "output_type": "stream",
          "name": "stdout",
          "text": [
            "0.014228343963623047\n",
            "0.013568401336669922\n"
          ]
        },
        {
          "output_type": "stream",
          "name": "stderr",
          "text": [
            " 31%|███       | 352/1141 [00:45<01:30,  8.73it/s]"
          ]
        },
        {
          "output_type": "stream",
          "name": "stdout",
          "text": [
            "0.013835906982421875\n",
            "0.013708829879760742\n"
          ]
        },
        {
          "output_type": "stream",
          "name": "stderr",
          "text": [
            " 31%|███       | 354/1141 [00:45<01:29,  8.79it/s]"
          ]
        },
        {
          "output_type": "stream",
          "name": "stdout",
          "text": [
            "0.01405787467956543\n",
            "0.014073610305786133\n"
          ]
        },
        {
          "output_type": "stream",
          "name": "stderr",
          "text": [
            " 31%|███       | 356/1141 [00:46<01:31,  8.56it/s]"
          ]
        },
        {
          "output_type": "stream",
          "name": "stdout",
          "text": [
            "0.014487266540527344\n",
            "0.013951778411865234\n"
          ]
        },
        {
          "output_type": "stream",
          "name": "stderr",
          "text": [
            " 31%|███▏      | 358/1141 [00:46<01:30,  8.64it/s]"
          ]
        },
        {
          "output_type": "stream",
          "name": "stdout",
          "text": [
            "0.013683080673217773\n",
            "0.01718878746032715\n"
          ]
        },
        {
          "output_type": "stream",
          "name": "stderr",
          "text": [
            " 32%|███▏      | 360/1141 [00:46<01:28,  8.78it/s]"
          ]
        },
        {
          "output_type": "stream",
          "name": "stdout",
          "text": [
            "0.01363825798034668\n",
            "0.013728618621826172\n"
          ]
        },
        {
          "output_type": "stream",
          "name": "stderr",
          "text": [
            " 32%|███▏      | 362/1141 [00:46<01:27,  8.87it/s]"
          ]
        },
        {
          "output_type": "stream",
          "name": "stdout",
          "text": [
            "0.013719320297241211\n",
            "0.01418447494506836\n"
          ]
        },
        {
          "output_type": "stream",
          "name": "stderr",
          "text": [
            " 32%|███▏      | 364/1141 [00:46<01:27,  8.91it/s]"
          ]
        },
        {
          "output_type": "stream",
          "name": "stdout",
          "text": [
            "0.014178991317749023\n",
            "0.013872861862182617\n"
          ]
        },
        {
          "output_type": "stream",
          "name": "stderr",
          "text": [
            " 32%|███▏      | 366/1141 [00:47<01:28,  8.71it/s]"
          ]
        },
        {
          "output_type": "stream",
          "name": "stdout",
          "text": [
            "0.01451873779296875\n",
            "0.013721704483032227\n"
          ]
        },
        {
          "output_type": "stream",
          "name": "stderr",
          "text": [
            " 32%|███▏      | 368/1141 [00:47<01:29,  8.67it/s]"
          ]
        },
        {
          "output_type": "stream",
          "name": "stdout",
          "text": [
            "0.01745915412902832\n",
            "0.013615131378173828\n"
          ]
        },
        {
          "output_type": "stream",
          "name": "stderr",
          "text": [
            " 32%|███▏      | 370/1141 [00:47<01:26,  8.89it/s]"
          ]
        },
        {
          "output_type": "stream",
          "name": "stdout",
          "text": [
            "0.014810323715209961\n",
            "0.014322280883789062\n"
          ]
        },
        {
          "output_type": "stream",
          "name": "stderr",
          "text": [
            " 33%|███▎      | 372/1141 [00:47<01:27,  8.80it/s]"
          ]
        },
        {
          "output_type": "stream",
          "name": "stdout",
          "text": [
            "0.013620376586914062\n",
            "0.014539718627929688\n"
          ]
        },
        {
          "output_type": "stream",
          "name": "stderr",
          "text": [
            " 33%|███▎      | 374/1141 [00:48<01:28,  8.62it/s]"
          ]
        },
        {
          "output_type": "stream",
          "name": "stdout",
          "text": [
            "0.016131162643432617\n",
            "0.014284133911132812\n"
          ]
        },
        {
          "output_type": "stream",
          "name": "stderr",
          "text": [
            " 33%|███▎      | 376/1141 [00:48<01:28,  8.61it/s]"
          ]
        },
        {
          "output_type": "stream",
          "name": "stdout",
          "text": [
            "0.01349496841430664\n",
            "0.01355600357055664\n"
          ]
        },
        {
          "output_type": "stream",
          "name": "stderr",
          "text": [
            " 33%|███▎      | 378/1141 [00:48<01:26,  8.86it/s]"
          ]
        },
        {
          "output_type": "stream",
          "name": "stdout",
          "text": [
            "0.01688385009765625\n",
            "0.013546228408813477\n"
          ]
        },
        {
          "output_type": "stream",
          "name": "stderr",
          "text": [
            " 33%|███▎      | 380/1141 [00:48<01:25,  8.90it/s]"
          ]
        },
        {
          "output_type": "stream",
          "name": "stdout",
          "text": [
            "0.013873815536499023\n",
            "0.013968229293823242\n"
          ]
        },
        {
          "output_type": "stream",
          "name": "stderr",
          "text": [
            " 33%|███▎      | 382/1141 [00:49<01:25,  8.92it/s]"
          ]
        },
        {
          "output_type": "stream",
          "name": "stdout",
          "text": [
            "0.014164447784423828\n",
            "0.01388239860534668\n"
          ]
        },
        {
          "output_type": "stream",
          "name": "stderr",
          "text": [
            " 34%|███▎      | 384/1141 [00:49<01:27,  8.66it/s]"
          ]
        },
        {
          "output_type": "stream",
          "name": "stdout",
          "text": [
            "0.014716625213623047\n",
            "0.01660752296447754\n"
          ]
        },
        {
          "output_type": "stream",
          "name": "stderr",
          "text": [
            " 34%|███▍      | 386/1141 [00:49<01:26,  8.73it/s]"
          ]
        },
        {
          "output_type": "stream",
          "name": "stdout",
          "text": [
            "0.013637065887451172\n",
            "0.015393972396850586\n"
          ]
        },
        {
          "output_type": "stream",
          "name": "stderr",
          "text": [
            " 34%|███▍      | 388/1141 [00:49<01:24,  8.88it/s]"
          ]
        },
        {
          "output_type": "stream",
          "name": "stdout",
          "text": [
            "0.015360355377197266\n",
            "0.0162355899810791\n"
          ]
        },
        {
          "output_type": "stream",
          "name": "stderr",
          "text": [
            " 34%|███▍      | 390/1141 [00:50<01:44,  7.18it/s]"
          ]
        },
        {
          "output_type": "stream",
          "name": "stdout",
          "text": [
            "0.020273685455322266\n",
            "0.017407655715942383\n"
          ]
        },
        {
          "output_type": "stream",
          "name": "stderr",
          "text": [
            " 34%|███▍      | 392/1141 [00:50<01:52,  6.68it/s]"
          ]
        },
        {
          "output_type": "stream",
          "name": "stdout",
          "text": [
            "0.015979528427124023\n",
            "0.016643285751342773\n"
          ]
        },
        {
          "output_type": "stream",
          "name": "stderr",
          "text": [
            " 35%|███▍      | 394/1141 [00:50<01:56,  6.42it/s]"
          ]
        },
        {
          "output_type": "stream",
          "name": "stdout",
          "text": [
            "0.016403675079345703\n",
            "0.019713163375854492\n"
          ]
        },
        {
          "output_type": "stream",
          "name": "stderr",
          "text": [
            " 35%|███▍      | 396/1141 [00:51<01:59,  6.22it/s]"
          ]
        },
        {
          "output_type": "stream",
          "name": "stdout",
          "text": [
            "0.016852617263793945\n",
            "0.01630091667175293\n"
          ]
        },
        {
          "output_type": "stream",
          "name": "stderr",
          "text": [
            " 35%|███▍      | 398/1141 [00:51<02:06,  5.88it/s]"
          ]
        },
        {
          "output_type": "stream",
          "name": "stdout",
          "text": [
            "0.01991724967956543\n",
            "0.02031421661376953\n"
          ]
        },
        {
          "output_type": "stream",
          "name": "stderr",
          "text": [
            " 35%|███▌      | 400/1141 [00:51<02:05,  5.92it/s]"
          ]
        },
        {
          "output_type": "stream",
          "name": "stdout",
          "text": [
            "0.01629328727722168\n",
            "0.019930362701416016\n"
          ]
        },
        {
          "output_type": "stream",
          "name": "stderr",
          "text": [
            " 35%|███▌      | 402/1141 [00:52<02:05,  5.90it/s]"
          ]
        },
        {
          "output_type": "stream",
          "name": "stdout",
          "text": [
            "0.018739700317382812\n",
            "0.01897287368774414\n"
          ]
        },
        {
          "output_type": "stream",
          "name": "stderr",
          "text": [
            " 35%|███▌      | 404/1141 [00:52<02:06,  5.82it/s]"
          ]
        },
        {
          "output_type": "stream",
          "name": "stdout",
          "text": [
            "0.023657798767089844\n",
            "0.022697925567626953\n"
          ]
        },
        {
          "output_type": "stream",
          "name": "stderr",
          "text": [
            " 36%|███▌      | 406/1141 [00:52<02:03,  5.97it/s]"
          ]
        },
        {
          "output_type": "stream",
          "name": "stdout",
          "text": [
            "0.019548654556274414\n",
            "0.020627737045288086\n"
          ]
        },
        {
          "output_type": "stream",
          "name": "stderr",
          "text": [
            " 36%|███▌      | 408/1141 [00:52<01:42,  7.12it/s]"
          ]
        },
        {
          "output_type": "stream",
          "name": "stdout",
          "text": [
            "0.013985395431518555\n",
            "0.01373744010925293\n"
          ]
        },
        {
          "output_type": "stream",
          "name": "stderr",
          "text": [
            " 36%|███▌      | 410/1141 [00:53<01:32,  7.90it/s]"
          ]
        },
        {
          "output_type": "stream",
          "name": "stdout",
          "text": [
            "0.014797210693359375\n",
            "0.013806581497192383\n"
          ]
        },
        {
          "output_type": "stream",
          "name": "stderr",
          "text": [
            " 36%|███▌      | 412/1141 [00:53<01:28,  8.26it/s]"
          ]
        },
        {
          "output_type": "stream",
          "name": "stdout",
          "text": [
            "0.015574216842651367\n",
            "0.013233184814453125\n"
          ]
        },
        {
          "output_type": "stream",
          "name": "stderr",
          "text": [
            " 36%|███▋      | 414/1141 [00:53<01:24,  8.61it/s]"
          ]
        },
        {
          "output_type": "stream",
          "name": "stdout",
          "text": [
            "0.016226768493652344\n",
            "0.014568090438842773\n"
          ]
        },
        {
          "output_type": "stream",
          "name": "stderr",
          "text": [
            " 36%|███▋      | 416/1141 [00:53<01:23,  8.67it/s]"
          ]
        },
        {
          "output_type": "stream",
          "name": "stdout",
          "text": [
            "0.015542268753051758\n",
            "0.013908863067626953\n"
          ]
        },
        {
          "output_type": "stream",
          "name": "stderr",
          "text": [
            " 37%|███▋      | 418/1141 [00:54<01:21,  8.84it/s]"
          ]
        },
        {
          "output_type": "stream",
          "name": "stdout",
          "text": [
            "0.014365196228027344\n",
            "0.014717340469360352\n"
          ]
        },
        {
          "output_type": "stream",
          "name": "stderr",
          "text": [
            " 37%|███▋      | 420/1141 [00:54<01:24,  8.55it/s]"
          ]
        },
        {
          "output_type": "stream",
          "name": "stdout",
          "text": [
            "0.014397382736206055\n",
            "0.014310598373413086\n"
          ]
        },
        {
          "output_type": "stream",
          "name": "stderr",
          "text": [
            " 37%|███▋      | 422/1141 [00:54<01:21,  8.79it/s]"
          ]
        },
        {
          "output_type": "stream",
          "name": "stdout",
          "text": [
            "0.013792753219604492\n",
            "0.01384735107421875\n"
          ]
        },
        {
          "output_type": "stream",
          "name": "stderr",
          "text": [
            " 37%|███▋      | 424/1141 [00:54<01:20,  8.95it/s]"
          ]
        },
        {
          "output_type": "stream",
          "name": "stdout",
          "text": [
            "0.014344930648803711\n",
            "0.014252901077270508\n"
          ]
        },
        {
          "output_type": "stream",
          "name": "stderr",
          "text": [
            " 37%|███▋      | 426/1141 [00:55<01:21,  8.79it/s]"
          ]
        },
        {
          "output_type": "stream",
          "name": "stdout",
          "text": [
            "0.01830768585205078\n",
            "0.013705015182495117\n"
          ]
        },
        {
          "output_type": "stream",
          "name": "stderr",
          "text": [
            " 38%|███▊      | 428/1141 [00:55<01:20,  8.82it/s]"
          ]
        },
        {
          "output_type": "stream",
          "name": "stdout",
          "text": [
            "0.013808727264404297\n",
            "0.014822244644165039\n"
          ]
        },
        {
          "output_type": "stream",
          "name": "stderr",
          "text": [
            " 38%|███▊      | 430/1141 [00:55<01:23,  8.47it/s]"
          ]
        },
        {
          "output_type": "stream",
          "name": "stdout",
          "text": [
            "0.013653278350830078\n",
            "0.013988256454467773\n"
          ]
        },
        {
          "output_type": "stream",
          "name": "stderr",
          "text": [
            " 38%|███▊      | 432/1141 [00:55<01:21,  8.69it/s]"
          ]
        },
        {
          "output_type": "stream",
          "name": "stdout",
          "text": [
            "0.013880491256713867\n",
            "0.013907432556152344\n"
          ]
        },
        {
          "output_type": "stream",
          "name": "stderr",
          "text": [
            " 38%|███▊      | 434/1141 [00:55<01:20,  8.81it/s]"
          ]
        },
        {
          "output_type": "stream",
          "name": "stdout",
          "text": [
            "0.015926361083984375\n",
            "0.013634204864501953\n"
          ]
        },
        {
          "output_type": "stream",
          "name": "stderr",
          "text": [
            " 38%|███▊      | 436/1141 [00:56<01:18,  8.94it/s]"
          ]
        },
        {
          "output_type": "stream",
          "name": "stdout",
          "text": [
            "0.01573801040649414\n",
            "0.013359308242797852\n"
          ]
        },
        {
          "output_type": "stream",
          "name": "stderr",
          "text": [
            " 38%|███▊      | 438/1141 [00:56<01:21,  8.57it/s]"
          ]
        },
        {
          "output_type": "stream",
          "name": "stdout",
          "text": [
            "0.018173933029174805\n",
            "0.013880491256713867\n"
          ]
        },
        {
          "output_type": "stream",
          "name": "stderr",
          "text": [
            " 39%|███▊      | 440/1141 [00:56<01:19,  8.78it/s]"
          ]
        },
        {
          "output_type": "stream",
          "name": "stdout",
          "text": [
            "0.01362466812133789\n",
            "0.01654529571533203\n"
          ]
        },
        {
          "output_type": "stream",
          "name": "stderr",
          "text": [
            " 39%|███▊      | 442/1141 [00:56<01:19,  8.77it/s]"
          ]
        },
        {
          "output_type": "stream",
          "name": "stdout",
          "text": [
            "0.013894081115722656\n",
            "0.01453709602355957\n"
          ]
        },
        {
          "output_type": "stream",
          "name": "stderr",
          "text": [
            " 39%|███▉      | 444/1141 [00:57<01:20,  8.68it/s]"
          ]
        },
        {
          "output_type": "stream",
          "name": "stdout",
          "text": [
            "0.014270305633544922\n",
            "0.014444589614868164\n"
          ]
        },
        {
          "output_type": "stream",
          "name": "stderr",
          "text": [
            " 39%|███▉      | 446/1141 [00:57<01:21,  8.55it/s]"
          ]
        },
        {
          "output_type": "stream",
          "name": "stdout",
          "text": [
            "0.014349699020385742\n",
            "0.01671147346496582\n"
          ]
        },
        {
          "output_type": "stream",
          "name": "stderr",
          "text": [
            " 39%|███▉      | 448/1141 [00:57<01:20,  8.61it/s]"
          ]
        },
        {
          "output_type": "stream",
          "name": "stdout",
          "text": [
            "0.014128923416137695\n",
            "0.013694047927856445\n"
          ]
        },
        {
          "output_type": "stream",
          "name": "stderr",
          "text": [
            " 39%|███▉      | 450/1141 [00:57<01:20,  8.58it/s]"
          ]
        },
        {
          "output_type": "stream",
          "name": "stdout",
          "text": [
            "0.014106988906860352\n",
            "0.016481637954711914\n"
          ]
        },
        {
          "output_type": "stream",
          "name": "stderr",
          "text": [
            " 40%|███▉      | 452/1141 [00:58<01:20,  8.61it/s]"
          ]
        },
        {
          "output_type": "stream",
          "name": "stdout",
          "text": [
            "0.015497684478759766\n",
            "0.01394033432006836\n"
          ]
        },
        {
          "output_type": "stream",
          "name": "stderr",
          "text": [
            " 40%|███▉      | 454/1141 [00:58<01:18,  8.74it/s]"
          ]
        },
        {
          "output_type": "stream",
          "name": "stdout",
          "text": [
            "0.013969659805297852\n",
            "0.013685941696166992\n"
          ]
        },
        {
          "output_type": "stream",
          "name": "stderr",
          "text": [
            " 40%|███▉      | 456/1141 [00:58<01:20,  8.50it/s]"
          ]
        },
        {
          "output_type": "stream",
          "name": "stdout",
          "text": [
            "0.013493776321411133\n",
            "0.013341426849365234\n"
          ]
        },
        {
          "output_type": "stream",
          "name": "stderr",
          "text": [
            " 40%|████      | 458/1141 [00:58<01:19,  8.59it/s]"
          ]
        },
        {
          "output_type": "stream",
          "name": "stdout",
          "text": [
            "0.017006397247314453\n",
            "0.014050483703613281\n"
          ]
        },
        {
          "output_type": "stream",
          "name": "stderr",
          "text": [
            " 40%|████      | 460/1141 [00:58<01:17,  8.80it/s]"
          ]
        },
        {
          "output_type": "stream",
          "name": "stdout",
          "text": [
            "0.013955116271972656\n",
            "0.013499259948730469\n"
          ]
        },
        {
          "output_type": "stream",
          "name": "stderr",
          "text": [
            " 40%|████      | 462/1141 [00:59<01:17,  8.81it/s]"
          ]
        },
        {
          "output_type": "stream",
          "name": "stdout",
          "text": [
            "0.01369619369506836\n",
            "0.016157865524291992\n"
          ]
        },
        {
          "output_type": "stream",
          "name": "stderr",
          "text": [
            " 41%|████      | 464/1141 [00:59<01:19,  8.54it/s]"
          ]
        },
        {
          "output_type": "stream",
          "name": "stdout",
          "text": [
            "0.017763614654541016\n",
            "0.014000892639160156\n"
          ]
        },
        {
          "output_type": "stream",
          "name": "stderr",
          "text": [
            " 41%|████      | 466/1141 [00:59<01:19,  8.49it/s]"
          ]
        },
        {
          "output_type": "stream",
          "name": "stdout",
          "text": [
            "0.013541221618652344\n",
            "0.014542341232299805\n"
          ]
        },
        {
          "output_type": "stream",
          "name": "stderr",
          "text": [
            " 41%|████      | 468/1141 [00:59<01:19,  8.47it/s]"
          ]
        },
        {
          "output_type": "stream",
          "name": "stdout",
          "text": [
            "0.013948678970336914\n",
            "0.018171310424804688\n"
          ]
        },
        {
          "output_type": "stream",
          "name": "stderr",
          "text": [
            " 41%|████      | 470/1141 [01:00<01:17,  8.64it/s]"
          ]
        },
        {
          "output_type": "stream",
          "name": "stdout",
          "text": [
            "0.01439356803894043\n",
            "0.015526771545410156\n"
          ]
        },
        {
          "output_type": "stream",
          "name": "stderr",
          "text": [
            " 41%|████▏     | 472/1141 [01:00<01:18,  8.57it/s]"
          ]
        },
        {
          "output_type": "stream",
          "name": "stdout",
          "text": [
            "0.013494014739990234\n",
            "0.01679086685180664\n"
          ]
        },
        {
          "output_type": "stream",
          "name": "stderr",
          "text": [
            " 42%|████▏     | 474/1141 [01:00<01:17,  8.55it/s]"
          ]
        },
        {
          "output_type": "stream",
          "name": "stdout",
          "text": [
            "0.013540029525756836\n",
            "0.014217615127563477\n"
          ]
        },
        {
          "output_type": "stream",
          "name": "stderr",
          "text": [
            " 42%|████▏     | 476/1141 [01:00<01:16,  8.66it/s]"
          ]
        },
        {
          "output_type": "stream",
          "name": "stdout",
          "text": [
            "0.013615131378173828\n",
            "0.01368570327758789\n"
          ]
        },
        {
          "output_type": "stream",
          "name": "stderr",
          "text": [
            " 42%|████▏     | 478/1141 [01:01<01:15,  8.75it/s]"
          ]
        },
        {
          "output_type": "stream",
          "name": "stdout",
          "text": [
            "0.014252901077270508\n",
            "0.01386713981628418\n"
          ]
        },
        {
          "output_type": "stream",
          "name": "stderr",
          "text": [
            " 42%|████▏     | 480/1141 [01:01<01:14,  8.82it/s]"
          ]
        },
        {
          "output_type": "stream",
          "name": "stdout",
          "text": [
            "0.014918088912963867\n",
            "0.013646125793457031\n"
          ]
        },
        {
          "output_type": "stream",
          "name": "stderr",
          "text": [
            " 42%|████▏     | 482/1141 [01:01<01:14,  8.85it/s]"
          ]
        },
        {
          "output_type": "stream",
          "name": "stdout",
          "text": [
            "0.013642072677612305\n",
            "0.013264179229736328\n"
          ]
        },
        {
          "output_type": "stream",
          "name": "stderr",
          "text": [
            " 42%|████▏     | 484/1141 [01:01<01:15,  8.74it/s]"
          ]
        },
        {
          "output_type": "stream",
          "name": "stdout",
          "text": [
            "0.013954639434814453\n",
            "0.015608072280883789\n"
          ]
        },
        {
          "output_type": "stream",
          "name": "stderr",
          "text": [
            " 43%|████▎     | 486/1141 [01:01<01:14,  8.77it/s]"
          ]
        },
        {
          "output_type": "stream",
          "name": "stdout",
          "text": [
            "0.01466059684753418\n",
            "0.013313770294189453\n"
          ]
        },
        {
          "output_type": "stream",
          "name": "stderr",
          "text": [
            " 43%|████▎     | 488/1141 [01:02<01:14,  8.80it/s]"
          ]
        },
        {
          "output_type": "stream",
          "name": "stdout",
          "text": [
            "0.013652801513671875\n",
            "0.013654232025146484\n"
          ]
        },
        {
          "output_type": "stream",
          "name": "stderr",
          "text": [
            " 43%|████▎     | 490/1141 [01:02<01:15,  8.60it/s]"
          ]
        },
        {
          "output_type": "stream",
          "name": "stdout",
          "text": [
            "0.019318819046020508\n",
            "0.014343738555908203\n"
          ]
        },
        {
          "output_type": "stream",
          "name": "stderr",
          "text": [
            " 43%|████▎     | 492/1141 [01:02<01:14,  8.67it/s]"
          ]
        },
        {
          "output_type": "stream",
          "name": "stdout",
          "text": [
            "0.0188753604888916\n",
            "0.01385498046875\n"
          ]
        },
        {
          "output_type": "stream",
          "name": "stderr",
          "text": [
            " 43%|████▎     | 494/1141 [01:02<01:24,  7.63it/s]"
          ]
        },
        {
          "output_type": "stream",
          "name": "stdout",
          "text": [
            "0.01605057716369629\n",
            "0.020400285720825195\n"
          ]
        },
        {
          "output_type": "stream",
          "name": "stderr",
          "text": [
            "\r 43%|████▎     | 495/1141 [01:03<01:34,  6.82it/s]"
          ]
        },
        {
          "output_type": "stream",
          "name": "stdout",
          "text": [
            "0.018231868743896484\n"
          ]
        },
        {
          "output_type": "stream",
          "name": "stderr",
          "text": [
            " 44%|████▎     | 497/1141 [01:03<01:44,  6.16it/s]"
          ]
        },
        {
          "output_type": "stream",
          "name": "stdout",
          "text": [
            "0.031931400299072266\n",
            "0.016412019729614258\n"
          ]
        },
        {
          "output_type": "stream",
          "name": "stderr",
          "text": [
            " 44%|████▎     | 499/1141 [01:03<01:46,  6.01it/s]"
          ]
        },
        {
          "output_type": "stream",
          "name": "stdout",
          "text": [
            "0.01758599281311035\n",
            "0.02024388313293457\n"
          ]
        },
        {
          "output_type": "stream",
          "name": "stderr",
          "text": [
            " 44%|████▍     | 501/1141 [01:04<01:45,  6.05it/s]"
          ]
        },
        {
          "output_type": "stream",
          "name": "stdout",
          "text": [
            "0.01870441436767578\n",
            "0.015631914138793945\n"
          ]
        },
        {
          "output_type": "stream",
          "name": "stderr",
          "text": [
            " 44%|████▍     | 503/1141 [01:04<01:45,  6.02it/s]"
          ]
        },
        {
          "output_type": "stream",
          "name": "stdout",
          "text": [
            "0.016297340393066406\n",
            "0.019512653350830078\n"
          ]
        },
        {
          "output_type": "stream",
          "name": "stderr",
          "text": [
            " 44%|████▍     | 505/1141 [01:04<01:45,  6.03it/s]"
          ]
        },
        {
          "output_type": "stream",
          "name": "stdout",
          "text": [
            "0.01974344253540039\n",
            "0.020655393600463867\n"
          ]
        },
        {
          "output_type": "stream",
          "name": "stderr",
          "text": [
            " 44%|████▍     | 507/1141 [01:05<01:49,  5.79it/s]"
          ]
        },
        {
          "output_type": "stream",
          "name": "stdout",
          "text": [
            "0.020974397659301758\n",
            "0.020252704620361328\n"
          ]
        },
        {
          "output_type": "stream",
          "name": "stderr",
          "text": [
            "\r 45%|████▍     | 508/1141 [01:05<03:03,  3.46it/s]"
          ]
        },
        {
          "output_type": "stream",
          "name": "stdout",
          "text": [
            "0.1119084358215332\n"
          ]
        },
        {
          "output_type": "stream",
          "name": "stderr",
          "text": [
            " 45%|████▍     | 510/1141 [01:06<02:52,  3.65it/s]"
          ]
        },
        {
          "output_type": "stream",
          "name": "stdout",
          "text": [
            "0.013828754425048828\n",
            "0.013496875762939453\n"
          ]
        },
        {
          "output_type": "stream",
          "name": "stderr",
          "text": [
            " 45%|████▍     | 512/1141 [01:06<01:59,  5.26it/s]"
          ]
        },
        {
          "output_type": "stream",
          "name": "stdout",
          "text": [
            "0.01358485221862793\n",
            "0.013855695724487305\n"
          ]
        },
        {
          "output_type": "stream",
          "name": "stderr",
          "text": [
            " 45%|████▌     | 514/1141 [01:06<01:35,  6.55it/s]"
          ]
        },
        {
          "output_type": "stream",
          "name": "stdout",
          "text": [
            "0.01576995849609375\n",
            "0.013876676559448242\n"
          ]
        },
        {
          "output_type": "stream",
          "name": "stderr",
          "text": [
            " 45%|████▌     | 516/1141 [01:07<01:22,  7.60it/s]"
          ]
        },
        {
          "output_type": "stream",
          "name": "stdout",
          "text": [
            "0.013529062271118164\n",
            "0.013666629791259766\n"
          ]
        },
        {
          "output_type": "stream",
          "name": "stderr",
          "text": [
            " 45%|████▌     | 518/1141 [01:07<01:19,  7.79it/s]"
          ]
        },
        {
          "output_type": "stream",
          "name": "stdout",
          "text": [
            "0.014914751052856445\n",
            "0.0182037353515625\n"
          ]
        },
        {
          "output_type": "stream",
          "name": "stderr",
          "text": [
            " 46%|████▌     | 520/1141 [01:07<01:16,  8.10it/s]"
          ]
        },
        {
          "output_type": "stream",
          "name": "stdout",
          "text": [
            "0.013696670532226562\n",
            "0.013819694519042969\n"
          ]
        },
        {
          "output_type": "stream",
          "name": "stderr",
          "text": [
            " 46%|████▌     | 522/1141 [01:07<01:13,  8.41it/s]"
          ]
        },
        {
          "output_type": "stream",
          "name": "stdout",
          "text": [
            "0.01403188705444336\n",
            "0.014052629470825195\n"
          ]
        },
        {
          "output_type": "stream",
          "name": "stderr",
          "text": [
            " 46%|████▌     | 524/1141 [01:07<01:12,  8.54it/s]"
          ]
        },
        {
          "output_type": "stream",
          "name": "stdout",
          "text": [
            "0.014449357986450195\n",
            "0.013664960861206055\n"
          ]
        },
        {
          "output_type": "stream",
          "name": "stderr",
          "text": [
            " 46%|████▌     | 526/1141 [01:08<01:11,  8.59it/s]"
          ]
        },
        {
          "output_type": "stream",
          "name": "stdout",
          "text": [
            "0.014110803604125977\n",
            "0.01600503921508789\n"
          ]
        },
        {
          "output_type": "stream",
          "name": "stderr",
          "text": [
            " 46%|████▋     | 528/1141 [01:08<01:11,  8.57it/s]"
          ]
        },
        {
          "output_type": "stream",
          "name": "stdout",
          "text": [
            "0.01877427101135254\n",
            "0.013902902603149414\n"
          ]
        },
        {
          "output_type": "stream",
          "name": "stderr",
          "text": [
            " 46%|████▋     | 530/1141 [01:08<01:09,  8.83it/s]"
          ]
        },
        {
          "output_type": "stream",
          "name": "stdout",
          "text": [
            "0.014484882354736328\n",
            "0.013738870620727539\n"
          ]
        },
        {
          "output_type": "stream",
          "name": "stderr",
          "text": [
            " 47%|████▋     | 532/1141 [01:08<01:11,  8.54it/s]"
          ]
        },
        {
          "output_type": "stream",
          "name": "stdout",
          "text": [
            "0.016995906829833984\n",
            "0.0137786865234375\n"
          ]
        },
        {
          "output_type": "stream",
          "name": "stderr",
          "text": [
            " 47%|████▋     | 534/1141 [01:09<01:09,  8.74it/s]"
          ]
        },
        {
          "output_type": "stream",
          "name": "stdout",
          "text": [
            "0.01378011703491211\n",
            "0.013827085494995117\n"
          ]
        },
        {
          "output_type": "stream",
          "name": "stderr",
          "text": [
            " 47%|████▋     | 536/1141 [01:09<01:10,  8.61it/s]"
          ]
        },
        {
          "output_type": "stream",
          "name": "stdout",
          "text": [
            "0.015894651412963867\n",
            "0.013689279556274414\n"
          ]
        },
        {
          "output_type": "stream",
          "name": "stderr",
          "text": [
            " 47%|████▋     | 538/1141 [01:09<01:08,  8.79it/s]"
          ]
        },
        {
          "output_type": "stream",
          "name": "stdout",
          "text": [
            "0.013710260391235352\n",
            "0.014983177185058594\n"
          ]
        },
        {
          "output_type": "stream",
          "name": "stderr",
          "text": [
            " 47%|████▋     | 540/1141 [01:09<01:08,  8.78it/s]"
          ]
        },
        {
          "output_type": "stream",
          "name": "stdout",
          "text": [
            "0.014544963836669922\n",
            "0.018552780151367188\n"
          ]
        },
        {
          "output_type": "stream",
          "name": "stderr",
          "text": [
            " 48%|████▊     | 542/1141 [01:10<01:09,  8.64it/s]"
          ]
        },
        {
          "output_type": "stream",
          "name": "stdout",
          "text": [
            "0.013865947723388672\n",
            "0.013846397399902344\n"
          ]
        },
        {
          "output_type": "stream",
          "name": "stderr",
          "text": [
            " 48%|████▊     | 544/1141 [01:10<01:09,  8.56it/s]"
          ]
        },
        {
          "output_type": "stream",
          "name": "stdout",
          "text": [
            "0.014792203903198242\n",
            "0.014838218688964844\n"
          ]
        },
        {
          "output_type": "stream",
          "name": "stderr",
          "text": [
            " 48%|████▊     | 546/1141 [01:10<01:09,  8.61it/s]"
          ]
        },
        {
          "output_type": "stream",
          "name": "stdout",
          "text": [
            "0.013686895370483398\n",
            "0.013271570205688477\n"
          ]
        },
        {
          "output_type": "stream",
          "name": "stderr",
          "text": [
            " 48%|████▊     | 548/1141 [01:10<01:08,  8.64it/s]"
          ]
        },
        {
          "output_type": "stream",
          "name": "stdout",
          "text": [
            "0.016640663146972656\n",
            "0.014088630676269531\n"
          ]
        },
        {
          "output_type": "stream",
          "name": "stderr",
          "text": [
            " 48%|████▊     | 550/1141 [01:10<01:08,  8.66it/s]"
          ]
        },
        {
          "output_type": "stream",
          "name": "stdout",
          "text": [
            "0.0229189395904541\n",
            "0.01461482048034668\n"
          ]
        },
        {
          "output_type": "stream",
          "name": "stderr",
          "text": [
            " 48%|████▊     | 552/1141 [01:11<01:08,  8.63it/s]"
          ]
        },
        {
          "output_type": "stream",
          "name": "stdout",
          "text": [
            "0.01440286636352539\n",
            "0.014292716979980469\n"
          ]
        },
        {
          "output_type": "stream",
          "name": "stderr",
          "text": [
            " 49%|████▊     | 554/1141 [01:11<01:08,  8.60it/s]"
          ]
        },
        {
          "output_type": "stream",
          "name": "stdout",
          "text": [
            "0.01803112030029297\n",
            "0.013360738754272461\n"
          ]
        },
        {
          "output_type": "stream",
          "name": "stderr",
          "text": [
            " 49%|████▊     | 556/1141 [01:11<01:07,  8.72it/s]"
          ]
        },
        {
          "output_type": "stream",
          "name": "stdout",
          "text": [
            "0.013684511184692383\n",
            "0.014973163604736328\n"
          ]
        },
        {
          "output_type": "stream",
          "name": "stderr",
          "text": [
            " 49%|████▉     | 558/1141 [01:11<01:08,  8.49it/s]"
          ]
        },
        {
          "output_type": "stream",
          "name": "stdout",
          "text": [
            "0.014148235321044922\n",
            "0.015879392623901367\n"
          ]
        },
        {
          "output_type": "stream",
          "name": "stderr",
          "text": [
            " 49%|████▉     | 560/1141 [01:12<01:07,  8.64it/s]"
          ]
        },
        {
          "output_type": "stream",
          "name": "stdout",
          "text": [
            "0.013785839080810547\n",
            "0.013847112655639648\n"
          ]
        },
        {
          "output_type": "stream",
          "name": "stderr",
          "text": [
            " 49%|████▉     | 562/1141 [01:12<01:10,  8.22it/s]"
          ]
        },
        {
          "output_type": "stream",
          "name": "stdout",
          "text": [
            "0.013781070709228516\n",
            "0.013521194458007812\n"
          ]
        },
        {
          "output_type": "stream",
          "name": "stderr",
          "text": [
            " 49%|████▉     | 564/1141 [01:12<01:09,  8.31it/s]"
          ]
        },
        {
          "output_type": "stream",
          "name": "stdout",
          "text": [
            "0.01712632179260254\n",
            "0.013609647750854492\n"
          ]
        },
        {
          "output_type": "stream",
          "name": "stderr",
          "text": [
            " 50%|████▉     | 566/1141 [01:12<01:07,  8.53it/s]"
          ]
        },
        {
          "output_type": "stream",
          "name": "stdout",
          "text": [
            "0.013599872589111328\n",
            "0.014102935791015625\n"
          ]
        },
        {
          "output_type": "stream",
          "name": "stderr",
          "text": [
            " 50%|████▉     | 568/1141 [01:13<01:06,  8.58it/s]"
          ]
        },
        {
          "output_type": "stream",
          "name": "stdout",
          "text": [
            "0.013730525970458984\n",
            "0.013591289520263672\n"
          ]
        },
        {
          "output_type": "stream",
          "name": "stderr",
          "text": [
            " 50%|████▉     | 570/1141 [01:13<01:06,  8.61it/s]"
          ]
        },
        {
          "output_type": "stream",
          "name": "stdout",
          "text": [
            "0.013907432556152344\n",
            "0.018948078155517578\n"
          ]
        },
        {
          "output_type": "stream",
          "name": "stderr",
          "text": [
            " 50%|█████     | 572/1141 [01:13<01:04,  8.82it/s]"
          ]
        },
        {
          "output_type": "stream",
          "name": "stdout",
          "text": [
            "0.01365804672241211\n",
            "0.013313531875610352\n"
          ]
        },
        {
          "output_type": "stream",
          "name": "stderr",
          "text": [
            " 50%|█████     | 574/1141 [01:13<01:03,  8.89it/s]"
          ]
        },
        {
          "output_type": "stream",
          "name": "stdout",
          "text": [
            "0.013695240020751953\n",
            "0.013893604278564453\n"
          ]
        },
        {
          "output_type": "stream",
          "name": "stderr",
          "text": [
            " 50%|█████     | 576/1141 [01:14<01:06,  8.52it/s]"
          ]
        },
        {
          "output_type": "stream",
          "name": "stdout",
          "text": [
            "0.013633251190185547\n",
            "0.013395547866821289\n"
          ]
        },
        {
          "output_type": "stream",
          "name": "stderr",
          "text": [
            " 51%|█████     | 578/1141 [01:14<01:04,  8.74it/s]"
          ]
        },
        {
          "output_type": "stream",
          "name": "stdout",
          "text": [
            "0.01350545883178711\n",
            "0.013527870178222656\n"
          ]
        },
        {
          "output_type": "stream",
          "name": "stderr",
          "text": [
            " 51%|█████     | 580/1141 [01:14<01:04,  8.69it/s]"
          ]
        },
        {
          "output_type": "stream",
          "name": "stdout",
          "text": [
            "0.013633012771606445\n",
            "0.013755559921264648\n"
          ]
        },
        {
          "output_type": "stream",
          "name": "stderr",
          "text": [
            " 51%|█████     | 582/1141 [01:14<01:02,  8.89it/s]"
          ]
        },
        {
          "output_type": "stream",
          "name": "stdout",
          "text": [
            "0.01680302619934082\n",
            "0.013478994369506836\n"
          ]
        },
        {
          "output_type": "stream",
          "name": "stderr",
          "text": [
            " 51%|█████     | 584/1141 [01:14<01:02,  8.89it/s]"
          ]
        },
        {
          "output_type": "stream",
          "name": "stdout",
          "text": [
            "0.014592647552490234\n",
            "0.014259576797485352\n"
          ]
        },
        {
          "output_type": "stream",
          "name": "stderr",
          "text": [
            " 51%|█████▏    | 586/1141 [01:15<01:04,  8.65it/s]"
          ]
        },
        {
          "output_type": "stream",
          "name": "stdout",
          "text": [
            "0.01371455192565918\n",
            "0.013569355010986328\n"
          ]
        },
        {
          "output_type": "stream",
          "name": "stderr",
          "text": [
            " 52%|█████▏    | 588/1141 [01:15<01:04,  8.53it/s]"
          ]
        },
        {
          "output_type": "stream",
          "name": "stdout",
          "text": [
            "0.013830184936523438\n",
            "0.013742446899414062\n"
          ]
        },
        {
          "output_type": "stream",
          "name": "stderr",
          "text": [
            " 52%|█████▏    | 590/1141 [01:15<01:02,  8.81it/s]"
          ]
        },
        {
          "output_type": "stream",
          "name": "stdout",
          "text": [
            "0.01601243019104004\n",
            "0.013495922088623047\n"
          ]
        },
        {
          "output_type": "stream",
          "name": "stderr",
          "text": [
            " 52%|█████▏    | 592/1141 [01:15<01:01,  8.93it/s]"
          ]
        },
        {
          "output_type": "stream",
          "name": "stdout",
          "text": [
            "0.015490293502807617\n",
            "0.013472557067871094\n"
          ]
        },
        {
          "output_type": "stream",
          "name": "stderr",
          "text": [
            " 52%|█████▏    | 594/1141 [01:16<01:03,  8.62it/s]"
          ]
        },
        {
          "output_type": "stream",
          "name": "stdout",
          "text": [
            "0.014695167541503906\n",
            "0.014208316802978516\n"
          ]
        },
        {
          "output_type": "stream",
          "name": "stderr",
          "text": [
            " 52%|█████▏    | 596/1141 [01:16<01:11,  7.57it/s]"
          ]
        },
        {
          "output_type": "stream",
          "name": "stdout",
          "text": [
            "0.01935100555419922\n",
            "0.01873159408569336\n"
          ]
        },
        {
          "output_type": "stream",
          "name": "stderr",
          "text": [
            " 52%|█████▏    | 598/1141 [01:16<01:20,  6.75it/s]"
          ]
        },
        {
          "output_type": "stream",
          "name": "stdout",
          "text": [
            "0.01662588119506836\n",
            "0.016769886016845703\n"
          ]
        },
        {
          "output_type": "stream",
          "name": "stderr",
          "text": [
            " 53%|█████▎    | 600/1141 [01:17<01:24,  6.40it/s]"
          ]
        },
        {
          "output_type": "stream",
          "name": "stdout",
          "text": [
            "0.0162661075592041\n",
            "0.019728660583496094\n"
          ]
        },
        {
          "output_type": "stream",
          "name": "stderr",
          "text": [
            " 53%|█████▎    | 602/1141 [01:17<01:26,  6.22it/s]"
          ]
        },
        {
          "output_type": "stream",
          "name": "stdout",
          "text": [
            "0.017852783203125\n",
            "0.017838001251220703\n"
          ]
        },
        {
          "output_type": "stream",
          "name": "stderr",
          "text": [
            " 53%|█████▎    | 604/1141 [01:17<01:26,  6.18it/s]"
          ]
        },
        {
          "output_type": "stream",
          "name": "stdout",
          "text": [
            "0.016913414001464844\n",
            "0.016947269439697266\n"
          ]
        },
        {
          "output_type": "stream",
          "name": "stderr",
          "text": [
            " 53%|█████▎    | 606/1141 [01:18<01:28,  6.02it/s]"
          ]
        },
        {
          "output_type": "stream",
          "name": "stdout",
          "text": [
            "0.02009725570678711\n",
            "0.017188310623168945\n"
          ]
        },
        {
          "output_type": "stream",
          "name": "stderr",
          "text": [
            " 53%|█████▎    | 608/1141 [01:18<01:29,  5.94it/s]"
          ]
        },
        {
          "output_type": "stream",
          "name": "stdout",
          "text": [
            "0.022582054138183594\n",
            "0.0195772647857666\n"
          ]
        },
        {
          "output_type": "stream",
          "name": "stderr",
          "text": [
            " 53%|█████▎    | 610/1141 [01:18<01:28,  6.03it/s]"
          ]
        },
        {
          "output_type": "stream",
          "name": "stdout",
          "text": [
            "0.018358945846557617\n",
            "0.018581867218017578\n"
          ]
        },
        {
          "output_type": "stream",
          "name": "stderr",
          "text": [
            " 54%|█████▎    | 612/1141 [01:19<01:28,  5.98it/s]"
          ]
        },
        {
          "output_type": "stream",
          "name": "stdout",
          "text": [
            "0.019758224487304688\n",
            "0.01961493492126465\n"
          ]
        },
        {
          "output_type": "stream",
          "name": "stderr",
          "text": [
            " 54%|█████▍    | 614/1141 [01:19<01:22,  6.42it/s]"
          ]
        },
        {
          "output_type": "stream",
          "name": "stdout",
          "text": [
            "0.02122354507446289\n",
            "0.017718076705932617\n"
          ]
        },
        {
          "output_type": "stream",
          "name": "stderr",
          "text": [
            " 54%|█████▍    | 616/1141 [01:19<01:09,  7.50it/s]"
          ]
        },
        {
          "output_type": "stream",
          "name": "stdout",
          "text": [
            "0.013677358627319336\n",
            "0.013347864151000977\n"
          ]
        },
        {
          "output_type": "stream",
          "name": "stderr",
          "text": [
            " 54%|█████▍    | 618/1141 [01:19<01:04,  8.14it/s]"
          ]
        },
        {
          "output_type": "stream",
          "name": "stdout",
          "text": [
            "0.019218921661376953\n",
            "0.014455318450927734\n"
          ]
        },
        {
          "output_type": "stream",
          "name": "stderr",
          "text": [
            " 54%|█████▍    | 620/1141 [01:20<01:01,  8.46it/s]"
          ]
        },
        {
          "output_type": "stream",
          "name": "stdout",
          "text": [
            "0.014413118362426758\n",
            "0.015125513076782227\n"
          ]
        },
        {
          "output_type": "stream",
          "name": "stderr",
          "text": [
            " 55%|█████▍    | 622/1141 [01:20<01:01,  8.47it/s]"
          ]
        },
        {
          "output_type": "stream",
          "name": "stdout",
          "text": [
            "0.013547182083129883\n",
            "0.014284372329711914\n"
          ]
        },
        {
          "output_type": "stream",
          "name": "stderr",
          "text": [
            " 55%|█████▍    | 624/1141 [01:20<01:00,  8.61it/s]"
          ]
        },
        {
          "output_type": "stream",
          "name": "stdout",
          "text": [
            "0.015256404876708984\n",
            "0.01391911506652832\n"
          ]
        },
        {
          "output_type": "stream",
          "name": "stderr",
          "text": [
            " 55%|█████▍    | 626/1141 [01:20<00:58,  8.84it/s]"
          ]
        },
        {
          "output_type": "stream",
          "name": "stdout",
          "text": [
            "0.016387462615966797\n",
            "0.01374197006225586\n"
          ]
        },
        {
          "output_type": "stream",
          "name": "stderr",
          "text": [
            " 55%|█████▌    | 628/1141 [01:20<00:57,  8.91it/s]"
          ]
        },
        {
          "output_type": "stream",
          "name": "stdout",
          "text": [
            "0.014478683471679688\n",
            "0.013955354690551758\n"
          ]
        },
        {
          "output_type": "stream",
          "name": "stderr",
          "text": [
            " 55%|█████▌    | 630/1141 [01:21<00:57,  8.82it/s]"
          ]
        },
        {
          "output_type": "stream",
          "name": "stdout",
          "text": [
            "0.013907432556152344\n",
            "0.013930082321166992\n"
          ]
        },
        {
          "output_type": "stream",
          "name": "stderr",
          "text": [
            " 55%|█████▌    | 632/1141 [01:21<01:01,  8.31it/s]"
          ]
        },
        {
          "output_type": "stream",
          "name": "stdout",
          "text": [
            "0.02001667022705078\n",
            "0.013824939727783203\n"
          ]
        },
        {
          "output_type": "stream",
          "name": "stderr",
          "text": [
            " 56%|█████▌    | 634/1141 [01:21<00:58,  8.71it/s]"
          ]
        },
        {
          "output_type": "stream",
          "name": "stdout",
          "text": [
            "0.01374959945678711\n",
            "0.013485193252563477\n"
          ]
        },
        {
          "output_type": "stream",
          "name": "stderr",
          "text": [
            " 56%|█████▌    | 636/1141 [01:21<00:57,  8.75it/s]"
          ]
        },
        {
          "output_type": "stream",
          "name": "stdout",
          "text": [
            "0.018988609313964844\n",
            "0.013420820236206055\n"
          ]
        },
        {
          "output_type": "stream",
          "name": "stderr",
          "text": [
            " 56%|█████▌    | 638/1141 [01:22<00:56,  8.86it/s]"
          ]
        },
        {
          "output_type": "stream",
          "name": "stdout",
          "text": [
            "0.013671398162841797\n",
            "0.014015913009643555\n"
          ]
        },
        {
          "output_type": "stream",
          "name": "stderr",
          "text": [
            " 56%|█████▌    | 640/1141 [01:22<00:58,  8.52it/s]"
          ]
        },
        {
          "output_type": "stream",
          "name": "stdout",
          "text": [
            "0.01516413688659668\n",
            "0.01989579200744629\n"
          ]
        },
        {
          "output_type": "stream",
          "name": "stderr",
          "text": [
            " 56%|█████▋    | 642/1141 [01:22<00:57,  8.70it/s]"
          ]
        },
        {
          "output_type": "stream",
          "name": "stdout",
          "text": [
            "0.013412237167358398\n",
            "0.013472795486450195\n"
          ]
        },
        {
          "output_type": "stream",
          "name": "stderr",
          "text": [
            " 56%|█████▋    | 644/1141 [01:22<00:57,  8.66it/s]"
          ]
        },
        {
          "output_type": "stream",
          "name": "stdout",
          "text": [
            "0.01503753662109375\n",
            "0.013684988021850586\n"
          ]
        },
        {
          "output_type": "stream",
          "name": "stderr",
          "text": [
            " 57%|█████▋    | 646/1141 [01:22<00:56,  8.72it/s]"
          ]
        },
        {
          "output_type": "stream",
          "name": "stdout",
          "text": [
            "0.01367640495300293\n",
            "0.01566457748413086\n"
          ]
        },
        {
          "output_type": "stream",
          "name": "stderr",
          "text": [
            " 57%|█████▋    | 648/1141 [01:23<00:57,  8.60it/s]"
          ]
        },
        {
          "output_type": "stream",
          "name": "stdout",
          "text": [
            "0.013960123062133789\n",
            "0.019546985626220703\n"
          ]
        },
        {
          "output_type": "stream",
          "name": "stderr",
          "text": [
            " 57%|█████▋    | 650/1141 [01:23<00:57,  8.58it/s]"
          ]
        },
        {
          "output_type": "stream",
          "name": "stdout",
          "text": [
            "0.015260934829711914\n",
            "0.013924360275268555\n"
          ]
        },
        {
          "output_type": "stream",
          "name": "stderr",
          "text": [
            " 57%|█████▋    | 652/1141 [01:23<00:56,  8.72it/s]"
          ]
        },
        {
          "output_type": "stream",
          "name": "stdout",
          "text": [
            "0.015100717544555664\n",
            "0.013460874557495117\n"
          ]
        },
        {
          "output_type": "stream",
          "name": "stderr",
          "text": [
            " 57%|█████▋    | 654/1141 [01:23<00:56,  8.67it/s]"
          ]
        },
        {
          "output_type": "stream",
          "name": "stdout",
          "text": [
            "0.015188932418823242\n",
            "0.013997793197631836\n"
          ]
        },
        {
          "output_type": "stream",
          "name": "stderr",
          "text": [
            " 57%|█████▋    | 656/1141 [01:24<00:55,  8.74it/s]"
          ]
        },
        {
          "output_type": "stream",
          "name": "stdout",
          "text": [
            "0.014118194580078125\n",
            "0.017237186431884766\n"
          ]
        },
        {
          "output_type": "stream",
          "name": "stderr",
          "text": [
            " 58%|█████▊    | 658/1141 [01:24<00:58,  8.30it/s]"
          ]
        },
        {
          "output_type": "stream",
          "name": "stdout",
          "text": [
            "0.02306222915649414\n",
            "0.014912605285644531\n"
          ]
        },
        {
          "output_type": "stream",
          "name": "stderr",
          "text": [
            " 58%|█████▊    | 660/1141 [01:24<00:57,  8.41it/s]"
          ]
        },
        {
          "output_type": "stream",
          "name": "stdout",
          "text": [
            "0.01752924919128418\n",
            "0.013431549072265625\n"
          ]
        },
        {
          "output_type": "stream",
          "name": "stderr",
          "text": [
            " 58%|█████▊    | 662/1141 [01:24<00:55,  8.61it/s]"
          ]
        },
        {
          "output_type": "stream",
          "name": "stdout",
          "text": [
            "0.013901710510253906\n",
            "0.014382362365722656\n"
          ]
        },
        {
          "output_type": "stream",
          "name": "stderr",
          "text": [
            " 58%|█████▊    | 664/1141 [01:25<00:55,  8.58it/s]"
          ]
        },
        {
          "output_type": "stream",
          "name": "stdout",
          "text": [
            "0.01560068130493164\n",
            "0.014101028442382812\n"
          ]
        },
        {
          "output_type": "stream",
          "name": "stderr",
          "text": [
            " 58%|█████▊    | 666/1141 [01:25<00:56,  8.42it/s]"
          ]
        },
        {
          "output_type": "stream",
          "name": "stdout",
          "text": [
            "0.013883590698242188\n",
            "0.013977289199829102\n"
          ]
        },
        {
          "output_type": "stream",
          "name": "stderr",
          "text": [
            " 59%|█████▊    | 668/1141 [01:25<00:54,  8.70it/s]"
          ]
        },
        {
          "output_type": "stream",
          "name": "stdout",
          "text": [
            "0.013511419296264648\n",
            "0.014457941055297852\n"
          ]
        },
        {
          "output_type": "stream",
          "name": "stderr",
          "text": [
            " 59%|█████▊    | 670/1141 [01:25<00:53,  8.88it/s]"
          ]
        },
        {
          "output_type": "stream",
          "name": "stdout",
          "text": [
            "0.013742685317993164\n",
            "0.014027833938598633\n"
          ]
        },
        {
          "output_type": "stream",
          "name": "stderr",
          "text": [
            " 59%|█████▉    | 672/1141 [01:26<00:53,  8.80it/s]"
          ]
        },
        {
          "output_type": "stream",
          "name": "stdout",
          "text": [
            "0.017124414443969727\n",
            "0.015411376953125\n"
          ]
        },
        {
          "output_type": "stream",
          "name": "stderr",
          "text": [
            " 59%|█████▉    | 674/1141 [01:26<00:52,  8.97it/s]"
          ]
        },
        {
          "output_type": "stream",
          "name": "stdout",
          "text": [
            "0.015805959701538086\n",
            "0.01323556900024414\n"
          ]
        },
        {
          "output_type": "stream",
          "name": "stderr",
          "text": [
            " 59%|█████▉    | 676/1141 [01:26<00:54,  8.56it/s]"
          ]
        },
        {
          "output_type": "stream",
          "name": "stdout",
          "text": [
            "0.01577162742614746\n",
            "0.016968250274658203\n"
          ]
        },
        {
          "output_type": "stream",
          "name": "stderr",
          "text": [
            " 59%|█████▉    | 678/1141 [01:26<00:52,  8.74it/s]"
          ]
        },
        {
          "output_type": "stream",
          "name": "stdout",
          "text": [
            "0.014048576354980469\n",
            "0.014181137084960938\n"
          ]
        },
        {
          "output_type": "stream",
          "name": "stderr",
          "text": [
            " 60%|█████▉    | 680/1141 [01:26<00:52,  8.83it/s]"
          ]
        },
        {
          "output_type": "stream",
          "name": "stdout",
          "text": [
            "0.01567220687866211\n",
            "0.01429891586303711\n"
          ]
        },
        {
          "output_type": "stream",
          "name": "stderr",
          "text": [
            " 60%|█████▉    | 682/1141 [01:27<00:52,  8.72it/s]"
          ]
        },
        {
          "output_type": "stream",
          "name": "stdout",
          "text": [
            "0.016314029693603516\n",
            "0.013262510299682617\n"
          ]
        },
        {
          "output_type": "stream",
          "name": "stderr",
          "text": [
            " 60%|█████▉    | 684/1141 [01:27<00:53,  8.46it/s]"
          ]
        },
        {
          "output_type": "stream",
          "name": "stdout",
          "text": [
            "0.01823711395263672\n",
            "0.013409852981567383\n"
          ]
        },
        {
          "output_type": "stream",
          "name": "stderr",
          "text": [
            " 60%|██████    | 686/1141 [01:27<00:52,  8.67it/s]"
          ]
        },
        {
          "output_type": "stream",
          "name": "stdout",
          "text": [
            "0.013586044311523438\n",
            "0.013442516326904297\n"
          ]
        },
        {
          "output_type": "stream",
          "name": "stderr",
          "text": [
            " 60%|██████    | 688/1141 [01:27<00:52,  8.67it/s]"
          ]
        },
        {
          "output_type": "stream",
          "name": "stdout",
          "text": [
            "0.013328313827514648\n",
            "0.017205476760864258\n"
          ]
        },
        {
          "output_type": "stream",
          "name": "stderr",
          "text": [
            " 60%|██████    | 690/1141 [01:28<00:51,  8.76it/s]"
          ]
        },
        {
          "output_type": "stream",
          "name": "stdout",
          "text": [
            "0.0157163143157959\n",
            "0.013360738754272461\n"
          ]
        },
        {
          "output_type": "stream",
          "name": "stderr",
          "text": [
            " 61%|██████    | 692/1141 [01:28<00:52,  8.61it/s]"
          ]
        },
        {
          "output_type": "stream",
          "name": "stdout",
          "text": [
            "0.01840972900390625\n",
            "0.014278650283813477\n"
          ]
        },
        {
          "output_type": "stream",
          "name": "stderr",
          "text": [
            " 61%|██████    | 694/1141 [01:28<00:51,  8.66it/s]"
          ]
        },
        {
          "output_type": "stream",
          "name": "stdout",
          "text": [
            "0.013721466064453125\n",
            "0.014671564102172852\n"
          ]
        },
        {
          "output_type": "stream",
          "name": "stderr",
          "text": [
            " 61%|██████    | 696/1141 [01:28<00:50,  8.77it/s]"
          ]
        },
        {
          "output_type": "stream",
          "name": "stdout",
          "text": [
            "0.014859199523925781\n",
            "0.013910770416259766\n"
          ]
        },
        {
          "output_type": "stream",
          "name": "stderr",
          "text": [
            " 61%|██████    | 698/1141 [01:29<00:50,  8.78it/s]"
          ]
        },
        {
          "output_type": "stream",
          "name": "stdout",
          "text": [
            "0.01384878158569336\n",
            "0.013551473617553711\n"
          ]
        },
        {
          "output_type": "stream",
          "name": "stderr",
          "text": [
            " 61%|██████▏   | 700/1141 [01:29<00:51,  8.53it/s]"
          ]
        },
        {
          "output_type": "stream",
          "name": "stdout",
          "text": [
            "0.013759136199951172\n",
            "0.019353151321411133\n"
          ]
        },
        {
          "output_type": "stream",
          "name": "stderr",
          "text": [
            " 62%|██████▏   | 702/1141 [01:29<01:05,  6.71it/s]"
          ]
        },
        {
          "output_type": "stream",
          "name": "stdout",
          "text": [
            "0.0205996036529541\n",
            "0.016488075256347656\n"
          ]
        },
        {
          "output_type": "stream",
          "name": "stderr",
          "text": [
            " 62%|██████▏   | 704/1141 [01:29<01:07,  6.46it/s]"
          ]
        },
        {
          "output_type": "stream",
          "name": "stdout",
          "text": [
            "0.01770186424255371\n",
            "0.017194747924804688\n"
          ]
        },
        {
          "output_type": "stream",
          "name": "stderr",
          "text": [
            " 62%|██████▏   | 706/1141 [01:30<01:08,  6.32it/s]"
          ]
        },
        {
          "output_type": "stream",
          "name": "stdout",
          "text": [
            "0.016689538955688477\n",
            "0.01720404624938965\n"
          ]
        },
        {
          "output_type": "stream",
          "name": "stderr",
          "text": [
            " 62%|██████▏   | 708/1141 [01:30<01:08,  6.28it/s]"
          ]
        },
        {
          "output_type": "stream",
          "name": "stdout",
          "text": [
            "0.01664900779724121\n",
            "0.016407251358032227\n"
          ]
        },
        {
          "output_type": "stream",
          "name": "stderr",
          "text": [
            " 62%|██████▏   | 710/1141 [01:30<01:09,  6.18it/s]"
          ]
        },
        {
          "output_type": "stream",
          "name": "stdout",
          "text": [
            "0.016006946563720703\n",
            "0.01894545555114746\n"
          ]
        },
        {
          "output_type": "stream",
          "name": "stderr",
          "text": [
            " 62%|██████▏   | 712/1141 [01:31<01:09,  6.20it/s]"
          ]
        },
        {
          "output_type": "stream",
          "name": "stdout",
          "text": [
            "0.016352415084838867\n",
            "0.019179582595825195\n"
          ]
        },
        {
          "output_type": "stream",
          "name": "stderr",
          "text": [
            " 63%|██████▎   | 714/1141 [01:31<01:11,  6.00it/s]"
          ]
        },
        {
          "output_type": "stream",
          "name": "stdout",
          "text": [
            "0.01830911636352539\n",
            "0.019272327423095703\n"
          ]
        },
        {
          "output_type": "stream",
          "name": "stderr",
          "text": [
            " 63%|██████▎   | 716/1141 [01:31<01:09,  6.11it/s]"
          ]
        },
        {
          "output_type": "stream",
          "name": "stdout",
          "text": [
            "0.018621206283569336\n",
            "0.018564939498901367\n"
          ]
        },
        {
          "output_type": "stream",
          "name": "stderr",
          "text": [
            " 63%|██████▎   | 718/1141 [01:32<01:08,  6.14it/s]"
          ]
        },
        {
          "output_type": "stream",
          "name": "stdout",
          "text": [
            "0.019939422607421875\n",
            "0.019643068313598633\n"
          ]
        },
        {
          "output_type": "stream",
          "name": "stderr",
          "text": [
            " 63%|██████▎   | 720/1141 [01:32<01:03,  6.59it/s]"
          ]
        },
        {
          "output_type": "stream",
          "name": "stdout",
          "text": [
            "0.01996588706970215\n",
            "0.013773441314697266\n"
          ]
        },
        {
          "output_type": "stream",
          "name": "stderr",
          "text": [
            " 63%|██████▎   | 722/1141 [01:32<00:55,  7.51it/s]"
          ]
        },
        {
          "output_type": "stream",
          "name": "stdout",
          "text": [
            "0.013473033905029297\n",
            "0.013649940490722656\n"
          ]
        },
        {
          "output_type": "stream",
          "name": "stderr",
          "text": [
            " 63%|██████▎   | 724/1141 [01:32<00:51,  8.06it/s]"
          ]
        },
        {
          "output_type": "stream",
          "name": "stdout",
          "text": [
            "0.014369726181030273\n",
            "0.01897740364074707\n"
          ]
        },
        {
          "output_type": "stream",
          "name": "stderr",
          "text": [
            " 64%|██████▎   | 726/1141 [01:33<00:49,  8.39it/s]"
          ]
        },
        {
          "output_type": "stream",
          "name": "stdout",
          "text": [
            "0.013174057006835938\n",
            "0.016019582748413086\n"
          ]
        },
        {
          "output_type": "stream",
          "name": "stderr",
          "text": [
            " 64%|██████▍   | 728/1141 [01:33<00:50,  8.10it/s]"
          ]
        },
        {
          "output_type": "stream",
          "name": "stdout",
          "text": [
            "0.02150869369506836\n",
            "0.013721466064453125\n"
          ]
        },
        {
          "output_type": "stream",
          "name": "stderr",
          "text": [
            " 64%|██████▍   | 730/1141 [01:33<00:49,  8.38it/s]"
          ]
        },
        {
          "output_type": "stream",
          "name": "stdout",
          "text": [
            "0.017941713333129883\n",
            "0.013759374618530273\n"
          ]
        },
        {
          "output_type": "stream",
          "name": "stderr",
          "text": [
            " 64%|██████▍   | 732/1141 [01:33<00:47,  8.53it/s]"
          ]
        },
        {
          "output_type": "stream",
          "name": "stdout",
          "text": [
            "0.013818740844726562\n",
            "0.01421809196472168\n"
          ]
        },
        {
          "output_type": "stream",
          "name": "stderr",
          "text": [
            " 64%|██████▍   | 734/1141 [01:34<00:46,  8.73it/s]"
          ]
        },
        {
          "output_type": "stream",
          "name": "stdout",
          "text": [
            "0.01334524154663086\n",
            "0.01348567008972168\n"
          ]
        },
        {
          "output_type": "stream",
          "name": "stderr",
          "text": [
            " 65%|██████▍   | 736/1141 [01:34<00:47,  8.60it/s]"
          ]
        },
        {
          "output_type": "stream",
          "name": "stdout",
          "text": [
            "0.015984535217285156\n",
            "0.013285636901855469\n"
          ]
        },
        {
          "output_type": "stream",
          "name": "stderr",
          "text": [
            " 65%|██████▍   | 738/1141 [01:34<00:47,  8.57it/s]"
          ]
        },
        {
          "output_type": "stream",
          "name": "stdout",
          "text": [
            "0.01317906379699707\n",
            "0.013364553451538086\n"
          ]
        },
        {
          "output_type": "stream",
          "name": "stderr",
          "text": [
            " 65%|██████▍   | 740/1141 [01:34<00:46,  8.66it/s]"
          ]
        },
        {
          "output_type": "stream",
          "name": "stdout",
          "text": [
            "0.01364278793334961\n",
            "0.013753890991210938\n"
          ]
        },
        {
          "output_type": "stream",
          "name": "stderr",
          "text": [
            " 65%|██████▌   | 742/1141 [01:35<00:46,  8.66it/s]"
          ]
        },
        {
          "output_type": "stream",
          "name": "stdout",
          "text": [
            "0.017549514770507812\n",
            "0.014443397521972656\n"
          ]
        },
        {
          "output_type": "stream",
          "name": "stderr",
          "text": [
            " 65%|██████▌   | 744/1141 [01:35<00:46,  8.54it/s]"
          ]
        },
        {
          "output_type": "stream",
          "name": "stdout",
          "text": [
            "0.014632940292358398\n",
            "0.016528844833374023\n"
          ]
        },
        {
          "output_type": "stream",
          "name": "stderr",
          "text": [
            " 65%|██████▌   | 746/1141 [01:35<00:45,  8.75it/s]"
          ]
        },
        {
          "output_type": "stream",
          "name": "stdout",
          "text": [
            "0.015577316284179688\n",
            "0.013774394989013672\n"
          ]
        },
        {
          "output_type": "stream",
          "name": "stderr",
          "text": [
            " 66%|██████▌   | 748/1141 [01:35<00:45,  8.62it/s]"
          ]
        },
        {
          "output_type": "stream",
          "name": "stdout",
          "text": [
            "0.014193296432495117\n",
            "0.013952255249023438\n"
          ]
        },
        {
          "output_type": "stream",
          "name": "stderr",
          "text": [
            " 66%|██████▌   | 750/1141 [01:36<00:45,  8.57it/s]"
          ]
        },
        {
          "output_type": "stream",
          "name": "stdout",
          "text": [
            "0.014320611953735352\n",
            "0.013720035552978516\n"
          ]
        },
        {
          "output_type": "stream",
          "name": "stderr",
          "text": [
            " 66%|██████▌   | 752/1141 [01:36<00:44,  8.68it/s]"
          ]
        },
        {
          "output_type": "stream",
          "name": "stdout",
          "text": [
            "0.014531612396240234\n",
            "0.013879776000976562\n"
          ]
        },
        {
          "output_type": "stream",
          "name": "stderr",
          "text": [
            " 66%|██████▌   | 754/1141 [01:36<00:45,  8.48it/s]"
          ]
        },
        {
          "output_type": "stream",
          "name": "stdout",
          "text": [
            "0.014235258102416992\n",
            "0.013946294784545898\n"
          ]
        },
        {
          "output_type": "stream",
          "name": "stderr",
          "text": [
            " 66%|██████▋   | 756/1141 [01:36<00:45,  8.51it/s]"
          ]
        },
        {
          "output_type": "stream",
          "name": "stdout",
          "text": [
            "0.013834238052368164\n",
            "0.01400446891784668\n"
          ]
        },
        {
          "output_type": "stream",
          "name": "stderr",
          "text": [
            " 66%|██████▋   | 758/1141 [01:36<00:44,  8.68it/s]"
          ]
        },
        {
          "output_type": "stream",
          "name": "stdout",
          "text": [
            "0.014477968215942383\n",
            "0.01326894760131836\n"
          ]
        },
        {
          "output_type": "stream",
          "name": "stderr",
          "text": [
            " 67%|██████▋   | 760/1141 [01:37<00:43,  8.81it/s]"
          ]
        },
        {
          "output_type": "stream",
          "name": "stdout",
          "text": [
            "0.013323783874511719\n",
            "0.013421297073364258\n"
          ]
        },
        {
          "output_type": "stream",
          "name": "stderr",
          "text": [
            " 67%|██████▋   | 762/1141 [01:37<00:43,  8.62it/s]"
          ]
        },
        {
          "output_type": "stream",
          "name": "stdout",
          "text": [
            "0.017999649047851562\n",
            "0.01343846321105957\n"
          ]
        },
        {
          "output_type": "stream",
          "name": "stderr",
          "text": [
            " 67%|██████▋   | 764/1141 [01:37<00:43,  8.70it/s]"
          ]
        },
        {
          "output_type": "stream",
          "name": "stdout",
          "text": [
            "0.013222932815551758\n",
            "0.01865863800048828\n"
          ]
        },
        {
          "output_type": "stream",
          "name": "stderr",
          "text": [
            " 67%|██████▋   | 766/1141 [01:37<00:43,  8.54it/s]"
          ]
        },
        {
          "output_type": "stream",
          "name": "stdout",
          "text": [
            "0.016611099243164062\n",
            "0.01368260383605957\n"
          ]
        },
        {
          "output_type": "stream",
          "name": "stderr",
          "text": [
            " 67%|██████▋   | 768/1141 [01:38<00:43,  8.55it/s]"
          ]
        },
        {
          "output_type": "stream",
          "name": "stdout",
          "text": [
            "0.014279603958129883\n",
            "0.013862371444702148\n"
          ]
        },
        {
          "output_type": "stream",
          "name": "stderr",
          "text": [
            " 67%|██████▋   | 770/1141 [01:38<00:43,  8.48it/s]"
          ]
        },
        {
          "output_type": "stream",
          "name": "stdout",
          "text": [
            "0.013406038284301758\n",
            "0.016616344451904297\n"
          ]
        },
        {
          "output_type": "stream",
          "name": "stderr",
          "text": [
            " 68%|██████▊   | 772/1141 [01:38<00:42,  8.74it/s]"
          ]
        },
        {
          "output_type": "stream",
          "name": "stdout",
          "text": [
            "0.013210058212280273\n",
            "0.013631105422973633\n"
          ]
        },
        {
          "output_type": "stream",
          "name": "stderr",
          "text": [
            " 68%|██████▊   | 774/1141 [01:38<00:42,  8.56it/s]"
          ]
        },
        {
          "output_type": "stream",
          "name": "stdout",
          "text": [
            "0.019419193267822266\n",
            "0.014357328414916992\n"
          ]
        },
        {
          "output_type": "stream",
          "name": "stderr",
          "text": [
            " 68%|██████▊   | 776/1141 [01:39<00:41,  8.73it/s]"
          ]
        },
        {
          "output_type": "stream",
          "name": "stdout",
          "text": [
            "0.013514995574951172\n",
            "0.013694286346435547\n"
          ]
        },
        {
          "output_type": "stream",
          "name": "stderr",
          "text": [
            " 68%|██████▊   | 778/1141 [01:39<00:41,  8.69it/s]"
          ]
        },
        {
          "output_type": "stream",
          "name": "stdout",
          "text": [
            "0.016866683959960938\n",
            "0.017744064331054688\n"
          ]
        },
        {
          "output_type": "stream",
          "name": "stderr",
          "text": [
            " 68%|██████▊   | 780/1141 [01:39<00:42,  8.58it/s]"
          ]
        },
        {
          "output_type": "stream",
          "name": "stdout",
          "text": [
            "0.013633489608764648\n",
            "0.013669729232788086\n"
          ]
        },
        {
          "output_type": "stream",
          "name": "stderr",
          "text": [
            " 69%|██████▊   | 782/1141 [01:39<00:43,  8.21it/s]"
          ]
        },
        {
          "output_type": "stream",
          "name": "stdout",
          "text": [
            "0.017243623733520508\n",
            "0.014380455017089844\n"
          ]
        },
        {
          "output_type": "stream",
          "name": "stderr",
          "text": [
            " 69%|██████▊   | 784/1141 [01:40<00:42,  8.46it/s]"
          ]
        },
        {
          "output_type": "stream",
          "name": "stdout",
          "text": [
            "0.013547897338867188\n",
            "0.014097452163696289\n"
          ]
        },
        {
          "output_type": "stream",
          "name": "stderr",
          "text": [
            " 69%|██████▉   | 786/1141 [01:40<00:41,  8.61it/s]"
          ]
        },
        {
          "output_type": "stream",
          "name": "stdout",
          "text": [
            "0.013850927352905273\n",
            "0.015137195587158203\n"
          ]
        },
        {
          "output_type": "stream",
          "name": "stderr",
          "text": [
            " 69%|██████▉   | 788/1141 [01:40<00:41,  8.47it/s]"
          ]
        },
        {
          "output_type": "stream",
          "name": "stdout",
          "text": [
            "0.015167713165283203\n",
            "0.015247344970703125\n"
          ]
        },
        {
          "output_type": "stream",
          "name": "stderr",
          "text": [
            " 69%|██████▉   | 790/1141 [01:40<00:40,  8.63it/s]"
          ]
        },
        {
          "output_type": "stream",
          "name": "stdout",
          "text": [
            "0.014232873916625977\n",
            "0.014936447143554688\n"
          ]
        },
        {
          "output_type": "stream",
          "name": "stderr",
          "text": [
            " 69%|██████▉   | 792/1141 [01:40<00:40,  8.66it/s]"
          ]
        },
        {
          "output_type": "stream",
          "name": "stdout",
          "text": [
            "0.014121770858764648\n",
            "0.013483524322509766\n"
          ]
        },
        {
          "output_type": "stream",
          "name": "stderr",
          "text": [
            " 70%|██████▉   | 794/1141 [01:41<00:40,  8.56it/s]"
          ]
        },
        {
          "output_type": "stream",
          "name": "stdout",
          "text": [
            "0.013489961624145508\n",
            "0.013427734375\n"
          ]
        },
        {
          "output_type": "stream",
          "name": "stderr",
          "text": [
            " 70%|██████▉   | 796/1141 [01:41<00:41,  8.34it/s]"
          ]
        },
        {
          "output_type": "stream",
          "name": "stdout",
          "text": [
            "0.018895626068115234\n",
            "0.013698101043701172\n"
          ]
        },
        {
          "output_type": "stream",
          "name": "stderr",
          "text": [
            " 70%|██████▉   | 798/1141 [01:41<00:40,  8.57it/s]"
          ]
        },
        {
          "output_type": "stream",
          "name": "stdout",
          "text": [
            "0.013456106185913086\n",
            "0.01383352279663086\n"
          ]
        },
        {
          "output_type": "stream",
          "name": "stderr",
          "text": [
            " 70%|███████   | 800/1141 [01:41<00:39,  8.72it/s]"
          ]
        },
        {
          "output_type": "stream",
          "name": "stdout",
          "text": [
            "0.013938665390014648\n",
            "0.013905525207519531\n"
          ]
        },
        {
          "output_type": "stream",
          "name": "stderr",
          "text": [
            " 70%|███████   | 802/1141 [01:42<00:39,  8.61it/s]"
          ]
        },
        {
          "output_type": "stream",
          "name": "stdout",
          "text": [
            "0.015317678451538086\n",
            "0.013612031936645508\n"
          ]
        },
        {
          "output_type": "stream",
          "name": "stderr",
          "text": [
            " 70%|███████   | 804/1141 [01:42<00:39,  8.59it/s]"
          ]
        },
        {
          "output_type": "stream",
          "name": "stdout",
          "text": [
            "0.013577699661254883\n",
            "0.013454437255859375\n"
          ]
        },
        {
          "output_type": "stream",
          "name": "stderr",
          "text": [
            " 71%|███████   | 806/1141 [01:42<00:45,  7.43it/s]"
          ]
        },
        {
          "output_type": "stream",
          "name": "stdout",
          "text": [
            "0.020043611526489258\n",
            "0.01832413673400879\n"
          ]
        },
        {
          "output_type": "stream",
          "name": "stderr",
          "text": [
            " 71%|███████   | 808/1141 [01:42<00:51,  6.50it/s]"
          ]
        },
        {
          "output_type": "stream",
          "name": "stdout",
          "text": [
            "0.017776966094970703\n",
            "0.02231431007385254\n"
          ]
        },
        {
          "output_type": "stream",
          "name": "stderr",
          "text": [
            " 71%|███████   | 810/1141 [01:43<00:53,  6.19it/s]"
          ]
        },
        {
          "output_type": "stream",
          "name": "stdout",
          "text": [
            "0.01922130584716797\n",
            "0.016462087631225586\n"
          ]
        },
        {
          "output_type": "stream",
          "name": "stderr",
          "text": [
            " 71%|███████   | 812/1141 [01:43<00:55,  5.97it/s]"
          ]
        },
        {
          "output_type": "stream",
          "name": "stdout",
          "text": [
            "0.01833820343017578\n",
            "0.022278308868408203\n"
          ]
        },
        {
          "output_type": "stream",
          "name": "stderr",
          "text": [
            " 71%|███████▏  | 814/1141 [01:44<00:54,  6.01it/s]"
          ]
        },
        {
          "output_type": "stream",
          "name": "stdout",
          "text": [
            "0.016083478927612305\n",
            "0.01815938949584961\n"
          ]
        },
        {
          "output_type": "stream",
          "name": "stderr",
          "text": [
            " 72%|███████▏  | 816/1141 [01:44<00:53,  6.06it/s]"
          ]
        },
        {
          "output_type": "stream",
          "name": "stdout",
          "text": [
            "0.019626140594482422\n",
            "0.017610549926757812\n"
          ]
        },
        {
          "output_type": "stream",
          "name": "stderr",
          "text": [
            " 72%|███████▏  | 818/1141 [01:44<00:53,  6.00it/s]"
          ]
        },
        {
          "output_type": "stream",
          "name": "stdout",
          "text": [
            "0.021727800369262695\n",
            "0.019284486770629883\n"
          ]
        },
        {
          "output_type": "stream",
          "name": "stderr",
          "text": [
            " 72%|███████▏  | 820/1141 [01:45<00:52,  6.07it/s]"
          ]
        },
        {
          "output_type": "stream",
          "name": "stdout",
          "text": [
            "0.018392324447631836\n",
            "0.018052101135253906\n"
          ]
        },
        {
          "output_type": "stream",
          "name": "stderr",
          "text": [
            " 72%|███████▏  | 822/1141 [01:45<00:57,  5.58it/s]"
          ]
        },
        {
          "output_type": "stream",
          "name": "stdout",
          "text": [
            "0.021189212799072266\n",
            "0.02252364158630371\n"
          ]
        },
        {
          "output_type": "stream",
          "name": "stderr",
          "text": [
            " 72%|███████▏  | 824/1141 [01:45<00:49,  6.43it/s]"
          ]
        },
        {
          "output_type": "stream",
          "name": "stdout",
          "text": [
            "0.018625259399414062\n",
            "0.015064477920532227\n"
          ]
        },
        {
          "output_type": "stream",
          "name": "stderr",
          "text": [
            " 72%|███████▏  | 826/1141 [01:45<00:43,  7.24it/s]"
          ]
        },
        {
          "output_type": "stream",
          "name": "stdout",
          "text": [
            "0.016588926315307617\n",
            "0.014528036117553711\n"
          ]
        },
        {
          "output_type": "stream",
          "name": "stderr",
          "text": [
            " 73%|███████▎  | 828/1141 [01:46<00:39,  7.91it/s]"
          ]
        },
        {
          "output_type": "stream",
          "name": "stdout",
          "text": [
            "0.013967275619506836\n",
            "0.013635396957397461\n"
          ]
        },
        {
          "output_type": "stream",
          "name": "stderr",
          "text": [
            " 73%|███████▎  | 830/1141 [01:46<00:38,  7.99it/s]"
          ]
        },
        {
          "output_type": "stream",
          "name": "stdout",
          "text": [
            "0.013883113861083984\n",
            "0.01644754409790039\n"
          ]
        },
        {
          "output_type": "stream",
          "name": "stderr",
          "text": [
            " 73%|███████▎  | 832/1141 [01:46<00:36,  8.41it/s]"
          ]
        },
        {
          "output_type": "stream",
          "name": "stdout",
          "text": [
            "0.013538837432861328\n",
            "0.013588190078735352\n"
          ]
        },
        {
          "output_type": "stream",
          "name": "stderr",
          "text": [
            " 73%|███████▎  | 834/1141 [01:46<00:36,  8.43it/s]"
          ]
        },
        {
          "output_type": "stream",
          "name": "stdout",
          "text": [
            "0.014878511428833008\n",
            "0.015295743942260742\n"
          ]
        },
        {
          "output_type": "stream",
          "name": "stderr",
          "text": [
            " 73%|███████▎  | 836/1141 [01:47<00:35,  8.56it/s]"
          ]
        },
        {
          "output_type": "stream",
          "name": "stdout",
          "text": [
            "0.013933181762695312\n",
            "0.014115095138549805\n"
          ]
        },
        {
          "output_type": "stream",
          "name": "stderr",
          "text": [
            " 73%|███████▎  | 838/1141 [01:47<00:36,  8.33it/s]"
          ]
        },
        {
          "output_type": "stream",
          "name": "stdout",
          "text": [
            "0.020064592361450195\n",
            "0.014539241790771484\n"
          ]
        },
        {
          "output_type": "stream",
          "name": "stderr",
          "text": [
            " 74%|███████▎  | 840/1141 [01:47<00:35,  8.56it/s]"
          ]
        },
        {
          "output_type": "stream",
          "name": "stdout",
          "text": [
            "0.013702392578125\n",
            "0.013858795166015625\n"
          ]
        },
        {
          "output_type": "stream",
          "name": "stderr",
          "text": [
            " 74%|███████▍  | 842/1141 [01:47<00:34,  8.71it/s]"
          ]
        },
        {
          "output_type": "stream",
          "name": "stdout",
          "text": [
            "0.014153718948364258\n",
            "0.014325857162475586\n"
          ]
        },
        {
          "output_type": "stream",
          "name": "stderr",
          "text": [
            " 74%|███████▍  | 844/1141 [01:48<00:34,  8.67it/s]"
          ]
        },
        {
          "output_type": "stream",
          "name": "stdout",
          "text": [
            "0.013788461685180664\n",
            "0.013491153717041016\n"
          ]
        },
        {
          "output_type": "stream",
          "name": "stderr",
          "text": [
            " 74%|███████▍  | 846/1141 [01:48<00:34,  8.49it/s]"
          ]
        },
        {
          "output_type": "stream",
          "name": "stdout",
          "text": [
            "0.013376235961914062\n",
            "0.01845717430114746\n"
          ]
        },
        {
          "output_type": "stream",
          "name": "stderr",
          "text": [
            " 74%|███████▍  | 848/1141 [01:48<00:34,  8.51it/s]"
          ]
        },
        {
          "output_type": "stream",
          "name": "stdout",
          "text": [
            "0.014206171035766602\n",
            "0.015674352645874023\n"
          ]
        },
        {
          "output_type": "stream",
          "name": "stderr",
          "text": [
            " 74%|███████▍  | 850/1141 [01:48<00:34,  8.53it/s]"
          ]
        },
        {
          "output_type": "stream",
          "name": "stdout",
          "text": [
            "0.015445709228515625\n",
            "0.0142364501953125\n"
          ]
        },
        {
          "output_type": "stream",
          "name": "stderr",
          "text": [
            " 75%|███████▍  | 852/1141 [01:48<00:33,  8.63it/s]"
          ]
        },
        {
          "output_type": "stream",
          "name": "stdout",
          "text": [
            "0.01446986198425293\n",
            "0.014422178268432617\n"
          ]
        },
        {
          "output_type": "stream",
          "name": "stderr",
          "text": [
            " 75%|███████▍  | 854/1141 [01:49<00:33,  8.69it/s]"
          ]
        },
        {
          "output_type": "stream",
          "name": "stdout",
          "text": [
            "0.01363825798034668\n",
            "0.014083147048950195\n"
          ]
        },
        {
          "output_type": "stream",
          "name": "stderr",
          "text": [
            " 75%|███████▌  | 856/1141 [01:49<00:34,  8.37it/s]"
          ]
        },
        {
          "output_type": "stream",
          "name": "stdout",
          "text": [
            "0.017101049423217773\n",
            "0.014097452163696289\n"
          ]
        },
        {
          "output_type": "stream",
          "name": "stderr",
          "text": [
            " 75%|███████▌  | 858/1141 [01:49<00:33,  8.51it/s]"
          ]
        },
        {
          "output_type": "stream",
          "name": "stdout",
          "text": [
            "0.013219594955444336\n",
            "0.013635635375976562\n"
          ]
        },
        {
          "output_type": "stream",
          "name": "stderr",
          "text": [
            " 75%|███████▌  | 860/1141 [01:49<00:33,  8.47it/s]"
          ]
        },
        {
          "output_type": "stream",
          "name": "stdout",
          "text": [
            "0.014358758926391602\n",
            "0.01533651351928711\n"
          ]
        },
        {
          "output_type": "stream",
          "name": "stderr",
          "text": [
            " 76%|███████▌  | 862/1141 [01:50<00:33,  8.40it/s]"
          ]
        },
        {
          "output_type": "stream",
          "name": "stdout",
          "text": [
            "0.017116785049438477\n",
            "0.013585805892944336\n"
          ]
        },
        {
          "output_type": "stream",
          "name": "stderr",
          "text": [
            " 76%|███████▌  | 864/1141 [01:50<00:33,  8.19it/s]"
          ]
        },
        {
          "output_type": "stream",
          "name": "stdout",
          "text": [
            "0.017848730087280273\n",
            "0.01407170295715332\n"
          ]
        },
        {
          "output_type": "stream",
          "name": "stderr",
          "text": [
            " 76%|███████▌  | 866/1141 [01:50<00:32,  8.51it/s]"
          ]
        },
        {
          "output_type": "stream",
          "name": "stdout",
          "text": [
            "0.013608694076538086\n",
            "0.013856649398803711\n"
          ]
        },
        {
          "output_type": "stream",
          "name": "stderr",
          "text": [
            " 76%|███████▌  | 868/1141 [01:50<00:31,  8.54it/s]"
          ]
        },
        {
          "output_type": "stream",
          "name": "stdout",
          "text": [
            "0.014458179473876953\n",
            "0.014384984970092773\n"
          ]
        },
        {
          "output_type": "stream",
          "name": "stderr",
          "text": [
            " 76%|███████▌  | 870/1141 [01:51<00:31,  8.54it/s]"
          ]
        },
        {
          "output_type": "stream",
          "name": "stdout",
          "text": [
            "0.013497352600097656\n",
            "0.013605117797851562\n"
          ]
        },
        {
          "output_type": "stream",
          "name": "stderr",
          "text": [
            " 76%|███████▋  | 872/1141 [01:51<00:32,  8.39it/s]"
          ]
        },
        {
          "output_type": "stream",
          "name": "stdout",
          "text": [
            "0.014482975006103516\n",
            "0.020937442779541016\n"
          ]
        },
        {
          "output_type": "stream",
          "name": "stderr",
          "text": [
            " 77%|███████▋  | 874/1141 [01:51<00:31,  8.53it/s]"
          ]
        },
        {
          "output_type": "stream",
          "name": "stdout",
          "text": [
            "0.014007568359375\n",
            "0.014086723327636719\n"
          ]
        },
        {
          "output_type": "stream",
          "name": "stderr",
          "text": [
            " 77%|███████▋  | 876/1141 [01:51<00:30,  8.71it/s]"
          ]
        },
        {
          "output_type": "stream",
          "name": "stdout",
          "text": [
            "0.013431549072265625\n",
            "0.01401519775390625\n"
          ]
        },
        {
          "output_type": "stream",
          "name": "stderr",
          "text": [
            " 77%|███████▋  | 878/1141 [01:52<00:30,  8.55it/s]"
          ]
        },
        {
          "output_type": "stream",
          "name": "stdout",
          "text": [
            "0.013952016830444336\n",
            "0.017237424850463867\n"
          ]
        },
        {
          "output_type": "stream",
          "name": "stderr",
          "text": [
            " 77%|███████▋  | 880/1141 [01:52<00:30,  8.68it/s]"
          ]
        },
        {
          "output_type": "stream",
          "name": "stdout",
          "text": [
            "0.013654947280883789\n",
            "0.013626575469970703\n"
          ]
        },
        {
          "output_type": "stream",
          "name": "stderr",
          "text": [
            " 77%|███████▋  | 882/1141 [01:52<00:30,  8.52it/s]"
          ]
        },
        {
          "output_type": "stream",
          "name": "stdout",
          "text": [
            "0.013649940490722656\n",
            "0.013833284378051758\n"
          ]
        },
        {
          "output_type": "stream",
          "name": "stderr",
          "text": [
            " 77%|███████▋  | 884/1141 [01:52<00:29,  8.65it/s]"
          ]
        },
        {
          "output_type": "stream",
          "name": "stdout",
          "text": [
            "0.0160677433013916\n",
            "0.013738393783569336\n"
          ]
        },
        {
          "output_type": "stream",
          "name": "stderr",
          "text": [
            " 78%|███████▊  | 886/1141 [01:52<00:29,  8.69it/s]"
          ]
        },
        {
          "output_type": "stream",
          "name": "stdout",
          "text": [
            "0.014210700988769531\n",
            "0.013183832168579102\n"
          ]
        },
        {
          "output_type": "stream",
          "name": "stderr",
          "text": [
            " 78%|███████▊  | 888/1141 [01:53<00:28,  8.81it/s]"
          ]
        },
        {
          "output_type": "stream",
          "name": "stdout",
          "text": [
            "0.01367330551147461\n",
            "0.0155029296875\n"
          ]
        },
        {
          "output_type": "stream",
          "name": "stderr",
          "text": [
            " 78%|███████▊  | 890/1141 [01:53<00:30,  8.33it/s]"
          ]
        },
        {
          "output_type": "stream",
          "name": "stdout",
          "text": [
            "0.024965524673461914\n",
            "0.013306856155395508\n"
          ]
        },
        {
          "output_type": "stream",
          "name": "stderr",
          "text": [
            " 78%|███████▊  | 892/1141 [01:53<00:29,  8.55it/s]"
          ]
        },
        {
          "output_type": "stream",
          "name": "stdout",
          "text": [
            "0.013940572738647461\n",
            "0.015168905258178711\n"
          ]
        },
        {
          "output_type": "stream",
          "name": "stderr",
          "text": [
            " 78%|███████▊  | 894/1141 [01:53<00:28,  8.70it/s]"
          ]
        },
        {
          "output_type": "stream",
          "name": "stdout",
          "text": [
            "0.01531839370727539\n",
            "0.013630867004394531\n"
          ]
        },
        {
          "output_type": "stream",
          "name": "stderr",
          "text": [
            " 79%|███████▊  | 896/1141 [01:54<00:27,  8.79it/s]"
          ]
        },
        {
          "output_type": "stream",
          "name": "stdout",
          "text": [
            "0.013934850692749023\n",
            "0.013440847396850586\n"
          ]
        },
        {
          "output_type": "stream",
          "name": "stderr",
          "text": [
            " 79%|███████▊  | 898/1141 [01:54<00:27,  8.71it/s]"
          ]
        },
        {
          "output_type": "stream",
          "name": "stdout",
          "text": [
            "0.014139652252197266\n",
            "0.013373136520385742\n"
          ]
        },
        {
          "output_type": "stream",
          "name": "stderr",
          "text": [
            " 79%|███████▉  | 900/1141 [01:54<00:28,  8.58it/s]"
          ]
        },
        {
          "output_type": "stream",
          "name": "stdout",
          "text": [
            "0.019848108291625977\n",
            "0.014251470565795898\n"
          ]
        },
        {
          "output_type": "stream",
          "name": "stderr",
          "text": [
            " 79%|███████▉  | 902/1141 [01:54<00:27,  8.82it/s]"
          ]
        },
        {
          "output_type": "stream",
          "name": "stdout",
          "text": [
            "0.015969276428222656\n",
            "0.013734579086303711\n"
          ]
        },
        {
          "output_type": "stream",
          "name": "stderr",
          "text": [
            " 79%|███████▉  | 904/1141 [01:55<00:27,  8.77it/s]"
          ]
        },
        {
          "output_type": "stream",
          "name": "stdout",
          "text": [
            "0.014000415802001953\n",
            "0.013353109359741211\n"
          ]
        },
        {
          "output_type": "stream",
          "name": "stderr",
          "text": [
            " 79%|███████▉  | 906/1141 [01:55<00:26,  8.75it/s]"
          ]
        },
        {
          "output_type": "stream",
          "name": "stdout",
          "text": [
            "0.01348876953125\n",
            "0.013631582260131836\n"
          ]
        },
        {
          "output_type": "stream",
          "name": "stderr",
          "text": [
            " 80%|███████▉  | 908/1141 [01:55<00:27,  8.44it/s]"
          ]
        },
        {
          "output_type": "stream",
          "name": "stdout",
          "text": [
            "0.013663768768310547\n",
            "0.013422966003417969\n"
          ]
        },
        {
          "output_type": "stream",
          "name": "stderr",
          "text": [
            " 80%|███████▉  | 910/1141 [01:55<00:31,  7.24it/s]"
          ]
        },
        {
          "output_type": "stream",
          "name": "stdout",
          "text": [
            "0.0194244384765625\n",
            "0.019072771072387695\n"
          ]
        },
        {
          "output_type": "stream",
          "name": "stderr",
          "text": [
            " 80%|███████▉  | 912/1141 [01:56<00:34,  6.61it/s]"
          ]
        },
        {
          "output_type": "stream",
          "name": "stdout",
          "text": [
            "0.018994808197021484\n",
            "0.016495943069458008\n"
          ]
        },
        {
          "output_type": "stream",
          "name": "stderr",
          "text": [
            " 80%|████████  | 914/1141 [01:56<00:37,  6.10it/s]"
          ]
        },
        {
          "output_type": "stream",
          "name": "stdout",
          "text": [
            "0.016875028610229492\n",
            "0.019742488861083984\n"
          ]
        },
        {
          "output_type": "stream",
          "name": "stderr",
          "text": [
            " 80%|████████  | 916/1141 [01:56<00:37,  6.07it/s]"
          ]
        },
        {
          "output_type": "stream",
          "name": "stdout",
          "text": [
            "0.01581287384033203\n",
            "0.01628875732421875\n"
          ]
        },
        {
          "output_type": "stream",
          "name": "stderr",
          "text": [
            " 80%|████████  | 918/1141 [01:57<00:37,  5.94it/s]"
          ]
        },
        {
          "output_type": "stream",
          "name": "stdout",
          "text": [
            "0.01603245735168457\n",
            "0.01902151107788086\n"
          ]
        },
        {
          "output_type": "stream",
          "name": "stderr",
          "text": [
            " 81%|████████  | 920/1141 [01:57<00:37,  5.94it/s]"
          ]
        },
        {
          "output_type": "stream",
          "name": "stdout",
          "text": [
            "0.017626285552978516\n",
            "0.02402186393737793\n"
          ]
        },
        {
          "output_type": "stream",
          "name": "stderr",
          "text": [
            " 81%|████████  | 922/1141 [01:57<00:36,  5.93it/s]"
          ]
        },
        {
          "output_type": "stream",
          "name": "stdout",
          "text": [
            "0.019863128662109375\n",
            "0.020370960235595703\n"
          ]
        },
        {
          "output_type": "stream",
          "name": "stderr",
          "text": [
            " 81%|████████  | 924/1141 [01:58<00:36,  5.92it/s]"
          ]
        },
        {
          "output_type": "stream",
          "name": "stdout",
          "text": [
            "0.018048524856567383\n",
            "0.020159244537353516\n"
          ]
        },
        {
          "output_type": "stream",
          "name": "stderr",
          "text": [
            " 81%|████████  | 926/1141 [01:58<00:36,  5.91it/s]"
          ]
        },
        {
          "output_type": "stream",
          "name": "stdout",
          "text": [
            "0.018871307373046875\n",
            "0.019962549209594727\n"
          ]
        },
        {
          "output_type": "stream",
          "name": "stderr",
          "text": [
            " 81%|████████▏ | 928/1141 [01:58<00:32,  6.55it/s]"
          ]
        },
        {
          "output_type": "stream",
          "name": "stdout",
          "text": [
            "0.014491558074951172\n",
            "0.013260126113891602\n"
          ]
        },
        {
          "output_type": "stream",
          "name": "stderr",
          "text": [
            " 82%|████████▏ | 930/1141 [01:59<00:28,  7.50it/s]"
          ]
        },
        {
          "output_type": "stream",
          "name": "stdout",
          "text": [
            "0.013748407363891602\n",
            "0.013958454132080078\n"
          ]
        },
        {
          "output_type": "stream",
          "name": "stderr",
          "text": [
            " 82%|████████▏ | 932/1141 [01:59<00:25,  8.10it/s]"
          ]
        },
        {
          "output_type": "stream",
          "name": "stdout",
          "text": [
            "0.015569210052490234\n",
            "0.018596172332763672\n"
          ]
        },
        {
          "output_type": "stream",
          "name": "stderr",
          "text": [
            " 82%|████████▏ | 934/1141 [01:59<00:24,  8.49it/s]"
          ]
        },
        {
          "output_type": "stream",
          "name": "stdout",
          "text": [
            "0.013463497161865234\n",
            "0.013300895690917969\n"
          ]
        },
        {
          "output_type": "stream",
          "name": "stderr",
          "text": [
            " 82%|████████▏ | 936/1141 [01:59<00:24,  8.43it/s]"
          ]
        },
        {
          "output_type": "stream",
          "name": "stdout",
          "text": [
            "0.021176576614379883\n",
            "0.014559507369995117\n"
          ]
        },
        {
          "output_type": "stream",
          "name": "stderr",
          "text": [
            " 82%|████████▏ | 938/1141 [01:59<00:23,  8.59it/s]"
          ]
        },
        {
          "output_type": "stream",
          "name": "stdout",
          "text": [
            "0.013559818267822266\n",
            "0.015292167663574219\n"
          ]
        },
        {
          "output_type": "stream",
          "name": "stderr",
          "text": [
            " 82%|████████▏ | 940/1141 [02:00<00:23,  8.62it/s]"
          ]
        },
        {
          "output_type": "stream",
          "name": "stdout",
          "text": [
            "0.013257265090942383\n",
            "0.01372838020324707\n"
          ]
        },
        {
          "output_type": "stream",
          "name": "stderr",
          "text": [
            " 83%|████████▎ | 942/1141 [02:00<00:23,  8.54it/s]"
          ]
        },
        {
          "output_type": "stream",
          "name": "stdout",
          "text": [
            "0.013255834579467773\n",
            "0.01347804069519043\n"
          ]
        },
        {
          "output_type": "stream",
          "name": "stderr",
          "text": [
            " 83%|████████▎ | 944/1141 [02:00<00:23,  8.51it/s]"
          ]
        },
        {
          "output_type": "stream",
          "name": "stdout",
          "text": [
            "0.018351078033447266\n",
            "0.01323843002319336\n"
          ]
        },
        {
          "output_type": "stream",
          "name": "stderr",
          "text": [
            " 83%|████████▎ | 946/1141 [02:00<00:22,  8.72it/s]"
          ]
        },
        {
          "output_type": "stream",
          "name": "stdout",
          "text": [
            "0.01405954360961914\n",
            "0.013640642166137695\n"
          ]
        },
        {
          "output_type": "stream",
          "name": "stderr",
          "text": [
            " 83%|████████▎ | 948/1141 [02:01<00:22,  8.64it/s]"
          ]
        },
        {
          "output_type": "stream",
          "name": "stdout",
          "text": [
            "0.014017343521118164\n",
            "0.013671875\n"
          ]
        },
        {
          "output_type": "stream",
          "name": "stderr",
          "text": [
            " 83%|████████▎ | 950/1141 [02:01<00:22,  8.48it/s]"
          ]
        },
        {
          "output_type": "stream",
          "name": "stdout",
          "text": [
            "0.014089822769165039\n",
            "0.01374053955078125\n"
          ]
        },
        {
          "output_type": "stream",
          "name": "stderr",
          "text": [
            " 83%|████████▎ | 952/1141 [02:01<00:22,  8.55it/s]"
          ]
        },
        {
          "output_type": "stream",
          "name": "stdout",
          "text": [
            "0.013338565826416016\n",
            "0.013425827026367188\n"
          ]
        },
        {
          "output_type": "stream",
          "name": "stderr",
          "text": [
            " 84%|████████▎ | 954/1141 [02:01<00:22,  8.48it/s]"
          ]
        },
        {
          "output_type": "stream",
          "name": "stdout",
          "text": [
            "0.013602733612060547\n",
            "0.01355886459350586\n"
          ]
        },
        {
          "output_type": "stream",
          "name": "stderr",
          "text": [
            " 84%|████████▍ | 956/1141 [02:02<00:21,  8.71it/s]"
          ]
        },
        {
          "output_type": "stream",
          "name": "stdout",
          "text": [
            "0.013930082321166992\n",
            "0.013944149017333984\n"
          ]
        },
        {
          "output_type": "stream",
          "name": "stderr",
          "text": [
            " 84%|████████▍ | 958/1141 [02:02<00:21,  8.54it/s]"
          ]
        },
        {
          "output_type": "stream",
          "name": "stdout",
          "text": [
            "0.014579534530639648\n",
            "0.018038272857666016\n"
          ]
        },
        {
          "output_type": "stream",
          "name": "stderr",
          "text": [
            " 84%|████████▍ | 960/1141 [02:02<00:21,  8.61it/s]"
          ]
        },
        {
          "output_type": "stream",
          "name": "stdout",
          "text": [
            "0.013382196426391602\n",
            "0.013456583023071289\n"
          ]
        },
        {
          "output_type": "stream",
          "name": "stderr",
          "text": [
            " 84%|████████▍ | 962/1141 [02:02<00:21,  8.45it/s]"
          ]
        },
        {
          "output_type": "stream",
          "name": "stdout",
          "text": [
            "0.015245914459228516\n",
            "0.013978004455566406\n"
          ]
        },
        {
          "output_type": "stream",
          "name": "stderr",
          "text": [
            " 84%|████████▍ | 964/1141 [02:03<00:20,  8.58it/s]"
          ]
        },
        {
          "output_type": "stream",
          "name": "stdout",
          "text": [
            "0.013570785522460938\n",
            "0.013811826705932617\n"
          ]
        },
        {
          "output_type": "stream",
          "name": "stderr",
          "text": [
            " 85%|████████▍ | 966/1141 [02:03<00:20,  8.57it/s]"
          ]
        },
        {
          "output_type": "stream",
          "name": "stdout",
          "text": [
            "0.013593912124633789\n",
            "0.01632213592529297\n"
          ]
        },
        {
          "output_type": "stream",
          "name": "stderr",
          "text": [
            " 85%|████████▍ | 968/1141 [02:03<00:21,  8.13it/s]"
          ]
        },
        {
          "output_type": "stream",
          "name": "stdout",
          "text": [
            "0.014228582382202148\n",
            "0.013610124588012695\n"
          ]
        },
        {
          "output_type": "stream",
          "name": "stderr",
          "text": [
            " 85%|████████▌ | 970/1141 [02:03<00:20,  8.25it/s]"
          ]
        },
        {
          "output_type": "stream",
          "name": "stdout",
          "text": [
            "0.01355886459350586\n",
            "0.018509387969970703\n"
          ]
        },
        {
          "output_type": "stream",
          "name": "stderr",
          "text": [
            " 85%|████████▌ | 972/1141 [02:03<00:19,  8.46it/s]"
          ]
        },
        {
          "output_type": "stream",
          "name": "stdout",
          "text": [
            "0.014436006546020508\n",
            "0.016298532485961914\n"
          ]
        },
        {
          "output_type": "stream",
          "name": "stderr",
          "text": [
            " 85%|████████▌ | 974/1141 [02:04<00:19,  8.70it/s]"
          ]
        },
        {
          "output_type": "stream",
          "name": "stdout",
          "text": [
            "0.013748884201049805\n",
            "0.013625621795654297\n"
          ]
        },
        {
          "output_type": "stream",
          "name": "stderr",
          "text": [
            " 86%|████████▌ | 976/1141 [02:04<00:19,  8.66it/s]"
          ]
        },
        {
          "output_type": "stream",
          "name": "stdout",
          "text": [
            "0.019634485244750977\n",
            "0.013380289077758789\n"
          ]
        },
        {
          "output_type": "stream",
          "name": "stderr",
          "text": [
            " 86%|████████▌ | 978/1141 [02:04<00:18,  8.82it/s]"
          ]
        },
        {
          "output_type": "stream",
          "name": "stdout",
          "text": [
            "0.01716923713684082\n",
            "0.013467788696289062\n"
          ]
        },
        {
          "output_type": "stream",
          "name": "stderr",
          "text": [
            " 86%|████████▌ | 980/1141 [02:04<00:18,  8.62it/s]"
          ]
        },
        {
          "output_type": "stream",
          "name": "stdout",
          "text": [
            "0.020020723342895508\n",
            "0.015217065811157227\n"
          ]
        },
        {
          "output_type": "stream",
          "name": "stderr",
          "text": [
            " 86%|████████▌ | 982/1141 [02:05<00:18,  8.66it/s]"
          ]
        },
        {
          "output_type": "stream",
          "name": "stdout",
          "text": [
            "0.013926267623901367\n",
            "0.013529539108276367\n"
          ]
        },
        {
          "output_type": "stream",
          "name": "stderr",
          "text": [
            " 86%|████████▌ | 984/1141 [02:05<00:18,  8.36it/s]"
          ]
        },
        {
          "output_type": "stream",
          "name": "stdout",
          "text": [
            "0.013678312301635742\n",
            "0.014063835144042969\n"
          ]
        },
        {
          "output_type": "stream",
          "name": "stderr",
          "text": [
            " 86%|████████▋ | 986/1141 [02:05<00:18,  8.29it/s]"
          ]
        },
        {
          "output_type": "stream",
          "name": "stdout",
          "text": [
            "0.014714956283569336\n",
            "0.014043569564819336\n"
          ]
        },
        {
          "output_type": "stream",
          "name": "stderr",
          "text": [
            " 87%|████████▋ | 988/1141 [02:05<00:18,  8.25it/s]"
          ]
        },
        {
          "output_type": "stream",
          "name": "stdout",
          "text": [
            "0.013718843460083008\n",
            "0.014898538589477539\n"
          ]
        },
        {
          "output_type": "stream",
          "name": "stderr",
          "text": [
            " 87%|████████▋ | 990/1141 [02:06<00:17,  8.41it/s]"
          ]
        },
        {
          "output_type": "stream",
          "name": "stdout",
          "text": [
            "0.01639080047607422\n",
            "0.013431549072265625\n"
          ]
        },
        {
          "output_type": "stream",
          "name": "stderr",
          "text": [
            " 87%|████████▋ | 992/1141 [02:06<00:17,  8.44it/s]"
          ]
        },
        {
          "output_type": "stream",
          "name": "stdout",
          "text": [
            "0.014636993408203125\n",
            "0.013582229614257812\n"
          ]
        },
        {
          "output_type": "stream",
          "name": "stderr",
          "text": [
            " 87%|████████▋ | 994/1141 [02:06<00:17,  8.60it/s]"
          ]
        },
        {
          "output_type": "stream",
          "name": "stdout",
          "text": [
            "0.013643026351928711\n",
            "0.013570785522460938\n"
          ]
        },
        {
          "output_type": "stream",
          "name": "stderr",
          "text": [
            " 87%|████████▋ | 996/1141 [02:06<00:16,  8.64it/s]"
          ]
        },
        {
          "output_type": "stream",
          "name": "stdout",
          "text": [
            "0.0157773494720459\n",
            "0.013768911361694336\n"
          ]
        },
        {
          "output_type": "stream",
          "name": "stderr",
          "text": [
            " 87%|████████▋ | 998/1141 [02:07<00:16,  8.55it/s]"
          ]
        },
        {
          "output_type": "stream",
          "name": "stdout",
          "text": [
            "0.014358282089233398\n",
            "0.013591766357421875\n"
          ]
        },
        {
          "output_type": "stream",
          "name": "stderr",
          "text": [
            " 88%|████████▊ | 1000/1141 [02:07<00:16,  8.66it/s]"
          ]
        },
        {
          "output_type": "stream",
          "name": "stdout",
          "text": [
            "0.013412237167358398\n",
            "0.014563322067260742\n"
          ]
        },
        {
          "output_type": "stream",
          "name": "stderr",
          "text": [
            " 88%|████████▊ | 1002/1141 [02:07<00:16,  8.65it/s]"
          ]
        },
        {
          "output_type": "stream",
          "name": "stdout",
          "text": [
            "0.013686180114746094\n",
            "0.013457298278808594\n"
          ]
        },
        {
          "output_type": "stream",
          "name": "stderr",
          "text": [
            " 88%|████████▊ | 1004/1141 [02:07<00:15,  8.70it/s]"
          ]
        },
        {
          "output_type": "stream",
          "name": "stdout",
          "text": [
            "0.013734817504882812\n",
            "0.014091968536376953\n"
          ]
        },
        {
          "output_type": "stream",
          "name": "stderr",
          "text": [
            " 88%|████████▊ | 1006/1141 [02:07<00:16,  8.35it/s]"
          ]
        },
        {
          "output_type": "stream",
          "name": "stdout",
          "text": [
            "0.014091014862060547\n",
            "0.017161130905151367\n"
          ]
        },
        {
          "output_type": "stream",
          "name": "stderr",
          "text": [
            " 88%|████████▊ | 1008/1141 [02:08<00:15,  8.51it/s]"
          ]
        },
        {
          "output_type": "stream",
          "name": "stdout",
          "text": [
            "0.014763593673706055\n",
            "0.01357722282409668\n"
          ]
        },
        {
          "output_type": "stream",
          "name": "stderr",
          "text": [
            " 89%|████████▊ | 1010/1141 [02:08<00:15,  8.47it/s]"
          ]
        },
        {
          "output_type": "stream",
          "name": "stdout",
          "text": [
            "0.015666961669921875\n",
            "0.013863801956176758\n"
          ]
        },
        {
          "output_type": "stream",
          "name": "stderr",
          "text": [
            " 89%|████████▊ | 1012/1141 [02:08<00:15,  8.41it/s]"
          ]
        },
        {
          "output_type": "stream",
          "name": "stdout",
          "text": [
            "0.014876842498779297\n",
            "0.02174091339111328\n"
          ]
        },
        {
          "output_type": "stream",
          "name": "stderr",
          "text": [
            " 89%|████████▉ | 1014/1141 [02:09<00:18,  6.96it/s]"
          ]
        },
        {
          "output_type": "stream",
          "name": "stdout",
          "text": [
            "0.017446041107177734\n",
            "0.016638517379760742\n"
          ]
        },
        {
          "output_type": "stream",
          "name": "stderr",
          "text": [
            " 89%|████████▉ | 1016/1141 [02:09<00:18,  6.61it/s]"
          ]
        },
        {
          "output_type": "stream",
          "name": "stdout",
          "text": [
            "0.01611804962158203\n",
            "0.016796112060546875\n"
          ]
        },
        {
          "output_type": "stream",
          "name": "stderr",
          "text": [
            " 89%|████████▉ | 1018/1141 [02:09<00:19,  6.36it/s]"
          ]
        },
        {
          "output_type": "stream",
          "name": "stdout",
          "text": [
            "0.01630115509033203\n",
            "0.0162966251373291\n"
          ]
        },
        {
          "output_type": "stream",
          "name": "stderr",
          "text": [
            " 89%|████████▉ | 1020/1141 [02:10<00:19,  6.16it/s]"
          ]
        },
        {
          "output_type": "stream",
          "name": "stdout",
          "text": [
            "0.015810489654541016\n",
            "0.018448829650878906\n"
          ]
        },
        {
          "output_type": "stream",
          "name": "stderr",
          "text": [
            " 90%|████████▉ | 1022/1141 [02:10<00:19,  5.98it/s]"
          ]
        },
        {
          "output_type": "stream",
          "name": "stdout",
          "text": [
            "0.015841007232666016\n",
            "0.02333521842956543\n"
          ]
        },
        {
          "output_type": "stream",
          "name": "stderr",
          "text": [
            " 90%|████████▉ | 1024/1141 [02:10<00:19,  6.12it/s]"
          ]
        },
        {
          "output_type": "stream",
          "name": "stdout",
          "text": [
            "0.01848578453063965\n",
            "0.016712427139282227\n"
          ]
        },
        {
          "output_type": "stream",
          "name": "stderr",
          "text": [
            " 90%|████████▉ | 1026/1141 [02:11<00:19,  6.00it/s]"
          ]
        },
        {
          "output_type": "stream",
          "name": "stdout",
          "text": [
            "0.017074108123779297\n",
            "0.022833824157714844\n"
          ]
        },
        {
          "output_type": "stream",
          "name": "stderr",
          "text": [
            " 90%|█████████ | 1028/1141 [02:11<00:19,  5.95it/s]"
          ]
        },
        {
          "output_type": "stream",
          "name": "stdout",
          "text": [
            "0.018704891204833984\n",
            "0.018367528915405273\n"
          ]
        },
        {
          "output_type": "stream",
          "name": "stderr",
          "text": [
            " 90%|█████████ | 1030/1141 [02:11<00:18,  5.94it/s]"
          ]
        },
        {
          "output_type": "stream",
          "name": "stdout",
          "text": [
            "0.019681692123413086\n",
            "0.01906752586364746\n"
          ]
        },
        {
          "output_type": "stream",
          "name": "stderr",
          "text": [
            " 90%|█████████ | 1032/1141 [02:12<00:17,  6.22it/s]"
          ]
        },
        {
          "output_type": "stream",
          "name": "stdout",
          "text": [
            "0.02121710777282715\n",
            "0.013605833053588867\n"
          ]
        },
        {
          "output_type": "stream",
          "name": "stderr",
          "text": [
            " 91%|█████████ | 1034/1141 [02:12<00:14,  7.28it/s]"
          ]
        },
        {
          "output_type": "stream",
          "name": "stdout",
          "text": [
            "0.01999831199645996\n",
            "0.013402223587036133\n"
          ]
        },
        {
          "output_type": "stream",
          "name": "stderr",
          "text": [
            " 91%|█████████ | 1036/1141 [02:12<00:13,  7.84it/s]"
          ]
        },
        {
          "output_type": "stream",
          "name": "stdout",
          "text": [
            "0.013679027557373047\n",
            "0.013750314712524414\n"
          ]
        },
        {
          "output_type": "stream",
          "name": "stderr",
          "text": [
            " 91%|█████████ | 1038/1141 [02:12<00:12,  8.30it/s]"
          ]
        },
        {
          "output_type": "stream",
          "name": "stdout",
          "text": [
            "0.015517711639404297\n",
            "0.013680458068847656\n"
          ]
        },
        {
          "output_type": "stream",
          "name": "stderr",
          "text": [
            " 91%|█████████ | 1040/1141 [02:12<00:11,  8.58it/s]"
          ]
        },
        {
          "output_type": "stream",
          "name": "stdout",
          "text": [
            "0.013864278793334961\n",
            "0.013900279998779297\n"
          ]
        },
        {
          "output_type": "stream",
          "name": "stderr",
          "text": [
            " 91%|█████████▏| 1042/1141 [02:13<00:11,  8.48it/s]"
          ]
        },
        {
          "output_type": "stream",
          "name": "stdout",
          "text": [
            "0.015650510787963867\n",
            "0.020183801651000977\n"
          ]
        },
        {
          "output_type": "stream",
          "name": "stderr",
          "text": [
            " 91%|█████████▏| 1044/1141 [02:13<00:11,  8.45it/s]"
          ]
        },
        {
          "output_type": "stream",
          "name": "stdout",
          "text": [
            "0.018121719360351562\n",
            "0.013518571853637695\n"
          ]
        },
        {
          "output_type": "stream",
          "name": "stderr",
          "text": [
            " 92%|█████████▏| 1046/1141 [02:13<00:10,  8.77it/s]"
          ]
        },
        {
          "output_type": "stream",
          "name": "stdout",
          "text": [
            "0.013550996780395508\n",
            "0.013689994812011719\n"
          ]
        },
        {
          "output_type": "stream",
          "name": "stderr",
          "text": [
            " 92%|█████████▏| 1048/1141 [02:13<00:10,  8.58it/s]"
          ]
        },
        {
          "output_type": "stream",
          "name": "stdout",
          "text": [
            "0.014360189437866211\n",
            "0.013918876647949219\n"
          ]
        },
        {
          "output_type": "stream",
          "name": "stderr",
          "text": [
            " 92%|█████████▏| 1050/1141 [02:14<00:10,  8.65it/s]"
          ]
        },
        {
          "output_type": "stream",
          "name": "stdout",
          "text": [
            "0.017612695693969727\n",
            "0.013593435287475586\n"
          ]
        },
        {
          "output_type": "stream",
          "name": "stderr",
          "text": [
            " 92%|█████████▏| 1052/1141 [02:14<00:10,  8.35it/s]"
          ]
        },
        {
          "output_type": "stream",
          "name": "stdout",
          "text": [
            "0.014804840087890625\n",
            "0.015229940414428711\n"
          ]
        },
        {
          "output_type": "stream",
          "name": "stderr",
          "text": [
            " 92%|█████████▏| 1054/1141 [02:14<00:10,  8.57it/s]"
          ]
        },
        {
          "output_type": "stream",
          "name": "stdout",
          "text": [
            "0.013586759567260742\n",
            "0.013721942901611328\n"
          ]
        },
        {
          "output_type": "stream",
          "name": "stderr",
          "text": [
            " 93%|█████████▎| 1056/1141 [02:14<00:09,  8.55it/s]"
          ]
        },
        {
          "output_type": "stream",
          "name": "stdout",
          "text": [
            "0.013897180557250977\n",
            "0.013656139373779297\n"
          ]
        },
        {
          "output_type": "stream",
          "name": "stderr",
          "text": [
            " 93%|█████████▎| 1058/1141 [02:15<00:09,  8.59it/s]"
          ]
        },
        {
          "output_type": "stream",
          "name": "stdout",
          "text": [
            "0.013830184936523438\n",
            "0.013795852661132812\n"
          ]
        },
        {
          "output_type": "stream",
          "name": "stderr",
          "text": [
            " 93%|█████████▎| 1060/1141 [02:15<00:09,  8.22it/s]"
          ]
        },
        {
          "output_type": "stream",
          "name": "stdout",
          "text": [
            "0.014215707778930664\n",
            "0.019208908081054688\n"
          ]
        },
        {
          "output_type": "stream",
          "name": "stderr",
          "text": [
            " 93%|█████████▎| 1062/1141 [02:15<00:09,  8.40it/s]"
          ]
        },
        {
          "output_type": "stream",
          "name": "stdout",
          "text": [
            "0.013540267944335938\n",
            "0.013653039932250977\n"
          ]
        },
        {
          "output_type": "stream",
          "name": "stderr",
          "text": [
            " 93%|█████████▎| 1064/1141 [02:15<00:09,  8.48it/s]"
          ]
        },
        {
          "output_type": "stream",
          "name": "stdout",
          "text": [
            "0.013462543487548828\n",
            "0.014598846435546875\n"
          ]
        },
        {
          "output_type": "stream",
          "name": "stderr",
          "text": [
            " 93%|█████████▎| 1066/1141 [02:16<00:08,  8.54it/s]"
          ]
        },
        {
          "output_type": "stream",
          "name": "stdout",
          "text": [
            "0.017000675201416016\n",
            "0.014026880264282227\n"
          ]
        },
        {
          "output_type": "stream",
          "name": "stderr",
          "text": [
            " 94%|█████████▎| 1068/1141 [02:16<00:08,  8.55it/s]"
          ]
        },
        {
          "output_type": "stream",
          "name": "stdout",
          "text": [
            "0.013839006423950195\n",
            "0.014311790466308594\n"
          ]
        },
        {
          "output_type": "stream",
          "name": "stderr",
          "text": [
            " 94%|█████████▍| 1070/1141 [02:16<00:08,  8.33it/s]"
          ]
        },
        {
          "output_type": "stream",
          "name": "stdout",
          "text": [
            "0.013463020324707031\n",
            "0.014169692993164062\n"
          ]
        },
        {
          "output_type": "stream",
          "name": "stderr",
          "text": [
            " 94%|█████████▍| 1072/1141 [02:16<00:08,  8.50it/s]"
          ]
        },
        {
          "output_type": "stream",
          "name": "stdout",
          "text": [
            "0.013979911804199219\n",
            "0.013704776763916016\n"
          ]
        },
        {
          "output_type": "stream",
          "name": "stderr",
          "text": [
            " 94%|█████████▍| 1074/1141 [02:16<00:07,  8.56it/s]"
          ]
        },
        {
          "output_type": "stream",
          "name": "stdout",
          "text": [
            "0.014275074005126953\n",
            "0.01361227035522461\n"
          ]
        },
        {
          "output_type": "stream",
          "name": "stderr",
          "text": [
            " 94%|█████████▍| 1076/1141 [02:17<00:07,  8.70it/s]"
          ]
        },
        {
          "output_type": "stream",
          "name": "stdout",
          "text": [
            "0.016213417053222656\n",
            "0.013605117797851562\n"
          ]
        },
        {
          "output_type": "stream",
          "name": "stderr",
          "text": [
            " 94%|█████████▍| 1078/1141 [02:17<00:07,  8.26it/s]"
          ]
        },
        {
          "output_type": "stream",
          "name": "stdout",
          "text": [
            "0.020169973373413086\n",
            "0.013491630554199219\n"
          ]
        },
        {
          "output_type": "stream",
          "name": "stderr",
          "text": [
            " 95%|█████████▍| 1080/1141 [02:17<00:07,  8.38it/s]"
          ]
        },
        {
          "output_type": "stream",
          "name": "stdout",
          "text": [
            "0.013519763946533203\n",
            "0.013885736465454102\n"
          ]
        },
        {
          "output_type": "stream",
          "name": "stderr",
          "text": [
            " 95%|█████████▍| 1082/1141 [02:17<00:07,  8.36it/s]"
          ]
        },
        {
          "output_type": "stream",
          "name": "stdout",
          "text": [
            "0.014589786529541016\n",
            "0.01396632194519043\n"
          ]
        },
        {
          "output_type": "stream",
          "name": "stderr",
          "text": [
            " 95%|█████████▌| 1084/1141 [02:18<00:06,  8.64it/s]"
          ]
        },
        {
          "output_type": "stream",
          "name": "stdout",
          "text": [
            "0.015140533447265625\n",
            "0.013293266296386719\n"
          ]
        },
        {
          "output_type": "stream",
          "name": "stderr",
          "text": [
            " 95%|█████████▌| 1086/1141 [02:18<00:06,  8.17it/s]"
          ]
        },
        {
          "output_type": "stream",
          "name": "stdout",
          "text": [
            "0.016476869583129883\n",
            "0.013702392578125\n"
          ]
        },
        {
          "output_type": "stream",
          "name": "stderr",
          "text": [
            " 95%|█████████▌| 1088/1141 [02:18<00:06,  8.53it/s]"
          ]
        },
        {
          "output_type": "stream",
          "name": "stdout",
          "text": [
            "0.013559579849243164\n",
            "0.013492107391357422\n"
          ]
        },
        {
          "output_type": "stream",
          "name": "stderr",
          "text": [
            " 96%|█████████▌| 1090/1141 [02:18<00:05,  8.67it/s]"
          ]
        },
        {
          "output_type": "stream",
          "name": "stdout",
          "text": [
            "0.013807058334350586\n",
            "0.013586044311523438\n"
          ]
        },
        {
          "output_type": "stream",
          "name": "stderr",
          "text": [
            " 96%|█████████▌| 1092/1141 [02:19<00:05,  8.80it/s]"
          ]
        },
        {
          "output_type": "stream",
          "name": "stdout",
          "text": [
            "0.015357732772827148\n",
            "0.013275623321533203\n"
          ]
        },
        {
          "output_type": "stream",
          "name": "stderr",
          "text": [
            " 96%|█████████▌| 1094/1141 [02:19<00:05,  8.74it/s]"
          ]
        },
        {
          "output_type": "stream",
          "name": "stdout",
          "text": [
            "0.016490936279296875\n",
            "0.017769336700439453\n"
          ]
        },
        {
          "output_type": "stream",
          "name": "stderr",
          "text": [
            " 96%|█████████▌| 1096/1141 [02:19<00:05,  8.49it/s]"
          ]
        },
        {
          "output_type": "stream",
          "name": "stdout",
          "text": [
            "0.013515233993530273\n",
            "0.014478206634521484\n"
          ]
        },
        {
          "output_type": "stream",
          "name": "stderr",
          "text": [
            " 96%|█████████▌| 1098/1141 [02:19<00:04,  8.73it/s]"
          ]
        },
        {
          "output_type": "stream",
          "name": "stdout",
          "text": [
            "0.015227079391479492\n",
            "0.013296365737915039\n"
          ]
        },
        {
          "output_type": "stream",
          "name": "stderr",
          "text": [
            " 96%|█████████▋| 1100/1141 [02:20<00:04,  8.69it/s]"
          ]
        },
        {
          "output_type": "stream",
          "name": "stdout",
          "text": [
            "0.014456987380981445\n",
            "0.016509532928466797\n"
          ]
        },
        {
          "output_type": "stream",
          "name": "stderr",
          "text": [
            " 97%|█████████▋| 1102/1141 [02:20<00:04,  8.62it/s]"
          ]
        },
        {
          "output_type": "stream",
          "name": "stdout",
          "text": [
            "0.0169827938079834\n",
            "0.013637542724609375\n"
          ]
        },
        {
          "output_type": "stream",
          "name": "stderr",
          "text": [
            " 97%|█████████▋| 1104/1141 [02:20<00:04,  8.27it/s]"
          ]
        },
        {
          "output_type": "stream",
          "name": "stdout",
          "text": [
            "0.01539921760559082\n",
            "0.013888835906982422\n"
          ]
        },
        {
          "output_type": "stream",
          "name": "stderr",
          "text": [
            " 97%|█████████▋| 1106/1141 [02:20<00:04,  8.34it/s]"
          ]
        },
        {
          "output_type": "stream",
          "name": "stdout",
          "text": [
            "0.014076709747314453\n",
            "0.014242887496948242\n"
          ]
        },
        {
          "output_type": "stream",
          "name": "stderr",
          "text": [
            " 97%|█████████▋| 1108/1141 [02:20<00:03,  8.44it/s]"
          ]
        },
        {
          "output_type": "stream",
          "name": "stdout",
          "text": [
            "0.01455235481262207\n",
            "0.013725042343139648\n"
          ]
        },
        {
          "output_type": "stream",
          "name": "stderr",
          "text": [
            " 97%|█████████▋| 1110/1141 [02:21<00:03,  8.59it/s]"
          ]
        },
        {
          "output_type": "stream",
          "name": "stdout",
          "text": [
            "0.013920068740844727\n",
            "0.01379847526550293\n"
          ]
        },
        {
          "output_type": "stream",
          "name": "stderr",
          "text": [
            " 97%|█████████▋| 1112/1141 [02:21<00:03,  8.18it/s]"
          ]
        },
        {
          "output_type": "stream",
          "name": "stdout",
          "text": [
            "0.017326831817626953\n",
            "0.013421297073364258\n"
          ]
        },
        {
          "output_type": "stream",
          "name": "stderr",
          "text": [
            " 98%|█████████▊| 1114/1141 [02:21<00:03,  8.40it/s]"
          ]
        },
        {
          "output_type": "stream",
          "name": "stdout",
          "text": [
            "0.013908863067626953\n",
            "0.013511180877685547\n"
          ]
        },
        {
          "output_type": "stream",
          "name": "stderr",
          "text": [
            " 98%|█████████▊| 1116/1141 [02:21<00:02,  8.49it/s]"
          ]
        },
        {
          "output_type": "stream",
          "name": "stdout",
          "text": [
            "0.014121770858764648\n",
            "0.013839244842529297\n"
          ]
        },
        {
          "output_type": "stream",
          "name": "stderr",
          "text": [
            " 98%|█████████▊| 1118/1141 [02:22<00:03,  7.15it/s]"
          ]
        },
        {
          "output_type": "stream",
          "name": "stdout",
          "text": [
            "0.018440961837768555\n",
            "0.020245790481567383\n"
          ]
        },
        {
          "output_type": "stream",
          "name": "stderr",
          "text": [
            " 98%|█████████▊| 1120/1141 [02:22<00:03,  6.37it/s]"
          ]
        },
        {
          "output_type": "stream",
          "name": "stdout",
          "text": [
            "0.016195058822631836\n",
            "0.01685333251953125\n"
          ]
        },
        {
          "output_type": "stream",
          "name": "stderr",
          "text": [
            " 98%|█████████▊| 1122/1141 [02:22<00:03,  6.14it/s]"
          ]
        },
        {
          "output_type": "stream",
          "name": "stdout",
          "text": [
            "0.016565799713134766\n",
            "0.016625404357910156\n"
          ]
        },
        {
          "output_type": "stream",
          "name": "stderr",
          "text": [
            " 99%|█████████▊| 1124/1141 [02:23<00:02,  6.04it/s]"
          ]
        },
        {
          "output_type": "stream",
          "name": "stdout",
          "text": [
            "0.016313791275024414\n",
            "0.01614212989807129\n"
          ]
        },
        {
          "output_type": "stream",
          "name": "stderr",
          "text": [
            " 99%|█████████▊| 1126/1141 [02:23<00:02,  6.07it/s]"
          ]
        },
        {
          "output_type": "stream",
          "name": "stdout",
          "text": [
            "0.016580581665039062\n",
            "0.01836705207824707\n"
          ]
        },
        {
          "output_type": "stream",
          "name": "stderr",
          "text": [
            " 99%|█████████▉| 1128/1141 [02:23<00:02,  5.99it/s]"
          ]
        },
        {
          "output_type": "stream",
          "name": "stdout",
          "text": [
            "0.02050018310546875\n",
            "0.021625041961669922\n"
          ]
        },
        {
          "output_type": "stream",
          "name": "stderr",
          "text": [
            " 99%|█████████▉| 1130/1141 [02:24<00:01,  6.08it/s]"
          ]
        },
        {
          "output_type": "stream",
          "name": "stdout",
          "text": [
            "0.019176483154296875\n",
            "0.020579099655151367\n"
          ]
        },
        {
          "output_type": "stream",
          "name": "stderr",
          "text": [
            " 99%|█████████▉| 1132/1141 [02:24<00:01,  5.84it/s]"
          ]
        },
        {
          "output_type": "stream",
          "name": "stdout",
          "text": [
            "0.018967628479003906\n",
            "0.022321462631225586\n"
          ]
        },
        {
          "output_type": "stream",
          "name": "stderr",
          "text": [
            " 99%|█████████▉| 1134/1141 [02:24<00:01,  5.87it/s]"
          ]
        },
        {
          "output_type": "stream",
          "name": "stdout",
          "text": [
            "0.018973827362060547\n",
            "0.01953268051147461\n"
          ]
        },
        {
          "output_type": "stream",
          "name": "stderr",
          "text": [
            "100%|█████████▉| 1136/1141 [02:25<00:00,  6.39it/s]"
          ]
        },
        {
          "output_type": "stream",
          "name": "stdout",
          "text": [
            "0.020086288452148438\n",
            "0.013587474822998047\n"
          ]
        },
        {
          "output_type": "stream",
          "name": "stderr",
          "text": [
            "100%|█████████▉| 1138/1141 [02:25<00:00,  7.35it/s]"
          ]
        },
        {
          "output_type": "stream",
          "name": "stdout",
          "text": [
            "0.013380765914916992\n",
            "0.013776540756225586\n"
          ]
        },
        {
          "output_type": "stream",
          "name": "stderr",
          "text": [
            "100%|█████████▉| 1140/1141 [02:25<00:00,  7.78it/s]"
          ]
        },
        {
          "output_type": "stream",
          "name": "stdout",
          "text": [
            "0.013390302658081055\n",
            "0.013617992401123047\n"
          ]
        },
        {
          "output_type": "stream",
          "name": "stderr",
          "text": [
            "\r100%|██████████| 1141/1141 [02:25<00:00,  7.82it/s]"
          ]
        },
        {
          "output_type": "stream",
          "name": "stdout",
          "text": [
            "0.0252685546875\n"
          ]
        },
        {
          "output_type": "stream",
          "name": "stderr",
          "text": [
            "\n"
          ]
        }
      ]
    },
    {
      "cell_type": "code",
      "source": [
        "all_labels = []\n",
        "predictions_vit = []\n",
        "predictions_rn = []\n",
        "for (images_vit, labels), (images_rn, _) in tqdm(zip(dataloader_vit, dataloader_rn)):\n",
        "    start = time.time()\n",
        "    images_vit = images_vit.to(device)\n",
        "    images_rn = images_rn.to(device)\n",
        "    labels = labels.to(device)\n",
        "    all_labels.extend(labels.cpu().numpy())\n",
        "    with torch.no_grad():\n",
        "      image_features_vit = model_vit.encode_image(images_vit).float()\n",
        "      image_features_vit /= image_features_vit.norm(dim=-1, keepdim=True)\n",
        "\n",
        "      image_features_rn = model_rn.encode_image(images_rn).float()\n",
        "      image_features_rn /= image_features_rn.norm(dim=-1, keepdim=True)\n",
        "\n",
        "      text_probs_vit = (100.0 * image_features_vit @ text_features_vit.T).softmax(dim=-1)\n",
        "      predictions_vit.extend(text_probs_vit.argmax(dim=-1))\n",
        "\n",
        "      text_probs_rn = (100.0 * image_features_rn @ text_features_rn.T).softmax(dim=-1)\n",
        "      predictions_rn.extend(text_probs_rn.argmax(dim=-1))\n",
        "    end = time.time()\n",
        "    print(end - start)"
      ],
      "metadata": {
        "colab": {
          "base_uri": "https://localhost:8080/",
          "height": 216
        },
        "id": "ELmzQHDSwZE0",
        "outputId": "947ad173-200e-49d0-b47d-86e6253f2c40"
      },
      "execution_count": 17,
      "outputs": [
        {
          "output_type": "error",
          "ename": "NameError",
          "evalue": "name 'dataloader_vit' is not defined",
          "traceback": [
            "\u001b[0;31m---------------------------------------------------------------------------\u001b[0m",
            "\u001b[0;31mNameError\u001b[0m                                 Traceback (most recent call last)",
            "\u001b[0;32m<ipython-input-17-8e45fb2de1df>\u001b[0m in \u001b[0;36m<cell line: 4>\u001b[0;34m()\u001b[0m\n\u001b[1;32m      2\u001b[0m \u001b[0mpredictions_vit\u001b[0m \u001b[0;34m=\u001b[0m \u001b[0;34m[\u001b[0m\u001b[0;34m]\u001b[0m\u001b[0;34m\u001b[0m\u001b[0;34m\u001b[0m\u001b[0m\n\u001b[1;32m      3\u001b[0m \u001b[0mpredictions_rn\u001b[0m \u001b[0;34m=\u001b[0m \u001b[0;34m[\u001b[0m\u001b[0;34m]\u001b[0m\u001b[0;34m\u001b[0m\u001b[0;34m\u001b[0m\u001b[0m\n\u001b[0;32m----> 4\u001b[0;31m \u001b[0;32mfor\u001b[0m \u001b[0;34m(\u001b[0m\u001b[0mimages_vit\u001b[0m\u001b[0;34m,\u001b[0m \u001b[0mlabels\u001b[0m\u001b[0;34m)\u001b[0m\u001b[0;34m,\u001b[0m \u001b[0;34m(\u001b[0m\u001b[0mimages_rn\u001b[0m\u001b[0;34m,\u001b[0m \u001b[0m_\u001b[0m\u001b[0;34m)\u001b[0m \u001b[0;32min\u001b[0m \u001b[0mtqdm\u001b[0m\u001b[0;34m(\u001b[0m\u001b[0mzip\u001b[0m\u001b[0;34m(\u001b[0m\u001b[0mdataloader_vit\u001b[0m\u001b[0;34m,\u001b[0m \u001b[0mdataloader_rn\u001b[0m\u001b[0;34m)\u001b[0m\u001b[0;34m)\u001b[0m\u001b[0;34m:\u001b[0m\u001b[0;34m\u001b[0m\u001b[0;34m\u001b[0m\u001b[0m\n\u001b[0m\u001b[1;32m      5\u001b[0m     \u001b[0mstart\u001b[0m \u001b[0;34m=\u001b[0m \u001b[0mtime\u001b[0m\u001b[0;34m.\u001b[0m\u001b[0mtime\u001b[0m\u001b[0;34m(\u001b[0m\u001b[0;34m)\u001b[0m\u001b[0;34m\u001b[0m\u001b[0;34m\u001b[0m\u001b[0m\n\u001b[1;32m      6\u001b[0m     \u001b[0mimages_vit\u001b[0m \u001b[0;34m=\u001b[0m \u001b[0mimages_vit\u001b[0m\u001b[0;34m.\u001b[0m\u001b[0mto\u001b[0m\u001b[0;34m(\u001b[0m\u001b[0mdevice\u001b[0m\u001b[0;34m)\u001b[0m\u001b[0;34m\u001b[0m\u001b[0;34m\u001b[0m\u001b[0m\n",
            "\u001b[0;31mNameError\u001b[0m: name 'dataloader_vit' is not defined"
          ]
        }
      ]
    },
    {
      "cell_type": "code",
      "source": [
        "from sklearn.metrics import classification_report"
      ],
      "metadata": {
        "id": "JjRMYFpuwlFj"
      },
      "execution_count": 20,
      "outputs": []
    },
    {
      "cell_type": "code",
      "source": [
        "all_labels_np = np.array([label.cpu().numpy() if isinstance(label, torch.Tensor) else label for label in all_labels])\n",
        "predictions_vit_np = np.array([pred.cpu().numpy() if isinstance(pred, torch.Tensor) else pred for pred in predictions_vit])"
      ],
      "metadata": {
        "id": "CCocSnSpLpG2"
      },
      "execution_count": 21,
      "outputs": []
    },
    {
      "cell_type": "code",
      "source": [
        "print(classification_report(all_labels_np, predictions_vit_np, target_names=class_names))"
      ],
      "metadata": {
        "colab": {
          "base_uri": "https://localhost:8080/"
        },
        "id": "YU81luoJw8gu",
        "outputId": "e3460a36-0aed-46bb-92e7-e20e659153bf"
      },
      "execution_count": 22,
      "outputs": [
        {
          "output_type": "stream",
          "name": "stdout",
          "text": [
            "                               precision    recall  f1-score   support\n",
            "\n",
            "                  /a/airfield       0.36      0.22      0.27       100\n",
            "            /a/airplane_cabin       0.64      0.79      0.71       100\n",
            "          /a/airport_terminal       0.33      0.48      0.39       100\n",
            "                    /a/alcove       0.10      0.05      0.07       100\n",
            "                     /a/alley       0.55      0.51      0.53       100\n",
            "              /a/amphitheater       0.45      0.58      0.51       100\n",
            "          /a/amusement_arcade       0.24      0.12      0.16       100\n",
            "            /a/amusement_park       0.43      0.63      0.51       100\n",
            "/a/apartment_building/outdoor       0.16      0.36      0.22       100\n",
            "                  /a/aquarium       0.72      0.68      0.70       100\n",
            "                  /a/aqueduct       0.31      0.57      0.41       100\n",
            "                    /a/arcade       0.00      0.00      0.00       100\n",
            "                      /a/arch       0.19      0.25      0.22       100\n",
            "  /a/archaelogical_excavation       0.22      0.50      0.30       100\n",
            "                   /a/archive       0.30      0.03      0.05       100\n",
            "              /a/arena/hockey       0.62      0.37      0.46       100\n",
            "         /a/arena/performance       0.40      0.17      0.24       100\n",
            "               /a/arena/rodeo       0.62      0.79      0.70       100\n",
            "                 /a/army_base       0.53      0.88      0.66       100\n",
            "               /a/art_gallery       0.36      0.21      0.26       100\n",
            "                /a/art_school       0.25      0.02      0.04       100\n",
            "                /a/art_studio       0.24      0.36      0.29       100\n",
            "              /a/artists_loft       0.10      0.13      0.12       100\n",
            "             /a/assembly_line       0.26      0.33      0.29       100\n",
            "    /a/athletic_field/outdoor       0.33      0.48      0.39       100\n",
            "             /a/atrium/public       0.46      0.13      0.20       100\n",
            "                     /a/attic       0.50      0.30      0.38       100\n",
            "                /a/auditorium       0.50      0.28      0.36       100\n",
            "              /a/auto_factory       0.26      0.14      0.18       100\n",
            "             /a/auto_showroom       0.42      0.68      0.52       100\n",
            "                  /b/badlands       0.74      0.52      0.61       100\n",
            "               /b/bakery/shop       0.38      0.32      0.35       100\n",
            "          /b/balcony/exterior       0.19      0.12      0.15       100\n",
            "          /b/balcony/interior       0.12      0.02      0.03       100\n",
            "                  /b/ball_pit       0.92      0.45      0.60       100\n",
            "                  /b/ballroom       0.57      0.46      0.51       100\n",
            "             /b/bamboo_forest       0.66      0.79      0.72       100\n",
            "                /b/bank_vault       0.44      0.31      0.36       100\n",
            "              /b/banquet_hall       0.27      0.66      0.39       100\n",
            "                       /b/bar       0.26      0.12      0.16       100\n",
            "                      /b/barn       0.38      0.47      0.42       100\n",
            "                  /b/barndoor       0.20      0.24      0.22       100\n",
            "            /b/baseball_field       0.51      0.82      0.63       100\n",
            "                  /b/basement       0.35      0.07      0.12       100\n",
            "   /b/basketball_court/indoor       0.78      0.80      0.79       100\n",
            "                  /b/bathroom       0.64      0.38      0.48       100\n",
            "             /b/bazaar/indoor       0.14      0.13      0.13       100\n",
            "            /b/bazaar/outdoor       0.13      0.27      0.18       100\n",
            "                     /b/beach       0.26      0.29      0.28       100\n",
            "               /b/beach_house       0.29      0.29      0.29       100\n",
            "              /b/beauty_salon       0.41      0.84      0.55       100\n",
            "                /b/bedchamber       0.29      0.34      0.31       100\n",
            "                   /b/bedroom       0.25      0.25      0.25       100\n",
            "               /b/beer_garden       0.26      0.23      0.24       100\n",
            "                 /b/beer_hall       0.26      0.20      0.23       100\n",
            "                     /b/berth       0.08      0.16      0.11       100\n",
            "        /b/biology_laboratory       0.39      0.43      0.41       100\n",
            "                 /b/boardwalk       0.40      0.23      0.29       100\n",
            "                 /b/boat_deck       0.23      0.41      0.29       100\n",
            "                 /b/boathouse       0.44      0.32      0.37       100\n",
            "                 /b/bookstore       0.67      0.51      0.58       100\n",
            "              /b/booth/indoor       0.42      0.34      0.38       100\n",
            "          /b/botanical_garden       0.12      0.57      0.20       100\n",
            "         /b/bow_window/indoor       0.26      0.32      0.29       100\n",
            "             /b/bowling_alley       0.89      0.95      0.92       100\n",
            "               /b/boxing_ring       0.72      0.79      0.76       100\n",
            "                    /b/bridge       0.33      0.29      0.31       100\n",
            "           /b/building_facade       0.04      0.09      0.06       100\n",
            "                  /b/bullring       0.41      0.61      0.49       100\n",
            "            /b/burial_chamber       0.11      0.24      0.15       100\n",
            "              /b/bus_interior       0.55      0.85      0.67       100\n",
            "        /b/bus_station/indoor       0.61      0.61      0.61       100\n",
            "             /b/butchers_shop       0.48      0.65      0.55       100\n",
            "                     /b/butte       0.33      0.40      0.36       100\n",
            "             /c/cabin/outdoor       0.03      0.02      0.03       100\n",
            "                 /c/cafeteria       0.16      0.03      0.05       100\n",
            "                  /c/campsite       0.78      0.35      0.48       100\n",
            "                    /c/campus       0.22      0.18      0.20       100\n",
            "             /c/canal/natural       0.25      0.14      0.18       100\n",
            "               /c/canal/urban       0.39      0.17      0.24       100\n",
            "               /c/candy_store       0.38      0.24      0.29       100\n",
            "                    /c/canyon       0.32      0.50      0.39       100\n",
            "              /c/car_interior       0.72      0.78      0.75       100\n",
            "                 /c/carrousel       0.38      0.65      0.48       100\n",
            "                    /c/castle       0.35      0.46      0.40       100\n",
            "                  /c/catacomb       0.75      0.06      0.11       100\n",
            "                  /c/cemetery       0.67      0.36      0.47       100\n",
            "                    /c/chalet       0.27      0.24      0.26       100\n",
            "             /c/chemistry_lab       0.47      0.38      0.42       100\n",
            "               /c/childs_room       0.28      0.23      0.25       100\n",
            "             /c/church/indoor       0.64      0.42      0.51       100\n",
            "            /c/church/outdoor       0.27      0.10      0.15       100\n",
            "                 /c/classroom       0.41      0.21      0.28       100\n",
            "                /c/clean_room       0.43      0.25      0.32       100\n",
            "                     /c/cliff       0.22      0.02      0.04       100\n",
            "                    /c/closet       0.20      0.01      0.02       100\n",
            "            /c/clothing_store       0.44      0.41      0.42       100\n",
            "                     /c/coast       0.00      0.00      0.00       100\n",
            "                   /c/cockpit       0.77      0.72      0.74       100\n",
            "               /c/coffee_shop       0.37      0.33      0.35       100\n",
            "             /c/computer_room       0.12      0.03      0.05       100\n",
            "         /c/conference_center       0.16      0.23      0.19       100\n",
            "           /c/conference_room       0.52      0.35      0.42       100\n",
            "         /c/construction_site       0.50      0.24      0.32       100\n",
            "                /c/corn_field       0.78      0.57      0.66       100\n",
            "                    /c/corral       0.17      0.07      0.10       100\n",
            "                  /c/corridor       0.76      0.13      0.22       100\n",
            "                   /c/cottage       0.08      0.04      0.05       100\n",
            "                /c/courthouse       0.45      0.33      0.38       100\n",
            "                 /c/courtyard       0.31      0.15      0.20       100\n",
            "                     /c/creek       0.71      0.12      0.21       100\n",
            "                  /c/crevasse       0.79      0.30      0.43       100\n",
            "                 /c/crosswalk       0.67      0.34      0.45       100\n",
            "                       /d/dam       0.88      0.49      0.63       100\n",
            "              /d/delicatessen       0.26      0.08      0.12       100\n",
            "          /d/department_store       0.10      0.05      0.07       100\n",
            "               /d/desert/sand       0.77      0.40      0.53       100\n",
            "         /d/desert/vegetation       0.37      0.46      0.41       100\n",
            "               /d/desert_road       0.49      0.79      0.60       100\n",
            "             /d/diner/outdoor       0.18      0.02      0.04       100\n",
            "               /d/dining_hall       0.12      0.16      0.14       100\n",
            "               /d/dining_room       0.28      0.65      0.39       100\n",
            "               /d/discotheque       0.51      0.23      0.32       100\n",
            "           /d/doorway/outdoor       0.40      0.17      0.24       100\n",
            "                 /d/dorm_room       0.53      0.28      0.37       100\n",
            "                  /d/downtown       0.29      0.07      0.11       100\n",
            "             /d/dressing_room       0.52      0.11      0.18       100\n",
            "                  /d/driveway       0.50      0.12      0.19       100\n",
            "                 /d/drugstore       0.48      0.12      0.19       100\n",
            "             /e/elevator/door       0.57      0.23      0.33       100\n",
            "            /e/elevator_lobby       0.24      0.24      0.24       100\n",
            "            /e/elevator_shaft       0.30      0.16      0.21       100\n",
            "                   /e/embassy       0.18      0.14      0.16       100\n",
            "               /e/engine_room       0.41      0.61      0.49       100\n",
            "             /e/entrance_hall       0.11      0.38      0.17       100\n",
            "          /e/escalator/indoor       0.87      0.55      0.67       100\n",
            "                /e/excavation       0.28      0.59      0.38       100\n",
            "              /f/fabric_store       0.57      0.62      0.60       100\n",
            "                      /f/farm       0.20      0.03      0.05       100\n",
            "       /f/fastfood_restaurant       0.31      0.28      0.30       100\n",
            "          /f/field/cultivated       0.15      0.09      0.11       100\n",
            "                /f/field/wild       0.15      0.04      0.06       100\n",
            "                /f/field_road       0.30      0.26      0.28       100\n",
            "               /f/fire_escape       0.63      0.38      0.47       100\n",
            "              /f/fire_station       0.62      0.73      0.67       100\n",
            "                  /f/fishpond       0.38      0.30      0.34       100\n",
            "        /f/flea_market/indoor       0.19      0.22      0.20       100\n",
            "       /f/florist_shop/indoor       0.35      0.34      0.35       100\n",
            "                /f/food_court       0.26      0.26      0.26       100\n",
            "            /f/football_field       0.31      0.63      0.42       100\n",
            "          /f/forest/broadleaf       0.32      0.11      0.16       100\n",
            "               /f/forest_path       0.27      0.56      0.36       100\n",
            "               /f/forest_road       0.40      0.34      0.37       100\n",
            "             /f/formal_garden       0.19      0.38      0.25       100\n",
            "                  /f/fountain       0.68      0.41      0.51       100\n",
            "                    /g/galley       0.08      0.04      0.05       100\n",
            "             /g/garage/indoor       0.34      0.17      0.23       100\n",
            "            /g/garage/outdoor       0.31      0.11      0.16       100\n",
            "               /g/gas_station       0.80      0.71      0.75       100\n",
            "           /g/gazebo/exterior       0.55      0.48      0.51       100\n",
            "      /g/general_store/indoor       0.11      0.20      0.15       100\n",
            "     /g/general_store/outdoor       0.08      0.14      0.10       100\n",
            "                 /g/gift_shop       0.13      0.20      0.16       100\n",
            "                   /g/glacier       0.25      0.38      0.30       100\n",
            "               /g/golf_course       0.73      0.85      0.78       100\n",
            "         /g/greenhouse/indoor       0.59      0.16      0.25       100\n",
            "        /g/greenhouse/outdoor       0.63      0.41      0.50       100\n",
            "                    /g/grotto       0.33      0.34      0.34       100\n",
            "          /g/gymnasium/indoor       0.23      0.07      0.11       100\n",
            "             /h/hangar/indoor       0.67      0.62      0.65       100\n",
            "            /h/hangar/outdoor       0.22      0.27      0.24       100\n",
            "                    /h/harbor       0.26      0.16      0.20       100\n",
            "            /h/hardware_store       0.50      0.17      0.25       100\n",
            "                  /h/hayfield       0.10      0.02      0.03       100\n",
            "                  /h/heliport       0.60      0.53      0.56       100\n",
            "                   /h/highway       0.76      0.32      0.45       100\n",
            "               /h/home_office       0.33      0.65      0.44       100\n",
            "              /h/home_theater       0.61      0.43      0.51       100\n",
            "                  /h/hospital       0.27      0.12      0.17       100\n",
            "             /h/hospital_room       0.49      0.41      0.45       100\n",
            "                /h/hot_spring       0.41      0.40      0.41       100\n",
            "             /h/hotel/outdoor       0.43      0.03      0.06       100\n",
            "                /h/hotel_room       0.50      0.53      0.51       100\n",
            "                     /h/house       0.11      0.09      0.10       100\n",
            "     /h/hunting_lodge/outdoor       0.06      0.52      0.11       100\n",
            "          /i/ice_cream_parlor       0.41      0.46      0.44       100\n",
            "                  /i/ice_floe       0.14      0.10      0.12       100\n",
            "                 /i/ice_shelf       0.29      0.26      0.28       100\n",
            "   /i/ice_skating_rink/indoor       0.41      0.69      0.51       100\n",
            "  /i/ice_skating_rink/outdoor       0.56      0.57      0.57       100\n",
            "                   /i/iceberg       0.70      0.43      0.53       100\n",
            "                     /i/igloo       0.79      0.42      0.55       100\n",
            "           /i/industrial_area       0.17      0.22      0.19       100\n",
            "               /i/inn/outdoor       0.05      0.07      0.06       100\n",
            "                     /i/islet       0.30      0.65      0.41       100\n",
            "            /j/jacuzzi/indoor       0.51      0.56      0.54       100\n",
            "                 /j/jail_cell       0.57      0.42      0.48       100\n",
            "           /j/japanese_garden       0.31      0.62      0.42       100\n",
            "              /j/jewelry_shop       0.42      0.71      0.53       100\n",
            "                  /j/junkyard       0.51      0.35      0.42       100\n",
            "                    /k/kasbah       0.15      0.54      0.23       100\n",
            "            /k/kennel/outdoor       0.34      0.44      0.38       100\n",
            "    /k/kindergarden_classroom       0.49      0.66      0.56       100\n",
            "                   /k/kitchen       0.40      0.73      0.51       100\n",
            "                    /l/lagoon       0.10      0.08      0.09       100\n",
            "              /l/lake/natural       0.21      0.22      0.22       100\n",
            "                  /l/landfill       0.78      0.28      0.41       100\n",
            "              /l/landing_deck       0.34      0.77      0.47       100\n",
            "                /l/laundromat       0.82      0.63      0.71       100\n",
            "                      /l/lawn       0.26      0.17      0.21       100\n",
            "              /l/lecture_room       0.23      0.34      0.27       100\n",
            "       /l/legislative_chamber       0.32      0.29      0.31       100\n",
            "            /l/library/indoor       0.36      0.46      0.41       100\n",
            "           /l/library/outdoor       0.06      0.01      0.02       100\n",
            "                /l/lighthouse       0.71      0.85      0.78       100\n",
            "               /l/living_room       0.23      0.49      0.32       100\n",
            "              /l/loading_dock       0.31      0.11      0.16       100\n",
            "                     /l/lobby       0.20      0.13      0.16       100\n",
            "              /l/lock_chamber       0.00      0.00      0.00       100\n",
            "               /l/locker_room       0.66      0.61      0.64       100\n",
            "                   /m/mansion       0.30      0.13      0.18       100\n",
            "         /m/manufactured_home       0.30      0.32      0.31       100\n",
            "             /m/market/indoor       0.37      0.25      0.30       100\n",
            "            /m/market/outdoor       0.26      0.21      0.23       100\n",
            "                     /m/marsh       0.04      0.03      0.03       100\n",
            "          /m/martial_arts_gym       0.40      0.82      0.54       100\n",
            "                 /m/mausoleum       0.28      0.30      0.29       100\n",
            "                    /m/medina       0.04      0.01      0.02       100\n",
            "                 /m/mezzanine       0.05      0.01      0.02       100\n",
            "                /m/moat/water       0.30      0.35      0.32       100\n",
            "            /m/mosque/outdoor       0.43      0.40      0.41       100\n",
            "                     /m/motel       0.80      0.45      0.58       100\n",
            "                  /m/mountain       0.08      0.02      0.03       100\n",
            "             /m/mountain_path       0.22      0.59      0.32       100\n",
            "            /m/mountain_snowy       0.22      0.42      0.29       100\n",
            "      /m/movie_theater/indoor       0.28      0.31      0.30       100\n",
            "             /m/museum/indoor       0.16      0.07      0.10       100\n",
            "            /m/museum/outdoor       0.29      0.05      0.09       100\n",
            "              /m/music_studio       0.57      0.52      0.54       100\n",
            "    /n/natural_history_museum       0.34      0.71      0.46       100\n",
            "                   /n/nursery       0.67      0.67      0.67       100\n",
            "              /n/nursing_home       0.39      0.46      0.42       100\n",
            "                /o/oast_house       0.21      0.37      0.27       100\n",
            "                     /o/ocean       0.24      0.20      0.22       100\n",
            "                    /o/office       0.00      0.00      0.00       100\n",
            "           /o/office_building       0.15      0.11      0.13       100\n",
            "           /o/office_cubicles       0.58      0.49      0.53       100\n",
            "                    /o/oilrig       0.65      0.32      0.43       100\n",
            "            /o/operating_room       0.62      0.79      0.70       100\n",
            "                   /o/orchard       0.59      0.44      0.50       100\n",
            "             /o/orchestra_pit       0.48      0.39      0.43       100\n",
            "                    /p/pagoda       0.38      0.78      0.51       100\n",
            "                    /p/palace       0.11      0.03      0.05       100\n",
            "                    /p/pantry       0.47      0.62      0.53       100\n",
            "                      /p/park       0.29      0.08      0.12       100\n",
            "     /p/parking_garage/indoor       0.60      0.30      0.40       100\n",
            "    /p/parking_garage/outdoor       0.17      0.18      0.17       100\n",
            "               /p/parking_lot       0.49      0.20      0.28       100\n",
            "                   /p/pasture       0.23      0.48      0.31       100\n",
            "                     /p/patio       0.44      0.34      0.38       100\n",
            "                  /p/pavilion       0.23      0.09      0.13       100\n",
            "                  /p/pet_shop       0.20      0.19      0.20       100\n",
            "                  /p/pharmacy       0.42      0.40      0.41       100\n",
            "               /p/phone_booth       0.89      0.85      0.87       100\n",
            "        /p/physics_laboratory       0.26      0.16      0.20       100\n",
            "               /p/picnic_area       0.28      0.38      0.32       100\n",
            "                      /p/pier       0.28      0.46      0.35       100\n",
            "                  /p/pizzeria       0.70      0.69      0.69       100\n",
            "                /p/playground       0.63      0.72      0.67       100\n",
            "                  /p/playroom       0.34      0.31      0.33       100\n",
            "                     /p/plaza       0.16      0.08      0.11       100\n",
            "                      /p/pond       0.17      0.05      0.08       100\n",
            "                     /p/porch       0.26      0.28      0.27       100\n",
            "                 /p/promenade       0.00      0.00      0.00       100\n",
            "                /p/pub/indoor       0.14      0.16      0.15       100\n",
            "                /r/racecourse       0.43      0.54      0.48       100\n",
            "                   /r/raceway       0.68      0.74      0.71       100\n",
            "                      /r/raft       0.37      0.18      0.24       100\n",
            "            /r/railroad_track       0.51      0.48      0.49       100\n",
            "                /r/rainforest       0.44      0.28      0.34       100\n",
            "                 /r/reception       0.00      0.00      0.00       100\n",
            "           /r/recreation_room       0.40      0.18      0.25       100\n",
            "               /r/repair_shop       0.29      0.20      0.24       100\n",
            "  /r/residential_neighborhood       0.17      0.19      0.18       100\n",
            "                /r/restaurant       0.11      0.04      0.06       100\n",
            "        /r/restaurant_kitchen       0.53      0.46      0.49       100\n",
            "          /r/restaurant_patio       0.32      0.18      0.23       100\n",
            "                /r/rice_paddy       0.53      0.46      0.49       100\n",
            "                     /r/river       0.17      0.07      0.10       100\n",
            "                 /r/rock_arch       0.17      0.17      0.17       100\n",
            "               /r/roof_garden       0.19      0.05      0.08       100\n",
            "               /r/rope_bridge       0.53      0.77      0.63       100\n",
            "                      /r/ruin       0.12      0.01      0.02       100\n",
            "                    /r/runway       0.31      0.25      0.28       100\n",
            "                   /s/sandbox       0.62      0.56      0.59       100\n",
            "                     /s/sauna       0.68      0.55      0.61       100\n",
            "               /s/schoolhouse       0.36      0.71      0.48       100\n",
            "            /s/science_museum       0.18      0.38      0.24       100\n",
            "               /s/server_room       0.63      0.39      0.48       100\n",
            "                      /s/shed       0.38      0.41      0.40       100\n",
            "                 /s/shoe_shop       0.74      0.77      0.75       100\n",
            "                 /s/shopfront       0.29      0.18      0.22       100\n",
            "      /s/shopping_mall/indoor       0.19      0.52      0.28       100\n",
            "                    /s/shower       0.76      0.56      0.64       100\n",
            "                /s/ski_resort       0.22      0.30      0.25       100\n",
            "                 /s/ski_slope       0.35      0.28      0.31       100\n",
            "                       /s/sky       0.72      0.29      0.41       100\n",
            "                /s/skyscraper       0.51      0.38      0.43       100\n",
            "                      /s/slum       0.56      0.50      0.53       100\n",
            "                 /s/snowfield       0.18      0.26      0.21       100\n",
            "              /s/soccer_field       0.52      0.57      0.55       100\n",
            "                    /s/stable       0.41      0.42      0.42       100\n",
            "          /s/stadium/baseball       0.63      0.39      0.48       100\n",
            "          /s/stadium/football       0.28      0.12      0.17       100\n",
            "            /s/stadium/soccer       0.41      0.28      0.33       100\n",
            "              /s/stage/indoor       0.19      0.13      0.15       100\n",
            "             /s/stage/outdoor       0.41      0.36      0.38       100\n",
            "                 /s/staircase       0.43      0.60      0.50       100\n",
            "              /s/storage_room       0.14      0.31      0.20       100\n",
            "                    /s/street       0.22      0.14      0.17       100\n",
            "   /s/subway_station/platform       0.53      0.50      0.52       100\n",
            "               /s/supermarket       0.42      0.46      0.44       100\n",
            "                 /s/sushi_bar       0.43      0.33      0.38       100\n",
            "                     /s/swamp       0.29      0.44      0.35       100\n",
            "             /s/swimming_hole       0.10      0.38      0.16       100\n",
            "      /s/swimming_pool/indoor       0.52      0.64      0.57       100\n",
            "     /s/swimming_pool/outdoor       0.42      0.72      0.53       100\n",
            "         /s/synagogue/outdoor       0.16      0.19      0.18       100\n",
            "           /t/television_room       0.33      0.17      0.23       100\n",
            "         /t/television_studio       0.58      0.38      0.46       100\n",
            "               /t/temple/asia       0.20      0.35      0.26       100\n",
            "               /t/throne_room       0.18      0.09      0.12       100\n",
            "              /t/ticket_booth       0.52      0.32      0.40       100\n",
            "            /t/topiary_garden       0.52      0.35      0.42       100\n",
            "                     /t/tower       0.14      0.04      0.06       100\n",
            "                   /t/toyshop       0.23      0.17      0.20       100\n",
            "            /t/train_interior       0.72      0.43      0.54       100\n",
            "    /t/train_station/platform       0.43      0.78      0.55       100\n",
            "                 /t/tree_farm       0.25      0.20      0.22       100\n",
            "                /t/tree_house       0.40      0.49      0.44       100\n",
            "                    /t/trench       0.18      0.08      0.11       100\n",
            "                    /t/tundra       0.00      0.00      0.00       100\n",
            "     /u/underwater/ocean_deep       0.54      0.58      0.56       100\n",
            "              /u/utility_room       0.29      0.27      0.28       100\n",
            "                    /v/valley       0.04      0.01      0.02       100\n",
            "          /v/vegetable_garden       0.36      0.39      0.37       100\n",
            "      /v/veterinarians_office       0.26      0.42      0.32       100\n",
            "                   /v/viaduct       0.30      0.23      0.26       100\n",
            "                   /v/village       0.20      0.22      0.21       100\n",
            "                  /v/vineyard       0.54      0.73      0.62       100\n",
            "                   /v/volcano       0.58      0.80      0.68       100\n",
            "  /v/volleyball_court/outdoor       0.71      0.85      0.77       100\n",
            "              /w/waiting_room       0.14      0.05      0.07       100\n",
            "                /w/water_park       0.15      0.36      0.21       100\n",
            "               /w/water_tower       0.34      0.66      0.44       100\n",
            "                 /w/waterfall       0.57      0.46      0.51       100\n",
            "             /w/watering_hole       0.12      0.10      0.11       100\n",
            "                      /w/wave       0.68      0.39      0.50       100\n",
            "                   /w/wet_bar       0.01      0.01      0.01       100\n",
            "               /w/wheat_field       0.42      0.65      0.51       100\n",
            "                 /w/wind_farm       0.71      0.89      0.79       100\n",
            "                  /w/windmill       0.74      0.90      0.81       100\n",
            "                      /y/yard       0.33      0.03      0.06       100\n",
            "              /y/youth_hostel       0.13      0.58      0.22       100\n",
            "                /z/zen_garden       0.66      0.35      0.46       100\n",
            "\n",
            "                     accuracy                           0.35     36500\n",
            "                    macro avg       0.38      0.35      0.34     36500\n",
            "                 weighted avg       0.38      0.35      0.34     36500\n",
            "\n"
          ]
        }
      ]
    },
    {
      "cell_type": "code",
      "source": [
        "predictions_rn_np = np.array([pred.cpu().numpy() if isinstance(pred, torch.Tensor) else pred for pred in predictions_rn])"
      ],
      "metadata": {
        "id": "UhlgH0r4Lvs7"
      },
      "execution_count": null,
      "outputs": []
    },
    {
      "cell_type": "code",
      "source": [
        "print(classification_report(all_labels_np, predictions_rn_np, target_names=class_names))"
      ],
      "metadata": {
        "colab": {
          "base_uri": "https://localhost:8080/"
        },
        "id": "UcvSZj0O0W97",
        "outputId": "6e95abb1-3f4e-4be6-fa7f-bc0e3926a4f8"
      },
      "execution_count": null,
      "outputs": [
        {
          "output_type": "stream",
          "name": "stdout",
          "text": [
            "              precision    recall  f1-score   support\n",
            "\n",
            "    airplane       0.84      0.90      0.87      1000\n",
            "  automobile       0.82      0.96      0.88      1000\n",
            "        bird       0.66      0.86      0.75      1000\n",
            "         cat       0.83      0.64      0.72      1000\n",
            "        deer       0.89      0.57      0.70      1000\n",
            "         dog       0.74      0.77      0.76      1000\n",
            "        frog       0.85      0.66      0.74      1000\n",
            "       horse       0.68      0.91      0.78      1000\n",
            "        ship       0.89      0.90      0.90      1000\n",
            "       truck       0.95      0.83      0.89      1000\n",
            "\n",
            "    accuracy                           0.80     10000\n",
            "   macro avg       0.82      0.80      0.80     10000\n",
            "weighted avg       0.82      0.80      0.80     10000\n",
            "\n"
          ]
        }
      ]
    },
    {
      "cell_type": "code",
      "source": [
        "from torchvision.datasets import CocoCaptions"
      ],
      "metadata": {
        "id": "obugLv3GL4Xa"
      },
      "execution_count": null,
      "outputs": []
    },
    {
      "cell_type": "code",
      "source": [
        "import os\n",
        "import requests\n",
        "from zipfile import ZipFile\n",
        "\n",
        "# Paths for saving data\n",
        "coco_path = \"coco\"\n",
        "val_images_url = \"http://images.cocodataset.org/zips/val2017.zip\"\n",
        "annotations_url = \"http://images.cocodataset.org/annotations/annotations_trainval2017.zip\"\n",
        "\n",
        "os.makedirs(coco_path, exist_ok=True)\n",
        "\n",
        "def download_and_extract(url, extract_path):\n",
        "    local_filename = os.path.join(coco_path, url.split(\"/\")[-1])\n",
        "    print(f\"Downloading {url}...\")\n",
        "    with requests.get(url, stream=True) as r:\n",
        "        with open(local_filename, 'wb') as f:\n",
        "            for chunk in r.iter_content(chunk_size=8192):\n",
        "                f.write(chunk)\n",
        "    print(f\"Extracting {local_filename}...\")\n",
        "    with ZipFile(local_filename, 'r') as zip_ref:\n",
        "        zip_ref.extractall(extract_path)\n",
        "    print(\"Done!\")\n",
        "\n",
        "download_and_extract(val_images_url, coco_path)\n",
        "download_and_extract(annotations_url, coco_path)\n"
      ],
      "metadata": {
        "colab": {
          "base_uri": "https://localhost:8080/"
        },
        "id": "f3QY6lpLM2LZ",
        "outputId": "35f8b1a1-59f9-4223-ab21-eb6a05ac7469"
      },
      "execution_count": null,
      "outputs": [
        {
          "output_type": "stream",
          "name": "stdout",
          "text": [
            "Downloading http://images.cocodataset.org/zips/val2017.zip...\n",
            "Extracting coco/val2017.zip...\n",
            "Done!\n",
            "Downloading http://images.cocodataset.org/annotations/annotations_trainval2017.zip...\n",
            "Extracting coco/annotations_trainval2017.zip...\n",
            "Done!\n"
          ]
        }
      ]
    },
    {
      "cell_type": "code",
      "source": [
        "transform = transforms.Compose([\n",
        "    transforms.Resize((224, 224)),\n",
        "    transforms.ToTensor(),\n",
        "    transforms.Normalize(mean=(0.481, 0.457, 0.408), std=(0.268, 0.261, 0.275)),\n",
        "])"
      ],
      "metadata": {
        "id": "POyeUfmrMiP0"
      },
      "execution_count": null,
      "outputs": []
    },
    {
      "cell_type": "code",
      "source": [
        "!pip install pycocotools"
      ],
      "metadata": {
        "colab": {
          "base_uri": "https://localhost:8080/"
        },
        "id": "rOMvTS6WpV_K",
        "outputId": "648c75a0-500f-4371-823d-254f48148200"
      },
      "execution_count": null,
      "outputs": [
        {
          "output_type": "stream",
          "name": "stdout",
          "text": [
            "Collecting pycocotools\n",
            "  Downloading pycocotools-2.0.8-cp310-cp310-manylinux_2_17_x86_64.manylinux2014_x86_64.whl.metadata (1.1 kB)\n",
            "Requirement already satisfied: matplotlib>=2.1.0 in /usr/local/lib/python3.10/dist-packages (from pycocotools) (3.8.0)\n",
            "Requirement already satisfied: numpy in /usr/local/lib/python3.10/dist-packages (from pycocotools) (1.26.4)\n",
            "Requirement already satisfied: contourpy>=1.0.1 in /usr/local/lib/python3.10/dist-packages (from matplotlib>=2.1.0->pycocotools) (1.3.1)\n",
            "Requirement already satisfied: cycler>=0.10 in /usr/local/lib/python3.10/dist-packages (from matplotlib>=2.1.0->pycocotools) (0.12.1)\n",
            "Requirement already satisfied: fonttools>=4.22.0 in /usr/local/lib/python3.10/dist-packages (from matplotlib>=2.1.0->pycocotools) (4.55.3)\n",
            "Requirement already satisfied: kiwisolver>=1.0.1 in /usr/local/lib/python3.10/dist-packages (from matplotlib>=2.1.0->pycocotools) (1.4.7)\n",
            "Requirement already satisfied: packaging>=20.0 in /usr/local/lib/python3.10/dist-packages (from matplotlib>=2.1.0->pycocotools) (24.2)\n",
            "Requirement already satisfied: pillow>=6.2.0 in /usr/local/lib/python3.10/dist-packages (from matplotlib>=2.1.0->pycocotools) (11.0.0)\n",
            "Requirement already satisfied: pyparsing>=2.3.1 in /usr/local/lib/python3.10/dist-packages (from matplotlib>=2.1.0->pycocotools) (3.2.0)\n",
            "Requirement already satisfied: python-dateutil>=2.7 in /usr/local/lib/python3.10/dist-packages (from matplotlib>=2.1.0->pycocotools) (2.9.0.post0)\n",
            "Requirement already satisfied: six>=1.5 in /usr/local/lib/python3.10/dist-packages (from python-dateutil>=2.7->matplotlib>=2.1.0->pycocotools) (1.17.0)\n",
            "Downloading pycocotools-2.0.8-cp310-cp310-manylinux_2_17_x86_64.manylinux2014_x86_64.whl (427 kB)\n",
            "\u001b[2K   \u001b[90m━━━━━━━━━━━━━━━━━━━━━━━━━━━━━━━━━━━━━━━━\u001b[0m \u001b[32m427.8/427.8 kB\u001b[0m \u001b[31m6.4 MB/s\u001b[0m eta \u001b[36m0:00:00\u001b[0m\n",
            "\u001b[?25hInstalling collected packages: pycocotools\n",
            "Successfully installed pycocotools-2.0.8\n"
          ]
        }
      ]
    },
    {
      "cell_type": "code",
      "source": [
        "def load_coco(preprocess,batch_size=32):\n",
        "    coco_dataset = CocoCaptions(\n",
        "    root='coco/val2017',\n",
        "    annFile='coco/annotations/captions_val2017.json',\n",
        "    transform=preprocess\n",
        "    )\n",
        "    coco_loader = DataLoader(coco_dataset, batch_size=32, shuffle=False, num_workers=4)\n",
        "    return coco_loader"
      ],
      "metadata": {
        "id": "2TzILj87qroS"
      },
      "execution_count": null,
      "outputs": []
    },
    {
      "cell_type": "code",
      "source": [
        "from tqdm import tqdm"
      ],
      "metadata": {
        "id": "ObYoUnvzpxG_"
      },
      "execution_count": null,
      "outputs": []
    },
    {
      "cell_type": "code",
      "source": [
        "def evaluate_retrieval(coco_loader, model, model_name):\n",
        "    image_features = []\n",
        "    text_features = []\n",
        "    all_texts = []\n",
        "\n",
        "    with torch.no_grad():\n",
        "        for images, captions in tqdm(coco_loader, desc=f\"Processing {model_name}\"):\n",
        "            images = images.to(device)\n",
        "            img_feat = model.encode_image(images).float()\n",
        "            img_feat /= img_feat.norm(dim=-1, keepdim=True)\n",
        "            image_features.append(img_feat)\n",
        "\n",
        "            for caption in captions:\n",
        "                all_texts.extend(caption)\n",
        "                tokens = clip.tokenize(caption).to(device)\n",
        "                text_feat = model.encode_text(tokens).float()\n",
        "                text_feat /= text_feat.norm(dim=-1, keepdim=True)\n",
        "                text_features.append(text_feat)\n",
        "    image_features = torch.cat(image_features)\n",
        "    text_features = torch.cat(text_features)\n",
        "    similarity_matrix = (text_features @ image_features.T).cpu().numpy()\n",
        "    return all_texts, similarity_matrix"
      ],
      "metadata": {
        "id": "mXib36oYNtIB"
      },
      "execution_count": null,
      "outputs": []
    },
    {
      "cell_type": "code",
      "source": [
        "coco_loader_vit = load_coco(preprocess_vit)\n",
        "evaluate_retrieval(coco_loader_vit, model_vit, \"ViT\")"
      ],
      "metadata": {
        "colab": {
          "base_uri": "https://localhost:8080/",
          "height": 651
        },
        "id": "6OmP5ecbObEn",
        "outputId": "0880ecb7-ac50-4e0f-b9d7-b2459af269fa"
      },
      "execution_count": null,
      "outputs": [
        {
          "output_type": "stream",
          "name": "stdout",
          "text": [
            "loading annotations into memory...\n",
            "Done (t=0.04s)\n",
            "creating index...\n",
            "index created!\n"
          ]
        },
        {
          "output_type": "stream",
          "name": "stderr",
          "text": [
            "Processing ViT:   1%|          | 1/157 [00:50<2:10:25, 50.16s/it]\n"
          ]
        },
        {
          "output_type": "error",
          "ename": "RuntimeError",
          "evalue": "Caught RuntimeError in DataLoader worker process 1.\nOriginal Traceback (most recent call last):\n  File \"/usr/local/lib/python3.10/dist-packages/torch/utils/data/_utils/worker.py\", line 351, in _worker_loop\n    data = fetcher.fetch(index)  # type: ignore[possibly-undefined]\n  File \"/usr/local/lib/python3.10/dist-packages/torch/utils/data/_utils/fetch.py\", line 55, in fetch\n    return self.collate_fn(data)\n  File \"/usr/local/lib/python3.10/dist-packages/torch/utils/data/_utils/collate.py\", line 398, in default_collate\n    return collate(batch, collate_fn_map=default_collate_fn_map)\n  File \"/usr/local/lib/python3.10/dist-packages/torch/utils/data/_utils/collate.py\", line 211, in collate\n    return [\n  File \"/usr/local/lib/python3.10/dist-packages/torch/utils/data/_utils/collate.py\", line 212, in <listcomp>\n    collate(samples, collate_fn_map=collate_fn_map)\n  File \"/usr/local/lib/python3.10/dist-packages/torch/utils/data/_utils/collate.py\", line 207, in collate\n    raise RuntimeError(\"each element in list of batch should be of equal size\")\nRuntimeError: each element in list of batch should be of equal size\n",
          "traceback": [
            "\u001b[0;31m---------------------------------------------------------------------------\u001b[0m",
            "\u001b[0;31mRuntimeError\u001b[0m                              Traceback (most recent call last)",
            "\u001b[0;32m<ipython-input-23-0a8c6437d6c0>\u001b[0m in \u001b[0;36m<cell line: 2>\u001b[0;34m()\u001b[0m\n\u001b[1;32m      1\u001b[0m \u001b[0mcoco_loader_vit\u001b[0m \u001b[0;34m=\u001b[0m \u001b[0mload_coco\u001b[0m\u001b[0;34m(\u001b[0m\u001b[0mpreprocess_vit\u001b[0m\u001b[0;34m)\u001b[0m\u001b[0;34m\u001b[0m\u001b[0;34m\u001b[0m\u001b[0m\n\u001b[0;32m----> 2\u001b[0;31m \u001b[0mevaluate_retrieval\u001b[0m\u001b[0;34m(\u001b[0m\u001b[0mcoco_loader_vit\u001b[0m\u001b[0;34m,\u001b[0m \u001b[0mmodel_vit\u001b[0m\u001b[0;34m,\u001b[0m \u001b[0;34m\"ViT\"\u001b[0m\u001b[0;34m)\u001b[0m\u001b[0;34m\u001b[0m\u001b[0;34m\u001b[0m\u001b[0m\n\u001b[0m",
            "\u001b[0;32m<ipython-input-22-773917a1db89>\u001b[0m in \u001b[0;36mevaluate_retrieval\u001b[0;34m(coco_loader, model, model_name)\u001b[0m\n\u001b[1;32m      5\u001b[0m \u001b[0;34m\u001b[0m\u001b[0m\n\u001b[1;32m      6\u001b[0m     \u001b[0;32mwith\u001b[0m \u001b[0mtorch\u001b[0m\u001b[0;34m.\u001b[0m\u001b[0mno_grad\u001b[0m\u001b[0;34m(\u001b[0m\u001b[0;34m)\u001b[0m\u001b[0;34m:\u001b[0m\u001b[0;34m\u001b[0m\u001b[0;34m\u001b[0m\u001b[0m\n\u001b[0;32m----> 7\u001b[0;31m         \u001b[0;32mfor\u001b[0m \u001b[0mimages\u001b[0m\u001b[0;34m,\u001b[0m \u001b[0mcaptions\u001b[0m \u001b[0;32min\u001b[0m \u001b[0mtqdm\u001b[0m\u001b[0;34m(\u001b[0m\u001b[0mcoco_loader\u001b[0m\u001b[0;34m,\u001b[0m \u001b[0mdesc\u001b[0m\u001b[0;34m=\u001b[0m\u001b[0;34mf\"Processing {model_name}\"\u001b[0m\u001b[0;34m)\u001b[0m\u001b[0;34m:\u001b[0m\u001b[0;34m\u001b[0m\u001b[0;34m\u001b[0m\u001b[0m\n\u001b[0m\u001b[1;32m      8\u001b[0m             \u001b[0;31m# Process images\u001b[0m\u001b[0;34m\u001b[0m\u001b[0;34m\u001b[0m\u001b[0m\n\u001b[1;32m      9\u001b[0m             \u001b[0mimages\u001b[0m \u001b[0;34m=\u001b[0m \u001b[0mimages\u001b[0m\u001b[0;34m.\u001b[0m\u001b[0mto\u001b[0m\u001b[0;34m(\u001b[0m\u001b[0mdevice\u001b[0m\u001b[0;34m)\u001b[0m\u001b[0;34m\u001b[0m\u001b[0;34m\u001b[0m\u001b[0m\n",
            "\u001b[0;32m/usr/local/lib/python3.10/dist-packages/tqdm/std.py\u001b[0m in \u001b[0;36m__iter__\u001b[0;34m(self)\u001b[0m\n\u001b[1;32m   1179\u001b[0m \u001b[0;34m\u001b[0m\u001b[0m\n\u001b[1;32m   1180\u001b[0m         \u001b[0;32mtry\u001b[0m\u001b[0;34m:\u001b[0m\u001b[0;34m\u001b[0m\u001b[0;34m\u001b[0m\u001b[0m\n\u001b[0;32m-> 1181\u001b[0;31m             \u001b[0;32mfor\u001b[0m \u001b[0mobj\u001b[0m \u001b[0;32min\u001b[0m \u001b[0miterable\u001b[0m\u001b[0;34m:\u001b[0m\u001b[0;34m\u001b[0m\u001b[0;34m\u001b[0m\u001b[0m\n\u001b[0m\u001b[1;32m   1182\u001b[0m                 \u001b[0;32myield\u001b[0m \u001b[0mobj\u001b[0m\u001b[0;34m\u001b[0m\u001b[0;34m\u001b[0m\u001b[0m\n\u001b[1;32m   1183\u001b[0m                 \u001b[0;31m# Update and possibly print the progressbar.\u001b[0m\u001b[0;34m\u001b[0m\u001b[0;34m\u001b[0m\u001b[0m\n",
            "\u001b[0;32m/usr/local/lib/python3.10/dist-packages/torch/utils/data/dataloader.py\u001b[0m in \u001b[0;36m__next__\u001b[0;34m(self)\u001b[0m\n\u001b[1;32m    699\u001b[0m                 \u001b[0;31m# TODO(https://github.com/pytorch/pytorch/issues/76750)\u001b[0m\u001b[0;34m\u001b[0m\u001b[0;34m\u001b[0m\u001b[0m\n\u001b[1;32m    700\u001b[0m                 \u001b[0mself\u001b[0m\u001b[0;34m.\u001b[0m\u001b[0m_reset\u001b[0m\u001b[0;34m(\u001b[0m\u001b[0;34m)\u001b[0m  \u001b[0;31m# type: ignore[call-arg]\u001b[0m\u001b[0;34m\u001b[0m\u001b[0;34m\u001b[0m\u001b[0m\n\u001b[0;32m--> 701\u001b[0;31m             \u001b[0mdata\u001b[0m \u001b[0;34m=\u001b[0m \u001b[0mself\u001b[0m\u001b[0;34m.\u001b[0m\u001b[0m_next_data\u001b[0m\u001b[0;34m(\u001b[0m\u001b[0;34m)\u001b[0m\u001b[0;34m\u001b[0m\u001b[0;34m\u001b[0m\u001b[0m\n\u001b[0m\u001b[1;32m    702\u001b[0m             \u001b[0mself\u001b[0m\u001b[0;34m.\u001b[0m\u001b[0m_num_yielded\u001b[0m \u001b[0;34m+=\u001b[0m \u001b[0;36m1\u001b[0m\u001b[0;34m\u001b[0m\u001b[0;34m\u001b[0m\u001b[0m\n\u001b[1;32m    703\u001b[0m             if (\n",
            "\u001b[0;32m/usr/local/lib/python3.10/dist-packages/torch/utils/data/dataloader.py\u001b[0m in \u001b[0;36m_next_data\u001b[0;34m(self)\u001b[0m\n\u001b[1;32m   1443\u001b[0m             \u001b[0;32mif\u001b[0m \u001b[0mlen\u001b[0m\u001b[0;34m(\u001b[0m\u001b[0mself\u001b[0m\u001b[0;34m.\u001b[0m\u001b[0m_task_info\u001b[0m\u001b[0;34m[\u001b[0m\u001b[0mself\u001b[0m\u001b[0;34m.\u001b[0m\u001b[0m_rcvd_idx\u001b[0m\u001b[0;34m]\u001b[0m\u001b[0;34m)\u001b[0m \u001b[0;34m==\u001b[0m \u001b[0;36m2\u001b[0m\u001b[0;34m:\u001b[0m\u001b[0;34m\u001b[0m\u001b[0;34m\u001b[0m\u001b[0m\n\u001b[1;32m   1444\u001b[0m                 \u001b[0mdata\u001b[0m \u001b[0;34m=\u001b[0m \u001b[0mself\u001b[0m\u001b[0;34m.\u001b[0m\u001b[0m_task_info\u001b[0m\u001b[0;34m.\u001b[0m\u001b[0mpop\u001b[0m\u001b[0;34m(\u001b[0m\u001b[0mself\u001b[0m\u001b[0;34m.\u001b[0m\u001b[0m_rcvd_idx\u001b[0m\u001b[0;34m)\u001b[0m\u001b[0;34m[\u001b[0m\u001b[0;36m1\u001b[0m\u001b[0;34m]\u001b[0m\u001b[0;34m\u001b[0m\u001b[0;34m\u001b[0m\u001b[0m\n\u001b[0;32m-> 1445\u001b[0;31m                 \u001b[0;32mreturn\u001b[0m \u001b[0mself\u001b[0m\u001b[0;34m.\u001b[0m\u001b[0m_process_data\u001b[0m\u001b[0;34m(\u001b[0m\u001b[0mdata\u001b[0m\u001b[0;34m)\u001b[0m\u001b[0;34m\u001b[0m\u001b[0;34m\u001b[0m\u001b[0m\n\u001b[0m\u001b[1;32m   1446\u001b[0m \u001b[0;34m\u001b[0m\u001b[0m\n\u001b[1;32m   1447\u001b[0m             \u001b[0;32massert\u001b[0m \u001b[0;32mnot\u001b[0m \u001b[0mself\u001b[0m\u001b[0;34m.\u001b[0m\u001b[0m_shutdown\u001b[0m \u001b[0;32mand\u001b[0m \u001b[0mself\u001b[0m\u001b[0;34m.\u001b[0m\u001b[0m_tasks_outstanding\u001b[0m \u001b[0;34m>\u001b[0m \u001b[0;36m0\u001b[0m\u001b[0;34m\u001b[0m\u001b[0;34m\u001b[0m\u001b[0m\n",
            "\u001b[0;32m/usr/local/lib/python3.10/dist-packages/torch/utils/data/dataloader.py\u001b[0m in \u001b[0;36m_process_data\u001b[0;34m(self, data)\u001b[0m\n\u001b[1;32m   1489\u001b[0m         \u001b[0mself\u001b[0m\u001b[0;34m.\u001b[0m\u001b[0m_try_put_index\u001b[0m\u001b[0;34m(\u001b[0m\u001b[0;34m)\u001b[0m\u001b[0;34m\u001b[0m\u001b[0;34m\u001b[0m\u001b[0m\n\u001b[1;32m   1490\u001b[0m         \u001b[0;32mif\u001b[0m \u001b[0misinstance\u001b[0m\u001b[0;34m(\u001b[0m\u001b[0mdata\u001b[0m\u001b[0;34m,\u001b[0m \u001b[0mExceptionWrapper\u001b[0m\u001b[0;34m)\u001b[0m\u001b[0;34m:\u001b[0m\u001b[0;34m\u001b[0m\u001b[0;34m\u001b[0m\u001b[0m\n\u001b[0;32m-> 1491\u001b[0;31m             \u001b[0mdata\u001b[0m\u001b[0;34m.\u001b[0m\u001b[0mreraise\u001b[0m\u001b[0;34m(\u001b[0m\u001b[0;34m)\u001b[0m\u001b[0;34m\u001b[0m\u001b[0;34m\u001b[0m\u001b[0m\n\u001b[0m\u001b[1;32m   1492\u001b[0m         \u001b[0;32mreturn\u001b[0m \u001b[0mdata\u001b[0m\u001b[0;34m\u001b[0m\u001b[0;34m\u001b[0m\u001b[0m\n\u001b[1;32m   1493\u001b[0m \u001b[0;34m\u001b[0m\u001b[0m\n",
            "\u001b[0;32m/usr/local/lib/python3.10/dist-packages/torch/_utils.py\u001b[0m in \u001b[0;36mreraise\u001b[0;34m(self)\u001b[0m\n\u001b[1;32m    713\u001b[0m             \u001b[0;31m# instantiate since we don't know how to\u001b[0m\u001b[0;34m\u001b[0m\u001b[0;34m\u001b[0m\u001b[0m\n\u001b[1;32m    714\u001b[0m             \u001b[0;32mraise\u001b[0m \u001b[0mRuntimeError\u001b[0m\u001b[0;34m(\u001b[0m\u001b[0mmsg\u001b[0m\u001b[0;34m)\u001b[0m \u001b[0;32mfrom\u001b[0m \u001b[0;32mNone\u001b[0m\u001b[0;34m\u001b[0m\u001b[0;34m\u001b[0m\u001b[0m\n\u001b[0;32m--> 715\u001b[0;31m         \u001b[0;32mraise\u001b[0m \u001b[0mexception\u001b[0m\u001b[0;34m\u001b[0m\u001b[0;34m\u001b[0m\u001b[0m\n\u001b[0m\u001b[1;32m    716\u001b[0m \u001b[0;34m\u001b[0m\u001b[0m\n\u001b[1;32m    717\u001b[0m \u001b[0;34m\u001b[0m\u001b[0m\n",
            "\u001b[0;31mRuntimeError\u001b[0m: Caught RuntimeError in DataLoader worker process 1.\nOriginal Traceback (most recent call last):\n  File \"/usr/local/lib/python3.10/dist-packages/torch/utils/data/_utils/worker.py\", line 351, in _worker_loop\n    data = fetcher.fetch(index)  # type: ignore[possibly-undefined]\n  File \"/usr/local/lib/python3.10/dist-packages/torch/utils/data/_utils/fetch.py\", line 55, in fetch\n    return self.collate_fn(data)\n  File \"/usr/local/lib/python3.10/dist-packages/torch/utils/data/_utils/collate.py\", line 398, in default_collate\n    return collate(batch, collate_fn_map=default_collate_fn_map)\n  File \"/usr/local/lib/python3.10/dist-packages/torch/utils/data/_utils/collate.py\", line 211, in collate\n    return [\n  File \"/usr/local/lib/python3.10/dist-packages/torch/utils/data/_utils/collate.py\", line 212, in <listcomp>\n    collate(samples, collate_fn_map=collate_fn_map)\n  File \"/usr/local/lib/python3.10/dist-packages/torch/utils/data/_utils/collate.py\", line 207, in collate\n    raise RuntimeError(\"each element in list of batch should be of equal size\")\nRuntimeError: each element in list of batch should be of equal size\n"
          ]
        }
      ]
    },
    {
      "cell_type": "code",
      "source": [
        "if os.getcwd()=='/content':\n",
        "    try:\n",
        "        from google.colab import drive\n",
        "        base_working_dir = '/content/drive/MyDrive'\n",
        "        drive.mount('/content/drive')\n",
        "    except:\n",
        "        base_working_dir = os.getcwd()\n",
        "        pass\n",
        "!mkdir -p drive\n",
        "!google-drive-ocamlfuse drive\n",
        "print(base_working_dir)"
      ],
      "metadata": {
        "colab": {
          "base_uri": "https://localhost:8080/"
        },
        "id": "2BiebMtK0I4k",
        "outputId": "7e8be628-7260-4d9b-a156-5309d0111aaf"
      },
      "execution_count": 9,
      "outputs": [
        {
          "output_type": "stream",
          "name": "stdout",
          "text": [
            "Mounted at /content/drive\n",
            "/bin/bash: line 1: google-drive-ocamlfuse: command not found\n",
            "/content/drive/MyDrive\n"
          ]
        }
      ]
    },
    {
      "cell_type": "code",
      "source": [
        "model_vit.load_state_dict(torch.load('/content/drive/My Drive/data/ViT-B-16_best_checkpoint_2.tar'))\n"
      ],
      "metadata": {
        "colab": {
          "base_uri": "https://localhost:8080/"
        },
        "id": "NxSeCCT40T8C",
        "outputId": "9b1e65e2-4a8d-4883-d895-f1dfa1917572"
      },
      "execution_count": 11,
      "outputs": [
        {
          "output_type": "stream",
          "name": "stderr",
          "text": [
            "<ipython-input-11-ec7da317922d>:1: FutureWarning: You are using `torch.load` with `weights_only=False` (the current default value), which uses the default pickle module implicitly. It is possible to construct malicious pickle data which will execute arbitrary code during unpickling (See https://github.com/pytorch/pytorch/blob/main/SECURITY.md#untrusted-models for more details). In a future release, the default value for `weights_only` will be flipped to `True`. This limits the functions that could be executed during unpickling. Arbitrary objects will no longer be allowed to be loaded via this mode unless they are explicitly allowlisted by the user via `torch.serialization.add_safe_globals`. We recommend you start setting `weights_only=True` for any use case where you don't have full control of the loaded file. Please open an issue on GitHub for any issues related to this experimental feature.\n",
            "  model_vit.load_state_dict(torch.load('/content/drive/My Drive/data/ViT-B-16_best_checkpoint_2.tar'))\n"
          ]
        },
        {
          "output_type": "execute_result",
          "data": {
            "text/plain": [
              "<All keys matched successfully>"
            ]
          },
          "metadata": {},
          "execution_count": 11
        }
      ]
    },
    {
      "cell_type": "code",
      "source": [
        "import matplotlib.pyplot as plt\n",
        "from PIL import Image"
      ],
      "metadata": {
        "id": "6lht8biJ49dh"
      },
      "execution_count": 12,
      "outputs": []
    },
    {
      "cell_type": "code",
      "source": [
        "med_descriptions = {\n",
        "    \"ROCO_00002\": \"CT scan in axial view showing obliteration of the left maxillary sinus\",\n",
        "    \"ROCO_00017\": \"Coronary angiogram demonstrating occluded arteries\",\n",
        "    \"ROCO_00028\": \"T2 weighted MRI image showing foraminal extensions of the cysts\",\n",
        "    \"ROCO_00033\": \"Lytic lesions (arrows) involving the humerus.\",\n",
        "    \"ROCO_00050\": \"Free air beneath the diaphragm at abdominal x-ray film\",\n",
        "    \"ROCO_00056\": \"View of giant cell tumor of thumb metacarpal preoperatively\",\n",
        "    \"ROCO_00060\": \"Transverse view of lung using CT.Leukemic infiltration is seen.\",\n",
        "    \"ROCO_00135\": \"CT scan showing multiple non-communicating cysts in liver and kidney\"\n",
        "}"
      ],
      "metadata": {
        "id": "Il_JYZ365Gab"
      },
      "execution_count": 17,
      "outputs": []
    },
    {
      "cell_type": "code",
      "source": [
        "root_dir = \"/content/drive/My Drive/data/pretrain_data/roco/train/radiology/images\"\n"
      ],
      "metadata": {
        "id": "1iUv_MQE5aK3"
      },
      "execution_count": 14,
      "outputs": []
    },
    {
      "cell_type": "code",
      "source": [
        "import pandas as pd\n",
        "\n",
        "df = pd.read_csv('/content/drive/My Drive/data/roco-list.csv')\n",
        "\n",
        "# Filter descriptions that are shorter than 10 words\n",
        "filtered_df = df[df.iloc[:, 1].str.split().apply(len) < 10]\n",
        "# Sample 8 random rows from the filtered DataFrame\n",
        "random_samples = filtered_df.sample(n=8, random_state=42)\n",
        "\n",
        "# Create a dictionary from the sampled rows\n",
        "sampled_dict = {row[0]: row[1].strip() for _, row in random_samples.iterrows()}\n",
        "\n",
        "# Display the resulting dictionary\n",
        "print(sampled_dict)\n"
      ],
      "metadata": {
        "colab": {
          "base_uri": "https://localhost:8080/"
        },
        "id": "qA_xP_2P-VlI",
        "outputId": "252dfe46-a925-4437-9c51-a22581f38295"
      },
      "execution_count": 32,
      "outputs": [
        {
          "output_type": "stream",
          "name": "stdout",
          "text": [
            "{'ROCO_47593.jpg': 'Vitreous hemorrhage one month following vitrectomy.', 'ROCO_16131.jpg': 'MRI: coronal TruFISP image demonstrating the vascular malformation (arrows).', 'ROCO_64291.jpg': 'A regenerative nodule in the cirrhotic liver', 'ROCO_32877.jpg': 'Ultrasonography abdomen after treatment, showing disappearance of ascitic fluid', 'ROCO_17383.jpg': 'Chest X-ray showing Mediastinal enlargement', 'ROCO_72460.jpg': 'Anterior bladder wall paraganglioma', 'ROCO_49186.jpg': 'Image of the Revascularizated LAD', 'ROCO_45562.jpg': 'CT scan transverse section showing asymmetric shoulder dislocation'}\n"
          ]
        },
        {
          "output_type": "stream",
          "name": "stderr",
          "text": [
            "<ipython-input-32-ac8885a1e22f>:11: FutureWarning: Series.__getitem__ treating keys as positions is deprecated. In a future version, integer keys will always be treated as labels (consistent with DataFrame behavior). To access a value by position, use `ser.iloc[pos]`\n",
            "  sampled_dict = {row[0]: row[1].strip() for _, row in random_samples.iterrows()}\n"
          ]
        }
      ]
    },
    {
      "cell_type": "code",
      "source": [
        "med_descriptions = sampled_dict"
      ],
      "metadata": {
        "id": "6272Ga3O_047"
      },
      "execution_count": 33,
      "outputs": []
    },
    {
      "cell_type": "code",
      "source": [
        "original_images = []\n",
        "images = []\n",
        "texts = []\n",
        "for filename in list(med_descriptions.keys()):\n",
        "    image = Image.open(os.path.join(root_dir, filename))\n",
        "    original_images.append(image)\n",
        "    images.append(preprocess_vit(image))\n",
        "    texts.append(med_descriptions[filename])\n",
        "image_input = torch.tensor(np.stack(images)).cuda()\n",
        "text_tokens = clip.tokenize([\"This is \" + desc for desc in texts]).cuda()\n",
        "with torch.no_grad():\n",
        "    image_features = model_vit.encode_image(image_input).float()\n",
        "    text_features = model_vit.encode_text(text_tokens).float()\n",
        "image_features /= image_features.norm(dim=-1, keepdim=True)\n",
        "text_features /= text_features.norm(dim=-1, keepdim=True)\n",
        "similarity = text_features.cpu().numpy() @ image_features.cpu().numpy().T\n",
        "\n",
        "count = len(med_descriptions)\n",
        "\n",
        "plt.figure(figsize=(20, 14))\n",
        "plt.imshow(similarity, vmin=0.1, vmax=0.3)\n",
        "plt.yticks(range(count), texts, fontsize=18)\n",
        "plt.xticks([])\n",
        "for i, image in enumerate(original_images):\n",
        "    plt.imshow(image, extent=(i - 0.5, i + 0.5, -1.6, -0.6), origin=\"lower\")\n",
        "for x in range(similarity.shape[1]):\n",
        "    for y in range(similarity.shape[0]):\n",
        "        plt.text(x, y, f\"{similarity[y, x]:.2f}\", ha=\"center\", va=\"center\", size=12)\n",
        "\n",
        "for side in [\"left\", \"top\", \"right\", \"bottom\"]:\n",
        "  plt.gca().spines[side].set_visible(False)\n",
        "\n",
        "plt.xlim([-0.5, count - 0.5])\n",
        "plt.ylim([count + 0.5, -2])\n",
        "\n",
        "plt.title(\"Cosine similarity between text and image features(medical)\", size=20)"
      ],
      "metadata": {
        "colab": {
          "base_uri": "https://localhost:8080/",
          "height": 595
        },
        "id": "WyjPWFds4Rlq",
        "outputId": "c6d3b1f8-b1fb-469b-9601-7d164f00f7a7"
      },
      "execution_count": 34,
      "outputs": [
        {
          "output_type": "execute_result",
          "data": {
            "text/plain": [
              "Text(0.5, 1.0, 'Cosine similarity between text and image features(medical)')"
            ]
          },
          "metadata": {},
          "execution_count": 34
        },
        {
          "output_type": "display_data",
          "data": {
            "text/plain": [
              "<Figure size 2000x1400 with 1 Axes>"
            ],
            "image/png": "[encoded data removed]"
          },
          "metadata": {}
        }
      ]
    },
    {
      "cell_type": "code",
      "source": [],
      "metadata": {
        "id": "ip68JQqCGu0Z"
      },
      "execution_count": null,
      "outputs": []
    }
  ]
}